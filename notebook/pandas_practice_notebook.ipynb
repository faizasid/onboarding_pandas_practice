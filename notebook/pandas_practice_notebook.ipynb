{
 "cells": [
  {
   "cell_type": "markdown",
   "id": "8c509252-5784-4621-803e-b44e18fc0972",
   "metadata": {},
   "source": [
    "# Data Science Onboarding - Pandas Practice Notebook"
   ]
  },
  {
   "cell_type": "markdown",
   "id": "0180bbd5-8a3a-490f-89ba-2131eb54b219",
   "metadata": {
    "execution": {
     "iopub.execute_input": "2023-05-01T15:14:50.236737Z",
     "iopub.status.busy": "2023-05-01T15:14:50.235739Z",
     "iopub.status.idle": "2023-05-01T15:14:50.256740Z",
     "shell.execute_reply": "2023-05-01T15:14:50.254735Z",
     "shell.execute_reply.started": "2023-05-01T15:14:50.235739Z"
    }
   },
   "source": [
    "In this notebook, we will practice some common data wrangling techniques using Python and the Pandas library."
   ]
  },
  {
   "cell_type": "markdown",
   "id": "f940b21d-af5e-4198-bb9b-b514a96a6f00",
   "metadata": {
    "tags": []
   },
   "source": [
    "## Importing Libraries"
   ]
  },
  {
   "cell_type": "markdown",
   "id": "6623ae45-6e5b-408f-8934-a885deb4d9e8",
   "metadata": {},
   "source": [
    "Before we begin, let's import the necessary libraries."
   ]
  },
  {
   "cell_type": "markdown",
   "id": "cb970c8d-f9ef-4b0d-92ec-24d9bd3942b1",
   "metadata": {},
   "source": [
    "### Task 1: Import Pandas, Numpy, and Plotly Express"
   ]
  },
  {
   "cell_type": "code",
   "execution_count": null,
   "id": "4e7b820b-10e3-4731-b77d-0b50c27d614a",
   "metadata": {},
   "outputs": [],
   "source": []
  },
  {
   "cell_type": "code",
   "execution_count": 109,
   "id": "f9631233-96f4-4917-9bf7-c918960e2451",
   "metadata": {
    "execution": {
     "iopub.execute_input": "2023-05-02T16:17:24.076505Z",
     "iopub.status.busy": "2023-05-02T16:17:24.076505Z",
     "iopub.status.idle": "2023-05-02T16:17:24.090502Z",
     "shell.execute_reply": "2023-05-02T16:17:24.089505Z",
     "shell.execute_reply.started": "2023-05-02T16:17:24.076505Z"
    },
    "jupyter": {
     "source_hidden": true
    },
    "tags": []
   },
   "outputs": [],
   "source": [
    "import pandas as pd\n",
    "import numpy as np\n",
    "import plotly.express as px"
   ]
  },
  {
   "cell_type": "markdown",
   "id": "256ad9b3-cc4f-4c88-98c2-59f646a00e8e",
   "metadata": {
    "tags": []
   },
   "source": [
    "## Loading Data"
   ]
  },
  {
   "cell_type": "markdown",
   "id": "89ff10f0-3e69-4ad4-9269-e32fa1cb9b4a",
   "metadata": {},
   "source": [
    "We'll start by loading some data into a Pandas DataFrame. For this example, we'll use a sample dataset from the Historicals project containing information about the project progress Quantity, project actual hours, and metrics mapping."
   ]
  },
  {
   "cell_type": "markdown",
   "id": "4ecfd18a-3816-4c8a-82a5-39f98598f719",
   "metadata": {},
   "source": [
    "### Task 2: Load the Sample_Progress_Data, Sample_Hour_Data, and Metrics List "
   ]
  },
  {
   "cell_type": "markdown",
   "id": "87592df0-3ad3-45a9-b550-5c7da62f56e0",
   "metadata": {},
   "source": [
    "Load the sample_progress_data.csv file and name it as progress_data<br>\n",
    "Load the sample_hour_data.csv file and name it as actual_hour_data<br>\n",
    "Load the metrics_list.xlsx file and name it as metrics_list"
   ]
  },
  {
   "cell_type": "code",
   "execution_count": 119,
   "id": "023b7781-557c-40b7-abb7-65a05bda03a8",
   "metadata": {
    "execution": {
     "iopub.execute_input": "2023-05-02T16:21:21.196789Z",
     "iopub.status.busy": "2023-05-02T16:21:21.196789Z",
     "iopub.status.idle": "2023-05-02T16:21:21.245919Z",
     "shell.execute_reply": "2023-05-02T16:21:21.244820Z",
     "shell.execute_reply.started": "2023-05-02T16:21:21.196789Z"
    },
    "tags": []
   },
   "outputs": [],
   "source": []
  },
  {
   "cell_type": "code",
   "execution_count": 117,
   "id": "73a33c89-6524-4e8e-9292-cfe4e421162d",
   "metadata": {
    "execution": {
     "iopub.execute_input": "2023-05-02T16:21:18.057321Z",
     "iopub.status.busy": "2023-05-02T16:21:18.056254Z",
     "iopub.status.idle": "2023-05-02T16:21:18.357254Z",
     "shell.execute_reply": "2023-05-02T16:21:18.356301Z",
     "shell.execute_reply.started": "2023-05-02T16:21:18.057321Z"
    },
    "jupyter": {
     "source_hidden": true
    },
    "tags": []
   },
   "outputs": [],
   "source": [
    "progress_data = pd.read_csv('sample_progress_data.csv')\n",
    "actual_hour_data = pd.read_csv('sample_actual_hour_data.csv')\n",
    "metrics_list = pd.read_excel('metrics_list.xlsx', sheet_name ='summary')"
   ]
  },
  {
   "cell_type": "markdown",
   "id": "c44a9d0a-b901-4e73-b4ef-04103da3c47d",
   "metadata": {},
   "source": [
    "## Exploring the Data"
   ]
  },
  {
   "cell_type": "markdown",
   "id": "1f5ca268-1954-4ec4-b56d-eb48e375d8a0",
   "metadata": {},
   "source": [
    "Let's explore the data to get a better understanding of what we're working with."
   ]
  },
  {
   "cell_type": "markdown",
   "id": "df8ab66d-a806-4433-a7a9-b4afb07d35db",
   "metadata": {},
   "source": [
    "### Task 3: display the first 5 rows of the Progress DataFrame. "
   ]
  },
  {
   "cell_type": "code",
   "execution_count": null,
   "id": "705ccf17-ed06-4e6e-bc22-b10e1307f192",
   "metadata": {},
   "outputs": [],
   "source": []
  },
  {
   "cell_type": "code",
   "execution_count": 114,
   "id": "010ee842-d34a-4905-b536-4d5dbb1cd408",
   "metadata": {
    "execution": {
     "iopub.execute_input": "2023-05-02T16:20:41.264914Z",
     "iopub.status.busy": "2023-05-02T16:20:41.264914Z",
     "iopub.status.idle": "2023-05-02T16:20:41.285913Z",
     "shell.execute_reply": "2023-05-02T16:20:41.284914Z",
     "shell.execute_reply.started": "2023-05-02T16:20:41.264914Z"
    },
    "jupyter": {
     "source_hidden": true
    },
    "tags": []
   },
   "outputs": [
    {
     "data": {
      "text/html": [
       "<div><div id=a75d9f05-9f0d-4f60-9c52-e5618c1e342a style=\"display:none; background-color:#9D6CFF; color:white; width:200px; height:30px; padding-left:5px; border-radius:4px; flex-direction:row; justify-content:space-around; align-items:center;\" onmouseover=\"this.style.backgroundColor='#BA9BF8'\" onmouseout=\"this.style.backgroundColor='#9D6CFF'\" onclick=\"window.commands?.execute('create-mitosheet-from-dataframe-output');\">See Full Dataframe in Mito</div> <script> if (window.commands.hasCommand('create-mitosheet-from-dataframe-output')) document.getElementById('a75d9f05-9f0d-4f60-9c52-e5618c1e342a').style.display = 'flex' </script> <table border=\"1\" class=\"dataframe\">\n",
       "  <thead>\n",
       "    <tr style=\"text-align: right;\">\n",
       "      <th></th>\n",
       "      <th>project_number</th>\n",
       "      <th>project_name</th>\n",
       "      <th>cost_code</th>\n",
       "      <th>cc_uom</th>\n",
       "      <th>installed_date</th>\n",
       "      <th>weekending_period_hr</th>\n",
       "      <th>weekending_period_qty</th>\n",
       "      <th>cbs_code</th>\n",
       "      <th>week_ending</th>\n",
       "      <th>cbs_description</th>\n",
       "      <th>costcode</th>\n",
       "    </tr>\n",
       "  </thead>\n",
       "  <tbody>\n",
       "    <tr>\n",
       "      <th>0</th>\n",
       "      <td>1300642</td>\n",
       "      <td>Cascade Power Project</td>\n",
       "      <td>16004200-MAJOR ELEC EQUIP</td>\n",
       "      <td>EA</td>\n",
       "      <td>2022-05-03</td>\n",
       "      <td>2.570</td>\n",
       "      <td>1.000</td>\n",
       "      <td>1815.0</td>\n",
       "      <td>2022-05-07</td>\n",
       "      <td>Major Electrical Equipment</td>\n",
       "      <td>16004200</td>\n",
       "    </tr>\n",
       "    <tr>\n",
       "      <th>1</th>\n",
       "      <td>1300642</td>\n",
       "      <td>Cascade Power Project</td>\n",
       "      <td>16005210-FIELD RUN TRAY</td>\n",
       "      <td>LM</td>\n",
       "      <td>2022-06-26</td>\n",
       "      <td>24.096</td>\n",
       "      <td>24.240</td>\n",
       "      <td>1806.0</td>\n",
       "      <td>2022-07-02</td>\n",
       "      <td>Cable Tray &amp; Supports</td>\n",
       "      <td>16005210</td>\n",
       "    </tr>\n",
       "    <tr>\n",
       "      <th>2</th>\n",
       "      <td>1300642</td>\n",
       "      <td>Cascade Power Project</td>\n",
       "      <td>16005210-FIELD RUN TRAY</td>\n",
       "      <td>LM</td>\n",
       "      <td>2022-07-10</td>\n",
       "      <td>51.806</td>\n",
       "      <td>52.116</td>\n",
       "      <td>1806.0</td>\n",
       "      <td>2022-07-16</td>\n",
       "      <td>Cable Tray &amp; Supports</td>\n",
       "      <td>16005210</td>\n",
       "    </tr>\n",
       "    <tr>\n",
       "      <th>3</th>\n",
       "      <td>1300642</td>\n",
       "      <td>Cascade Power Project</td>\n",
       "      <td>16005210-FIELD RUN TRAY</td>\n",
       "      <td>LM</td>\n",
       "      <td>2022-09-15</td>\n",
       "      <td>12.814</td>\n",
       "      <td>12.890</td>\n",
       "      <td>1806.0</td>\n",
       "      <td>2022-09-17</td>\n",
       "      <td>Cable Tray &amp; Supports</td>\n",
       "      <td>16005210</td>\n",
       "    </tr>\n",
       "    <tr>\n",
       "      <th>4</th>\n",
       "      <td>1300642</td>\n",
       "      <td>Cascade Power Project</td>\n",
       "      <td>16005210-FIELD RUN TRAY</td>\n",
       "      <td>LM</td>\n",
       "      <td>2022-09-15</td>\n",
       "      <td>19.220</td>\n",
       "      <td>12.890</td>\n",
       "      <td>1806.0</td>\n",
       "      <td>2022-09-17</td>\n",
       "      <td>Cable Tray &amp; Supports</td>\n",
       "      <td>16005210</td>\n",
       "    </tr>\n",
       "  </tbody>\n",
       "</table></div>"
      ],
      "text/plain": [
       "   project_number           project_name                  cost_code cc_uom  \\\n",
       "0         1300642  Cascade Power Project  16004200-MAJOR ELEC EQUIP     EA   \n",
       "1         1300642  Cascade Power Project    16005210-FIELD RUN TRAY     LM   \n",
       "2         1300642  Cascade Power Project    16005210-FIELD RUN TRAY     LM   \n",
       "3         1300642  Cascade Power Project    16005210-FIELD RUN TRAY     LM   \n",
       "4         1300642  Cascade Power Project    16005210-FIELD RUN TRAY     LM   \n",
       "\n",
       "  installed_date  weekending_period_hr  weekending_period_qty  cbs_code  \\\n",
       "0     2022-05-03                 2.570                  1.000    1815.0   \n",
       "1     2022-06-26                24.096                 24.240    1806.0   \n",
       "2     2022-07-10                51.806                 52.116    1806.0   \n",
       "3     2022-09-15                12.814                 12.890    1806.0   \n",
       "4     2022-09-15                19.220                 12.890    1806.0   \n",
       "\n",
       "  week_ending             cbs_description  costcode  \n",
       "0  2022-05-07  Major Electrical Equipment  16004200  \n",
       "1  2022-07-02       Cable Tray & Supports  16005210  \n",
       "2  2022-07-16       Cable Tray & Supports  16005210  \n",
       "3  2022-09-17       Cable Tray & Supports  16005210  \n",
       "4  2022-09-17       Cable Tray & Supports  16005210  "
      ]
     },
     "execution_count": 114,
     "metadata": {},
     "output_type": "execute_result"
    }
   ],
   "source": [
    "progress_data.head(5)"
   ]
  },
  {
   "cell_type": "markdown",
   "id": "026dcc53-517c-4964-81a6-07563ff500c7",
   "metadata": {},
   "source": [
    "### Task 4: display the general information about the Progress DataFrame, including number of rows and columns, the data types of each column, and the number of non-null values."
   ]
  },
  {
   "cell_type": "code",
   "execution_count": null,
   "id": "f4e7724b-f728-4a6f-8e14-6eccb52dd176",
   "metadata": {},
   "outputs": [],
   "source": []
  },
  {
   "cell_type": "code",
   "execution_count": 121,
   "id": "399547db-4c0c-45f2-bc31-b962a763649b",
   "metadata": {
    "execution": {
     "iopub.execute_input": "2023-05-02T16:21:27.675666Z",
     "iopub.status.busy": "2023-05-02T16:21:27.673666Z",
     "iopub.status.idle": "2023-05-02T16:21:28.034666Z",
     "shell.execute_reply": "2023-05-02T16:21:28.032670Z",
     "shell.execute_reply.started": "2023-05-02T16:21:27.674666Z"
    },
    "jupyter": {
     "source_hidden": true
    },
    "tags": []
   },
   "outputs": [
    {
     "name": "stdout",
     "output_type": "stream",
     "text": [
      "<class 'pandas.core.frame.DataFrame'>\n",
      "RangeIndex: 185078 entries, 0 to 185077\n",
      "Data columns (total 8 columns):\n",
      " #   Column                 Non-Null Count   Dtype  \n",
      "---  ------                 --------------   -----  \n",
      " 0   project_number         185078 non-null  int64  \n",
      " 1   project_name           185078 non-null  object \n",
      " 2   cost_code              185078 non-null  object \n",
      " 3   cc_uom                 185078 non-null  object \n",
      " 4   installed_date         185078 non-null  object \n",
      " 5   weekending_period_hr   185078 non-null  float64\n",
      " 6   weekending_period_qty  185078 non-null  float64\n",
      " 7   cbs_code               184027 non-null  float64\n",
      "dtypes: float64(3), int64(1), object(4)\n",
      "memory usage: 11.3+ MB\n"
     ]
    }
   ],
   "source": [
    "progress_data.info()"
   ]
  },
  {
   "cell_type": "markdown",
   "id": "4f468d4b-7290-40a8-bd21-982d372338ec",
   "metadata": {},
   "source": [
    "## Cleaning the Data"
   ]
  },
  {
   "cell_type": "markdown",
   "id": "b00ca172-5c10-488e-81c3-17148cc664f7",
   "metadata": {},
   "source": [
    "Now that we have a better understanding of the data, let's clean it up a bit."
   ]
  },
  {
   "cell_type": "markdown",
   "id": "63306bbe-4e91-4769-a03c-08d4a0450f3e",
   "metadata": {},
   "source": [
    "### Task 5: Display the number of missing values in each column of the Progress DataFrame."
   ]
  },
  {
   "cell_type": "code",
   "execution_count": null,
   "id": "037432b3-a4fa-4d2f-bdd3-2404a9b88509",
   "metadata": {},
   "outputs": [],
   "source": []
  },
  {
   "cell_type": "code",
   "execution_count": 122,
   "id": "34a595d7-7249-4689-a514-13fe6b508582",
   "metadata": {
    "execution": {
     "iopub.execute_input": "2023-05-02T16:21:30.737008Z",
     "iopub.status.busy": "2023-05-02T16:21:30.737008Z",
     "iopub.status.idle": "2023-05-02T16:21:30.889104Z",
     "shell.execute_reply": "2023-05-02T16:21:30.888102Z",
     "shell.execute_reply.started": "2023-05-02T16:21:30.737008Z"
    },
    "jupyter": {
     "source_hidden": true
    },
    "tags": []
   },
   "outputs": [
    {
     "data": {
      "text/plain": [
       "project_number              0\n",
       "project_name                0\n",
       "cost_code                   0\n",
       "cc_uom                      0\n",
       "installed_date              0\n",
       "weekending_period_hr        0\n",
       "weekending_period_qty       0\n",
       "cbs_code                 1051\n",
       "dtype: int64"
      ]
     },
     "execution_count": 122,
     "metadata": {},
     "output_type": "execute_result"
    }
   ],
   "source": [
    "progress_data.isnull().sum()"
   ]
  },
  {
   "cell_type": "markdown",
   "id": "52bf704c-dd01-40b4-9b0d-cc3b6f93d261",
   "metadata": {},
   "source": [
    "### Task 6: Drop any rows where the 'cbs_code' column has missing value in the Progress DataFrame."
   ]
  },
  {
   "cell_type": "code",
   "execution_count": null,
   "id": "957d3209-3c42-4f7d-8988-3bb198d0383c",
   "metadata": {},
   "outputs": [],
   "source": []
  },
  {
   "cell_type": "code",
   "execution_count": 123,
   "id": "504ae86f-7350-41bb-a101-e62cbbadc7e0",
   "metadata": {
    "execution": {
     "iopub.execute_input": "2023-05-02T16:21:48.814860Z",
     "iopub.status.busy": "2023-05-02T16:21:48.814860Z",
     "iopub.status.idle": "2023-05-02T16:21:48.845870Z",
     "shell.execute_reply": "2023-05-02T16:21:48.844859Z",
     "shell.execute_reply.started": "2023-05-02T16:21:48.814860Z"
    },
    "jupyter": {
     "source_hidden": true
    },
    "tags": []
   },
   "outputs": [],
   "source": [
    "progress_data = progress_data.dropna(subset=['cbs_code'])\n",
    "progress_data.info()"
   ]
  },
  {
   "cell_type": "markdown",
   "id": "0187d26d-6546-4d34-80d1-7ea181d37be1",
   "metadata": {},
   "source": [
    "## Transforming the Data"
   ]
  },
  {
   "cell_type": "markdown",
   "id": "914960b0-91f2-4b5f-b1cc-0060f042fa76",
   "metadata": {},
   "source": [
    "Now that the data is clean, let's transform it a bit."
   ]
  },
  {
   "cell_type": "markdown",
   "id": "11489d48-538a-416b-adf8-f5435816898c",
   "metadata": {},
   "source": [
    "### Step 7: Creating New Columns in the Progress DataFrame called 'week_ending', which is the date of the Saturday of the corresponding week of the installed date."
   ]
  },
  {
   "cell_type": "code",
   "execution_count": null,
   "id": "e11c85e6-ccdc-4ad4-8cf8-595936fa1db2",
   "metadata": {},
   "outputs": [],
   "source": []
  },
  {
   "cell_type": "code",
   "execution_count": 125,
   "id": "f43f75d6-327b-40e3-862d-c5acc5b57626",
   "metadata": {
    "execution": {
     "iopub.execute_input": "2023-05-02T16:22:20.798497Z",
     "iopub.status.busy": "2023-05-02T16:22:20.797497Z",
     "iopub.status.idle": "2023-05-02T16:22:20.812496Z",
     "shell.execute_reply": "2023-05-02T16:22:20.811496Z",
     "shell.execute_reply.started": "2023-05-02T16:22:20.798497Z"
    },
    "jupyter": {
     "source_hidden": true
    },
    "tags": []
   },
   "outputs": [],
   "source": [
    "from pandas.tseries.offsets import *\n",
    "progress_data['installed_date'] = pd.to_datetime(progress_data['installed_date']).dt.date\n",
    "progress_data['week_ending'] = progress_data['installed_date'] + Week(weekday=5)"
   ]
  },
  {
   "cell_type": "markdown",
   "id": "5cecd7c3-1892-47ae-8b4d-c128668ca69e",
   "metadata": {},
   "source": [
    "### Step 8: Lookup CBS description from the Metrics List and add it to the Progress DataFrame"
   ]
  },
  {
   "cell_type": "code",
   "execution_count": 130,
   "id": "26f25800-654d-40f3-b210-0403a3b0690c",
   "metadata": {
    "execution": {
     "iopub.execute_input": "2023-05-02T16:23:24.795462Z",
     "iopub.status.busy": "2023-05-02T16:23:24.794463Z",
     "iopub.status.idle": "2023-05-02T16:23:24.804465Z",
     "shell.execute_reply": "2023-05-02T16:23:24.803464Z",
     "shell.execute_reply.started": "2023-05-02T16:23:24.795462Z"
    },
    "tags": []
   },
   "outputs": [],
   "source": []
  },
  {
   "cell_type": "code",
   "execution_count": 129,
   "id": "d6c1af08-7ead-4da0-be81-30b20a06bea6",
   "metadata": {
    "execution": {
     "iopub.execute_input": "2023-05-02T16:23:23.246786Z",
     "iopub.status.busy": "2023-05-02T16:23:23.246786Z",
     "iopub.status.idle": "2023-05-02T16:23:23.266747Z",
     "shell.execute_reply": "2023-05-02T16:23:23.265777Z",
     "shell.execute_reply.started": "2023-05-02T16:23:23.246786Z"
    },
    "jupyter": {
     "source_hidden": true
    },
    "tags": []
   },
   "outputs": [],
   "source": [
    "metrics_list_sub = metrics_list[['CBS CODE', 'CBS DESCRIPTION']]\n",
    "metrics_list_sub = metrics_list_sub.rename(columns = {'CBS CODE': 'cbs_code', 'CBS DESCRIPTION':'cbs_description'})\n",
    "progress_data = pd.merge(progress_data, metrics_list_sub, on='cbs_code', how='left')"
   ]
  },
  {
   "cell_type": "markdown",
   "id": "b68d77ce-c30f-4875-92d3-2d61b1d97de4",
   "metadata": {},
   "source": [
    "### Step 9: Add column named 'costcode' in the Progress DataFrame, which is the digit number portion of the 'cost_code' column"
   ]
  },
  {
   "cell_type": "code",
   "execution_count": null,
   "id": "d266818d-1920-4867-89ae-cc8a6e261c90",
   "metadata": {},
   "outputs": [],
   "source": []
  },
  {
   "cell_type": "code",
   "execution_count": 133,
   "id": "b74e0e0b-2fee-49b3-a182-e5d3586d99bb",
   "metadata": {
    "execution": {
     "iopub.execute_input": "2023-05-02T16:24:16.510915Z",
     "iopub.status.busy": "2023-05-02T16:24:16.509954Z",
     "iopub.status.idle": "2023-05-02T16:24:17.121647Z",
     "shell.execute_reply": "2023-05-02T16:24:17.120644Z",
     "shell.execute_reply.started": "2023-05-02T16:24:16.510915Z"
    },
    "jupyter": {
     "source_hidden": true
    },
    "tags": []
   },
   "outputs": [],
   "source": [
    "progress_data['costcode'] = progress_data['cost_code'].str.split('-',expand=True)[0]"
   ]
  },
  {
   "cell_type": "markdown",
   "id": "6d0ef240-96d2-489a-8151-f0dacdfa2380",
   "metadata": {},
   "source": [
    "The Progress DataFrame should look similar to the screenshot below by the end of this part"
   ]
  },
  {
   "attachments": {
    "917c775d-264e-4463-a809-822258001440.png": {
     "image/png": "[encoded data removed]"
    }
   },
   "cell_type": "markdown",
   "id": "49afb191-3b63-417b-b39b-09c924617287",
   "metadata": {},
   "source": [
    "![image.png](attachment:917c775d-264e-4463-a809-822258001440.png)"
   ]
  },
  {
   "cell_type": "markdown",
   "id": "1e1f115e-6ce9-436a-ab68-2ce6387d2ce2",
   "metadata": {},
   "source": [
    "## Grouping and Aggregating Data"
   ]
  },
  {
   "cell_type": "markdown",
   "id": "343e40fd-7f7c-441b-bfc2-4a8b81371152",
   "metadata": {},
   "source": [
    "### Step 10: Summerize the actual hour data by 'week_ending' and 'costcode' from actual_hour_data DataFrame"
   ]
  },
  {
   "cell_type": "markdown",
   "id": "fba88d02-69e7-400c-bc26-c3c9e30d773e",
   "metadata": {},
   "source": [
    "Name the summerized dataframe as sum_actual_hour"
   ]
  },
  {
   "cell_type": "code",
   "execution_count": null,
   "id": "b71cc32f-cc39-4b63-a143-1aa3bf74e33d",
   "metadata": {},
   "outputs": [],
   "source": []
  },
  {
   "cell_type": "code",
   "execution_count": 136,
   "id": "d832ceac-3905-44f1-9c23-573f11c81086",
   "metadata": {
    "execution": {
     "iopub.execute_input": "2023-05-02T16:26:52.666614Z",
     "iopub.status.busy": "2023-05-02T16:26:52.666614Z",
     "iopub.status.idle": "2023-05-02T16:26:52.694623Z",
     "shell.execute_reply": "2023-05-02T16:26:52.693621Z",
     "shell.execute_reply.started": "2023-05-02T16:26:52.666614Z"
    },
    "jupyter": {
     "source_hidden": true
    },
    "tags": []
   },
   "outputs": [
    {
     "name": "stderr",
     "output_type": "stream",
     "text": [
      "C:\\Users\\CFeng\\AppData\\Local\\Temp\\ipykernel_21000\\1402340008.py:1: FutureWarning:\n",
      "\n",
      "The default value of numeric_only in DataFrameGroupBy.sum is deprecated. In a future version, numeric_only will default to False. Either specify numeric_only or select only columns which should be valid for the function.\n",
      "\n"
     ]
    }
   ],
   "source": [
    "sum_actual_hour = actual_hour_data.groupby(['week_ending', 'costcode']).sum().reset_index()\n",
    "sum_actual_hour = sum_actual_hour.drop(columns=['project_number'])\n",
    "sum_actual_hour['week_ending'] = pd.to_datetime(sum_actual_hour['week_ending'])\n",
    "sum_actual_hour['costcode'] = sum_actual_hour['costcode'].astype(str)"
   ]
  },
  {
   "cell_type": "markdown",
   "id": "b3305d33-acd7-4835-a2ae-6446d1006243",
   "metadata": {},
   "source": [
    "### Step 11: Summerize the 'weekending_period_qty' by 'week_ending' and 'costcode' from progress_data"
   ]
  },
  {
   "cell_type": "markdown",
   "id": "9d75724f-f7a5-4626-a47b-aec4b0c33ca5",
   "metadata": {},
   "source": [
    "Name the summerized dataframe from this step as sum_progress_data"
   ]
  },
  {
   "cell_type": "code",
   "execution_count": 145,
   "id": "e925788d-b1fc-437b-a5bc-7870a39b2a09",
   "metadata": {
    "execution": {
     "iopub.execute_input": "2023-05-02T16:30:02.603190Z",
     "iopub.status.busy": "2023-05-02T16:30:02.603190Z",
     "iopub.status.idle": "2023-05-02T16:30:02.659238Z",
     "shell.execute_reply": "2023-05-02T16:30:02.658233Z",
     "shell.execute_reply.started": "2023-05-02T16:30:02.603190Z"
    },
    "tags": []
   },
   "outputs": [],
   "source": []
  },
  {
   "cell_type": "code",
   "execution_count": 142,
   "id": "e2efdeb2-5ad9-4304-adbc-8cfc6e705410",
   "metadata": {
    "execution": {
     "iopub.execute_input": "2023-05-02T16:28:28.004312Z",
     "iopub.status.busy": "2023-05-02T16:28:28.004312Z",
     "iopub.status.idle": "2023-05-02T16:28:28.049313Z",
     "shell.execute_reply": "2023-05-02T16:28:28.048345Z",
     "shell.execute_reply.started": "2023-05-02T16:28:28.004312Z"
    },
    "jupyter": {
     "source_hidden": true
    },
    "tags": []
   },
   "outputs": [],
   "source": [
    "progress_data_sub = progress_data[['costcode', 'week_ending', 'weekending_period_qty']]\n",
    "sum_progress_data = progress_data_sub.groupby(['week_ending', 'costcode']).sum().reset_index()"
   ]
  },
  {
   "cell_type": "markdown",
   "id": "3864a49b-156d-4b63-b8b6-e0c522b6cdc5",
   "metadata": {},
   "source": [
    "### Step 12: Merge the sum_actual_hour and sum_progress_data dataframe from Step 10 and Step 11 to get the weekending_period_qty and actual hour by costcode and weekending"
   ]
  },
  {
   "cell_type": "markdown",
   "id": "b7261f1d-766d-45c6-87ad-9e87419c0ffe",
   "metadata": {},
   "source": [
    "Name the merged dataframe as merged_df"
   ]
  },
  {
   "cell_type": "code",
   "execution_count": null,
   "id": "fbf8e626-a43d-4513-98ee-29b2976dfe03",
   "metadata": {},
   "outputs": [],
   "source": []
  },
  {
   "cell_type": "code",
   "execution_count": 147,
   "id": "b24d77f6-e00f-4c87-8350-4c83485dbc72",
   "metadata": {
    "execution": {
     "iopub.execute_input": "2023-05-02T16:31:05.061665Z",
     "iopub.status.busy": "2023-05-02T16:31:05.061665Z",
     "iopub.status.idle": "2023-05-02T16:31:05.091662Z",
     "shell.execute_reply": "2023-05-02T16:31:05.090661Z",
     "shell.execute_reply.started": "2023-05-02T16:31:05.061665Z"
    },
    "jupyter": {
     "source_hidden": true
    },
    "tags": []
   },
   "outputs": [],
   "source": [
    "merged_df = pd.merge(sum_progress_data, sum_actual_hour, on = ['week_ending','costcode'], how = 'outer')\n",
    "merged_df"
   ]
  },
  {
   "cell_type": "markdown",
   "id": "f53025e7-06ad-4f4d-b692-f0edefff2058",
   "metadata": {},
   "source": [
    "### Step 13: Find the month ending date from the week_ending data from the merged_df generated in Step 12"
   ]
  },
  {
   "cell_type": "code",
   "execution_count": null,
   "id": "fb0c4658-66e8-480c-9c75-a91c396fe83f",
   "metadata": {},
   "outputs": [],
   "source": []
  },
  {
   "cell_type": "code",
   "execution_count": 149,
   "id": "cd7bef6e-6755-419f-913c-f05e74e1f17e",
   "metadata": {
    "execution": {
     "iopub.execute_input": "2023-05-02T16:32:08.916427Z",
     "iopub.status.busy": "2023-05-02T16:32:08.916427Z",
     "iopub.status.idle": "2023-05-02T16:32:08.935455Z",
     "shell.execute_reply": "2023-05-02T16:32:08.935455Z",
     "shell.execute_reply.started": "2023-05-02T16:32:08.916427Z"
    },
    "jupyter": {
     "source_hidden": true
    },
    "tags": []
   },
   "outputs": [],
   "source": [
    "merged_df['month_ending'] = merged_df['week_ending'] + pd.offsets.MonthEnd(0) "
   ]
  },
  {
   "cell_type": "markdown",
   "id": "07ad5cd8-c980-48b9-9592-6f29f48023dc",
   "metadata": {},
   "source": [
    "The merged_df should look similar to the screenshot below by the end of this step"
   ]
  },
  {
   "attachments": {
    "7560bd47-ada7-49d2-8eb0-6157f4af7c1b.png": {
     "image/png": "[encoded data removed]"
    }
   },
   "cell_type": "markdown",
   "id": "5db5ea43-aaaa-4be4-9e8b-d355cfdb3537",
   "metadata": {},
   "source": [
    "![image.png](attachment:7560bd47-ada7-49d2-8eb0-6157f4af7c1b.png)"
   ]
  },
  {
   "cell_type": "markdown",
   "id": "6315fb13-9671-4072-911d-80dbe918243e",
   "metadata": {},
   "source": [
    "### Step 14: Aggregate the weekending_period_qty and period_hrs by month_ending and costcode"
   ]
  },
  {
   "cell_type": "markdown",
   "id": "3b1181be-142b-4e1f-bef4-bdfa35b2c806",
   "metadata": {},
   "source": [
    "Name the merged dataframe as merged_df_by_month"
   ]
  },
  {
   "cell_type": "code",
   "execution_count": null,
   "id": "5c390807-0183-47d0-abde-63fef6dcdbc3",
   "metadata": {},
   "outputs": [],
   "source": []
  },
  {
   "cell_type": "code",
   "execution_count": 151,
   "id": "0d9dc6a5-d9a0-47c4-b435-b147a043d6d5",
   "metadata": {
    "execution": {
     "iopub.execute_input": "2023-05-02T16:33:36.508318Z",
     "iopub.status.busy": "2023-05-02T16:33:36.508318Z",
     "iopub.status.idle": "2023-05-02T16:33:36.523359Z",
     "shell.execute_reply": "2023-05-02T16:33:36.522354Z",
     "shell.execute_reply.started": "2023-05-02T16:33:36.508318Z"
    },
    "jupyter": {
     "source_hidden": true
    },
    "tags": []
   },
   "outputs": [
    {
     "name": "stderr",
     "output_type": "stream",
     "text": [
      "C:\\Users\\CFeng\\AppData\\Local\\Temp\\ipykernel_21000\\2278630053.py:1: FutureWarning:\n",
      "\n",
      "The default value of numeric_only in DataFrameGroupBy.sum is deprecated. In a future version, numeric_only will default to False. Either specify numeric_only or select only columns which should be valid for the function.\n",
      "\n"
     ]
    }
   ],
   "source": [
    "merged_df_by_month = merged_df.groupby(['month_ending', 'costcode']).sum().reset_index()"
   ]
  },
  {
   "cell_type": "markdown",
   "id": "10beb535-2190-4d8d-82ee-c7be554c4722",
   "metadata": {},
   "source": [
    "### Step 15: Lookup the cbs description from the costcode"
   ]
  },
  {
   "cell_type": "code",
   "execution_count": null,
   "id": "3224d786-0729-4c83-831c-e1b1b8e2d4fc",
   "metadata": {},
   "outputs": [],
   "source": []
  },
  {
   "cell_type": "code",
   "execution_count": 153,
   "id": "a7135a18-baad-4764-964a-e8b2640e0b76",
   "metadata": {
    "execution": {
     "iopub.execute_input": "2023-05-02T16:35:29.291534Z",
     "iopub.status.busy": "2023-05-02T16:35:29.291534Z",
     "iopub.status.idle": "2023-05-02T16:35:29.344536Z",
     "shell.execute_reply": "2023-05-02T16:35:29.343535Z",
     "shell.execute_reply.started": "2023-05-02T16:35:29.291534Z"
    },
    "jupyter": {
     "source_hidden": true
    },
    "tags": []
   },
   "outputs": [],
   "source": [
    "costcode_list = progress_data[['costcode', 'cbs_description']].drop_duplicates()\n",
    "merged_df_by_month = pd.merge(merged_df_by_month, costcode_list, on='costcode', how='left')"
   ]
  },
  {
   "cell_type": "markdown",
   "id": "ecbaefe3-9c87-4c85-84f4-2f2386782d12",
   "metadata": {},
   "source": [
    "### Step 16: Drop the n/a cbs_description rows"
   ]
  },
  {
   "cell_type": "code",
   "execution_count": null,
   "id": "c5168b65-0c27-4ac0-ad0c-cdfb8a0e326e",
   "metadata": {},
   "outputs": [],
   "source": []
  },
  {
   "cell_type": "code",
   "execution_count": 156,
   "id": "f0f09e8b-4375-4af5-8683-d7ea0622eadf",
   "metadata": {
    "execution": {
     "iopub.execute_input": "2023-05-02T16:36:09.820520Z",
     "iopub.status.busy": "2023-05-02T16:36:09.820520Z",
     "iopub.status.idle": "2023-05-02T16:36:09.838508Z",
     "shell.execute_reply": "2023-05-02T16:36:09.838508Z",
     "shell.execute_reply.started": "2023-05-02T16:36:09.820520Z"
    },
    "jupyter": {
     "source_hidden": true
    },
    "tags": []
   },
   "outputs": [],
   "source": [
    "merged_df_by_month = merged_df_by_month.dropna(subset=['cbs_description'])"
   ]
  },
  {
   "cell_type": "markdown",
   "id": "e8ee7259-450a-4b44-9810-560fccc1d60c",
   "metadata": {},
   "source": [
    "### Step 17: Aggregate the weekending_period_qty and period_hrs by cbs_description and month_ending"
   ]
  },
  {
   "cell_type": "code",
   "execution_count": null,
   "id": "9d099689-4c18-4850-b962-3b48813c9478",
   "metadata": {},
   "outputs": [],
   "source": []
  },
  {
   "cell_type": "code",
   "execution_count": 158,
   "id": "aba9def0-8036-4eb0-a74c-d8072e12c16e",
   "metadata": {
    "execution": {
     "iopub.execute_input": "2023-05-02T16:37:05.820580Z",
     "iopub.status.busy": "2023-05-02T16:37:05.820580Z",
     "iopub.status.idle": "2023-05-02T16:37:05.832578Z",
     "shell.execute_reply": "2023-05-02T16:37:05.831574Z",
     "shell.execute_reply.started": "2023-05-02T16:37:05.820580Z"
    },
    "jupyter": {
     "source_hidden": true
    },
    "tags": []
   },
   "outputs": [
    {
     "name": "stderr",
     "output_type": "stream",
     "text": [
      "C:\\Users\\CFeng\\AppData\\Local\\Temp\\ipykernel_21000\\1362855746.py:1: FutureWarning:\n",
      "\n",
      "The default value of numeric_only in DataFrameGroupBy.sum is deprecated. In a future version, numeric_only will default to False. Either specify numeric_only or select only columns which should be valid for the function.\n",
      "\n"
     ]
    }
   ],
   "source": [
    "merged_df_by_month = merged_df_by_month.groupby(['month_ending', 'cbs_description']).sum().reset_index()"
   ]
  },
  {
   "cell_type": "markdown",
   "id": "f0bee0a1-79db-488a-9e74-cb6e2715d085",
   "metadata": {},
   "source": [
    "### Step 18: Add column 'production_rate' which is equal to the 'weekending_period_qty' divided by 'period_hrs' "
   ]
  },
  {
   "cell_type": "code",
   "execution_count": null,
   "id": "780ad7ef-a17f-4124-a0a9-4665707f9805",
   "metadata": {},
   "outputs": [],
   "source": []
  },
  {
   "cell_type": "code",
   "execution_count": 160,
   "id": "9af8f138-a9d5-42c5-8e58-619d2efef26c",
   "metadata": {
    "execution": {
     "iopub.execute_input": "2023-05-02T16:37:32.732202Z",
     "iopub.status.busy": "2023-05-02T16:37:32.731201Z",
     "iopub.status.idle": "2023-05-02T16:37:32.741202Z",
     "shell.execute_reply": "2023-05-02T16:37:32.741202Z",
     "shell.execute_reply.started": "2023-05-02T16:37:32.732202Z"
    },
    "jupyter": {
     "source_hidden": true
    },
    "tags": []
   },
   "outputs": [],
   "source": [
    "merged_df_by_month['production_rate'] = merged_df_by_month['weekending_period_qty']/merged_df_by_month['period_hrs']"
   ]
  },
  {
   "cell_type": "markdown",
   "id": "dde57cb3-3579-4266-bcf8-3ffb096bb3c9",
   "metadata": {
    "execution": {
     "iopub.execute_input": "2023-05-02T16:39:05.385910Z",
     "iopub.status.busy": "2023-05-02T16:39:05.385910Z",
     "iopub.status.idle": "2023-05-02T16:39:05.418907Z",
     "shell.execute_reply": "2023-05-02T16:39:05.417914Z",
     "shell.execute_reply.started": "2023-05-02T16:39:05.385910Z"
    }
   },
   "source": [
    "The final dataframe should look similar to the screenshot below at the end of this part"
   ]
  },
  {
   "attachments": {
    "d7eacc3a-75c9-4ddc-9d1f-7aa5a91d3de7.png": {
     "image/png": "[encoded data removed]"
    }
   },
   "cell_type": "markdown",
   "id": "f8bd20fd-bbfd-4ac0-9a6b-78c4e1957e32",
   "metadata": {},
   "source": [
    "![image.png](attachment:d7eacc3a-75c9-4ddc-9d1f-7aa5a91d3de7.png)"
   ]
  },
  {
   "cell_type": "markdown",
   "id": "6e7ef9d4-a568-4bf3-8ad8-a29796a86188",
   "metadata": {},
   "source": [
    "## Visualizing the Data"
   ]
  },
  {
   "cell_type": "markdown",
   "id": "e5f08613-f9fb-4924-b3ba-c044b9aef77e",
   "metadata": {},
   "source": [
    "Finally, let's visualize the data to get some insights."
   ]
  },
  {
   "cell_type": "markdown",
   "id": "fd2831c6-2fd1-4c9f-b695-6c90fa60e172",
   "metadata": {},
   "source": [
    "### Step 19: Display the monthly Production Rate timeseries by cbs_description "
   ]
  },
  {
   "cell_type": "code",
   "execution_count": null,
   "id": "9e7c548c-6b8b-421e-a792-96931eb2a0aa",
   "metadata": {},
   "outputs": [],
   "source": []
  },
  {
   "cell_type": "code",
   "execution_count": 164,
   "id": "f10f2678-a24a-4a8e-a12a-bb15a4272ee5",
   "metadata": {
    "execution": {
     "iopub.execute_input": "2023-05-02T16:42:18.025709Z",
     "iopub.status.busy": "2023-05-02T16:42:18.025709Z",
     "iopub.status.idle": "2023-05-02T16:42:18.372158Z",
     "shell.execute_reply": "2023-05-02T16:42:18.371155Z",
     "shell.execute_reply.started": "2023-05-02T16:42:18.025709Z"
    },
    "jupyter": {
     "source_hidden": true
    },
    "tags": []
   },
   "outputs": [
    {
     "data": {
      "application/vnd.plotly.v1+json": {
       "config": {
        "plotlyServerURL": "https://plot.ly"
       },
       "data": [
        {
         "hovertemplate": "cbs_description=Civil - Site Prep<br>month_ending=%{x}<br>production_rate=%{y}<extra></extra>",
         "legendgroup": "Civil - Site Prep",
         "line": {
          "color": "#636efa",
          "dash": "solid"
         },
         "marker": {
          "symbol": "circle"
         },
         "mode": "lines",
         "name": "Civil - Site Prep",
         "orientation": "v",
         "showlegend": true,
         "type": "scatter",
         "x": [
          "2020-11-30T00:00:00",
          "2020-12-31T00:00:00",
          "2021-01-31T00:00:00",
          "2021-02-28T00:00:00",
          "2021-03-31T00:00:00",
          "2021-04-30T00:00:00",
          "2021-05-31T00:00:00",
          "2021-06-30T00:00:00",
          "2021-07-31T00:00:00",
          "2021-08-31T00:00:00",
          "2021-09-30T00:00:00",
          "2021-10-31T00:00:00",
          "2021-11-30T00:00:00",
          "2021-12-31T00:00:00",
          "2022-02-28T00:00:00",
          "2022-03-31T00:00:00",
          "2022-05-31T00:00:00",
          "2022-08-31T00:00:00",
          "2022-09-30T00:00:00",
          "2022-10-31T00:00:00",
          "2022-11-30T00:00:00"
         ],
         "xaxis": "x",
         "y": [
          0,
          null,
          null,
          0,
          null,
          0,
          41.99805003679176,
          59.145516331962256,
          5.090063258372432,
          2.5301279624330473,
          1.3502964748741026,
          4.454194109829811,
          3.5677035402136483,
          8.218736973739057,
          0,
          0,
          0,
          null,
          null,
          null,
          null
         ],
         "yaxis": "y"
        },
        {
         "hovertemplate": "cbs_description=Concrete - Miscellaneous<br>month_ending=%{x}<br>production_rate=%{y}<extra></extra>",
         "legendgroup": "Concrete - Miscellaneous",
         "line": {
          "color": "#EF553B",
          "dash": "solid"
         },
         "marker": {
          "symbol": "circle"
         },
         "mode": "lines",
         "name": "Concrete - Miscellaneous",
         "orientation": "v",
         "showlegend": true,
         "type": "scatter",
         "x": [
          "2020-11-30T00:00:00",
          "2020-12-31T00:00:00",
          "2021-01-31T00:00:00",
          "2021-03-31T00:00:00",
          "2021-04-30T00:00:00",
          "2021-05-31T00:00:00",
          "2021-06-30T00:00:00",
          "2021-07-31T00:00:00",
          "2021-08-31T00:00:00",
          "2021-09-30T00:00:00",
          "2021-10-31T00:00:00",
          "2021-11-30T00:00:00",
          "2021-12-31T00:00:00",
          "2022-01-31T00:00:00",
          "2022-02-28T00:00:00",
          "2022-03-31T00:00:00",
          "2022-04-30T00:00:00",
          "2022-05-31T00:00:00",
          "2022-06-30T00:00:00",
          "2022-07-31T00:00:00",
          "2022-08-31T00:00:00",
          "2022-09-30T00:00:00",
          "2022-10-31T00:00:00",
          "2022-11-30T00:00:00",
          "2022-12-31T00:00:00",
          "2023-01-31T00:00:00",
          "2023-02-28T00:00:00",
          "2023-03-31T00:00:00"
         ],
         "xaxis": "x",
         "y": [
          0,
          0.6224543080939947,
          null,
          null,
          0.2703684438664933,
          0.682212144116906,
          1.213161407491487,
          0.979807362918474,
          0.7697010745685444,
          0.33058392465488323,
          0.6489447832536673,
          0.8141526915113871,
          1.1447812499999999,
          0.8491887550200803,
          0.3276642264519278,
          0.2924863636363636,
          0.3837723859041016,
          1.3545982830728593,
          0.5818577648766328,
          0.7202497308934338,
          2.4197978759849263,
          0.43421814671814674,
          0.4424627336732217,
          0.04319,
          0.2160204234870101,
          0.3983785488958991,
          0.2103148479427549,
          1.6142241379310345
         ],
         "yaxis": "y"
        },
        {
         "hovertemplate": "cbs_description=Piling - Cast in Place<br>month_ending=%{x}<br>production_rate=%{y}<extra></extra>",
         "legendgroup": "Piling - Cast in Place",
         "line": {
          "color": "#00cc96",
          "dash": "solid"
         },
         "marker": {
          "symbol": "circle"
         },
         "mode": "lines",
         "name": "Piling - Cast in Place",
         "orientation": "v",
         "showlegend": true,
         "type": "scatter",
         "x": [
          "2021-01-31T00:00:00",
          "2021-02-28T00:00:00",
          "2021-03-31T00:00:00",
          "2021-04-30T00:00:00",
          "2021-05-31T00:00:00",
          "2021-06-30T00:00:00",
          "2021-07-31T00:00:00",
          "2021-08-31T00:00:00",
          "2021-09-30T00:00:00",
          "2021-10-31T00:00:00",
          "2021-11-30T00:00:00",
          "2021-12-31T00:00:00",
          "2022-01-31T00:00:00",
          "2022-02-28T00:00:00",
          "2022-04-30T00:00:00",
          "2022-05-31T00:00:00",
          "2022-06-30T00:00:00"
         ],
         "xaxis": "x",
         "y": [
          0,
          1.775,
          0.47368421052631576,
          0.05445116681071737,
          0.173053152039555,
          0.4224289665577068,
          1.3036342321219225,
          0.6404744255003706,
          0,
          0.10471204188481675,
          0.20433996383363473,
          0.12544802867383512,
          0,
          0,
          0.1592920353982301,
          0,
          0.12371134020618557
         ],
         "yaxis": "y"
        },
        {
         "hovertemplate": "cbs_description=Concrete - Equipment Foundations<br>month_ending=%{x}<br>production_rate=%{y}<extra></extra>",
         "legendgroup": "Concrete - Equipment Foundations",
         "line": {
          "color": "#ab63fa",
          "dash": "solid"
         },
         "marker": {
          "symbol": "circle"
         },
         "mode": "lines",
         "name": "Concrete - Equipment Foundations",
         "orientation": "v",
         "showlegend": true,
         "type": "scatter",
         "x": [
          "2021-03-31T00:00:00",
          "2021-04-30T00:00:00",
          "2021-05-31T00:00:00",
          "2021-06-30T00:00:00",
          "2021-07-31T00:00:00",
          "2021-08-31T00:00:00",
          "2021-09-30T00:00:00",
          "2021-10-31T00:00:00",
          "2021-11-30T00:00:00",
          "2021-12-31T00:00:00",
          "2022-01-31T00:00:00",
          "2022-02-28T00:00:00",
          "2022-03-31T00:00:00",
          "2022-04-30T00:00:00",
          "2022-05-31T00:00:00",
          "2022-06-30T00:00:00",
          "2022-07-31T00:00:00",
          "2022-08-31T00:00:00",
          "2022-09-30T00:00:00",
          "2022-10-31T00:00:00",
          "2022-11-30T00:00:00",
          "2022-12-31T00:00:00",
          "2023-01-31T00:00:00"
         ],
         "xaxis": "x",
         "y": [
          1.069527896995708,
          0.8896658896658897,
          1.1163522012578617,
          1.3257744207756936,
          0.7933591231463571,
          0.24892768128741047,
          0.457298039605931,
          1.1228598791471895,
          1.6476853680430879,
          2.0547060621497706,
          1.0475841995841995,
          0.5207217694994178,
          0.14837413394919166,
          3.0785888738127545,
          1.0546234531526224,
          1.1900362694300517,
          0.488661311914324,
          0.8656714313687097,
          0.4221509433962264,
          0.8755700325732899,
          0.5096237623762376,
          0.9726666666666667,
          0
         ],
         "yaxis": "y"
        },
        {
         "hovertemplate": "cbs_description=Electrical - Miscellaneous<br>month_ending=%{x}<br>production_rate=%{y}<extra></extra>",
         "legendgroup": "Electrical - Miscellaneous",
         "line": {
          "color": "#FFA15A",
          "dash": "solid"
         },
         "marker": {
          "symbol": "circle"
         },
         "mode": "lines",
         "name": "Electrical - Miscellaneous",
         "orientation": "v",
         "showlegend": true,
         "type": "scatter",
         "x": [
          "2021-03-31T00:00:00",
          "2021-04-30T00:00:00",
          "2021-05-31T00:00:00",
          "2021-06-30T00:00:00",
          "2021-07-31T00:00:00",
          "2021-08-31T00:00:00",
          "2021-09-30T00:00:00",
          "2021-10-31T00:00:00",
          "2021-11-30T00:00:00",
          "2021-12-31T00:00:00",
          "2022-01-31T00:00:00",
          "2022-02-28T00:00:00",
          "2022-03-31T00:00:00",
          "2022-04-30T00:00:00",
          "2022-05-31T00:00:00",
          "2022-06-30T00:00:00",
          "2022-07-31T00:00:00",
          "2022-08-31T00:00:00",
          "2022-09-30T00:00:00",
          "2022-10-31T00:00:00",
          "2022-11-30T00:00:00",
          "2022-12-31T00:00:00",
          "2023-01-31T00:00:00",
          "2023-02-28T00:00:00",
          "2023-03-31T00:00:00"
         ],
         "xaxis": "x",
         "y": [
          0,
          0.9728301886792453,
          2.3870370370370373,
          1.3743718887262077,
          2.471487316421896,
          2.1334864048338367,
          4.527972711768051,
          1.8952091906721538,
          3.2544445765230314,
          2.7804071856287425,
          0.17391304347826086,
          0.05263157894736842,
          57.96875,
          -2.1779087686133338e-16,
          1.1549019607843138,
          0.49747899159663866,
          1.1889250814332248,
          19.152727272727276,
          12.295721925133691,
          8.523747790218032,
          4.148570007460831,
          7.811591071570418,
          5.253095590864967,
          4.755978165077277,
          5.348937258034781
         ],
         "yaxis": "y"
        },
        {
         "hovertemplate": "cbs_description=Grounding<br>month_ending=%{x}<br>production_rate=%{y}<extra></extra>",
         "legendgroup": "Grounding",
         "line": {
          "color": "#19d3f3",
          "dash": "solid"
         },
         "marker": {
          "symbol": "circle"
         },
         "mode": "lines",
         "name": "Grounding",
         "orientation": "v",
         "showlegend": true,
         "type": "scatter",
         "x": [
          "2021-03-31T00:00:00",
          "2021-04-30T00:00:00",
          "2021-05-31T00:00:00",
          "2021-06-30T00:00:00",
          "2021-07-31T00:00:00",
          "2021-08-31T00:00:00",
          "2021-09-30T00:00:00",
          "2021-10-31T00:00:00",
          "2021-11-30T00:00:00",
          "2021-12-31T00:00:00",
          "2022-01-31T00:00:00",
          "2022-02-28T00:00:00",
          "2022-03-31T00:00:00",
          "2022-04-30T00:00:00",
          "2022-05-31T00:00:00",
          "2022-06-30T00:00:00",
          "2022-07-31T00:00:00",
          "2022-08-31T00:00:00",
          "2022-09-30T00:00:00",
          "2022-10-31T00:00:00",
          "2022-11-30T00:00:00",
          "2022-12-31T00:00:00",
          "2023-01-31T00:00:00",
          "2023-02-28T00:00:00",
          "2023-03-31T00:00:00"
         ],
         "xaxis": "x",
         "y": [
          0,
          14.101090909090908,
          3.3232901023890786,
          5.263674858223062,
          1.1288465346534653,
          0.7919799498746867,
          9.373666419570053,
          2.8004915590863955,
          7.613398823529412,
          6.520882807852469,
          4.444949494949494,
          3.475573076923077,
          1.9482751091703059,
          3.480391304347826,
          1.8930304671631686,
          2.2419685430463576,
          1.9505114653854554,
          2.1017496503496504,
          1.7986331849968213,
          0.38809187279151935,
          2.8345884586180716,
          0.6234458977407847,
          0.1935041928721174,
          0.8829787234042553,
          0.4594285714285714
         ],
         "yaxis": "y"
        },
        {
         "hovertemplate": "cbs_description=Hydrotesting<br>month_ending=%{x}<br>production_rate=%{y}<extra></extra>",
         "legendgroup": "Hydrotesting",
         "line": {
          "color": "#FF6692",
          "dash": "solid"
         },
         "marker": {
          "symbol": "circle"
         },
         "mode": "lines",
         "name": "Hydrotesting",
         "orientation": "v",
         "showlegend": true,
         "type": "scatter",
         "x": [
          "2021-04-30T00:00:00",
          "2021-05-31T00:00:00",
          "2021-06-30T00:00:00",
          "2021-07-31T00:00:00",
          "2021-08-31T00:00:00",
          "2021-09-30T00:00:00",
          "2021-10-31T00:00:00",
          "2021-11-30T00:00:00",
          "2021-12-31T00:00:00",
          "2022-05-31T00:00:00",
          "2022-06-30T00:00:00",
          "2022-07-31T00:00:00",
          "2022-08-31T00:00:00",
          "2022-09-30T00:00:00",
          "2022-10-31T00:00:00",
          "2022-11-30T00:00:00",
          "2022-12-31T00:00:00",
          "2023-01-31T00:00:00",
          "2023-02-28T00:00:00",
          "2023-03-31T00:00:00",
          "2023-04-30T00:00:00"
         ],
         "xaxis": "x",
         "y": [
          0,
          2.970279937791602,
          4.043746682750301,
          2.5872355343771276,
          1.88303609580569,
          1.1964292933618843,
          2.6353245257452573,
          1.5807267326732675,
          5.260978723404255,
          0,
          0,
          null,
          0,
          0,
          0,
          0.03459958192171845,
          0.046803484423446035,
          0.028608795161026646,
          0.04498541758727353,
          0.033106798949518526,
          null
         ],
         "yaxis": "y"
        },
        {
         "hovertemplate": "cbs_description=Tanks<br>month_ending=%{x}<br>production_rate=%{y}<extra></extra>",
         "legendgroup": "Tanks",
         "line": {
          "color": "#B6E880",
          "dash": "solid"
         },
         "marker": {
          "symbol": "circle"
         },
         "mode": "lines",
         "name": "Tanks",
         "orientation": "v",
         "showlegend": true,
         "type": "scatter",
         "x": [
          "2021-04-30T00:00:00",
          "2021-06-30T00:00:00",
          "2021-08-31T00:00:00",
          "2021-09-30T00:00:00",
          "2021-10-31T00:00:00",
          "2021-11-30T00:00:00",
          "2021-12-31T00:00:00",
          "2022-01-31T00:00:00",
          "2022-02-28T00:00:00",
          "2022-03-31T00:00:00",
          "2022-04-30T00:00:00",
          "2022-05-31T00:00:00",
          "2022-06-30T00:00:00",
          "2022-07-31T00:00:00",
          "2022-09-30T00:00:00",
          "2022-10-31T00:00:00",
          "2022-11-30T00:00:00",
          "2022-12-31T00:00:00",
          "2023-01-31T00:00:00",
          "2023-02-28T00:00:00",
          "2023-03-31T00:00:00"
         ],
         "xaxis": "x",
         "y": [
          0.022284122562674095,
          0,
          0.04664723032069971,
          0,
          0,
          0,
          0.7554545454545454,
          null,
          null,
          2.6272,
          2.5984251968503935,
          0.19458937198067633,
          0.3775586854460094,
          3.4158823529411766,
          0.011723122238586157,
          4.71,
          0.035398230088495575,
          null,
          0,
          0.08636363636363636,
          0
         ],
         "yaxis": "y"
        },
        {
         "hovertemplate": "cbs_description=U/G - Carbon Steel (JY)<br>month_ending=%{x}<br>production_rate=%{y}<extra></extra>",
         "legendgroup": "U/G - Carbon Steel (JY)",
         "line": {
          "color": "#FF97FF",
          "dash": "solid"
         },
         "marker": {
          "symbol": "circle"
         },
         "mode": "lines",
         "name": "U/G - Carbon Steel (JY)",
         "orientation": "v",
         "showlegend": true,
         "type": "scatter",
         "x": [
          "2021-04-30T00:00:00",
          "2021-05-31T00:00:00",
          "2021-06-30T00:00:00",
          "2021-07-31T00:00:00",
          "2021-08-31T00:00:00",
          "2021-09-30T00:00:00",
          "2021-10-31T00:00:00",
          "2021-11-30T00:00:00",
          "2021-12-31T00:00:00",
          "2022-01-31T00:00:00",
          "2022-05-31T00:00:00",
          "2022-06-30T00:00:00",
          "2022-07-31T00:00:00",
          "2022-08-31T00:00:00",
          "2022-09-30T00:00:00",
          "2022-10-31T00:00:00",
          "2022-11-30T00:00:00",
          "2023-01-31T00:00:00",
          "2023-02-28T00:00:00"
         ],
         "xaxis": "x",
         "y": [
          0.10298423236514523,
          0.3407568831168831,
          0.4775646645474318,
          0.47127717391304347,
          0.4811557839468245,
          0.2871361382632101,
          0.4526905987935854,
          1.0938875091307523,
          null,
          0,
          0.03174814814814815,
          0.10810810810810811,
          null,
          0,
          0,
          null,
          null,
          null,
          0.4444444444444444
         ],
         "yaxis": "y"
        },
        {
         "hovertemplate": "cbs_description=U/G - HDPE<br>month_ending=%{x}<br>production_rate=%{y}<extra></extra>",
         "legendgroup": "U/G - HDPE",
         "line": {
          "color": "#FECB52",
          "dash": "solid"
         },
         "marker": {
          "symbol": "circle"
         },
         "mode": "lines",
         "name": "U/G - HDPE",
         "orientation": "v",
         "showlegend": true,
         "type": "scatter",
         "x": [
          "2021-04-30T00:00:00",
          "2021-05-31T00:00:00",
          "2021-06-30T00:00:00",
          "2021-07-31T00:00:00",
          "2021-08-31T00:00:00",
          "2021-09-30T00:00:00",
          "2021-10-31T00:00:00",
          "2021-11-30T00:00:00",
          "2021-12-31T00:00:00",
          "2022-01-31T00:00:00",
          "2022-03-31T00:00:00",
          "2022-05-31T00:00:00",
          "2022-07-31T00:00:00",
          "2022-08-31T00:00:00",
          "2022-12-31T00:00:00",
          "2023-01-31T00:00:00",
          "2023-03-31T00:00:00"
         ],
         "xaxis": "x",
         "y": [
          1.2262773722627738,
          1.3388188096021045,
          1.082240534521158,
          0.8217570451436388,
          1.227711241977106,
          0.9739166397415185,
          1.167726980038635,
          3.128535714285714,
          3.3815965665236054,
          0,
          0,
          0,
          1.1935014245014244,
          0,
          null,
          null,
          null
         ],
         "yaxis": "y"
        },
        {
         "hovertemplate": "cbs_description=Ancilliary Steel<br>month_ending=%{x}<br>production_rate=%{y}<extra></extra>",
         "legendgroup": "Ancilliary Steel",
         "line": {
          "color": "#636efa",
          "dash": "solid"
         },
         "marker": {
          "symbol": "circle"
         },
         "mode": "lines",
         "name": "Ancilliary Steel",
         "orientation": "v",
         "showlegend": true,
         "type": "scatter",
         "x": [
          "2021-05-31T00:00:00",
          "2021-07-31T00:00:00",
          "2021-09-30T00:00:00",
          "2021-10-31T00:00:00",
          "2021-11-30T00:00:00",
          "2021-12-31T00:00:00",
          "2022-01-31T00:00:00",
          "2022-02-28T00:00:00",
          "2022-03-31T00:00:00",
          "2022-04-30T00:00:00",
          "2022-05-31T00:00:00",
          "2022-06-30T00:00:00",
          "2022-07-31T00:00:00",
          "2022-08-31T00:00:00",
          "2022-09-30T00:00:00",
          "2022-10-31T00:00:00",
          "2022-11-30T00:00:00",
          "2022-12-31T00:00:00",
          "2023-01-31T00:00:00",
          "2023-02-28T00:00:00",
          "2023-03-31T00:00:00"
         ],
         "xaxis": "x",
         "y": [
          null,
          null,
          null,
          null,
          0.477984,
          0.8084210526315789,
          0.043841155234657044,
          0.0826470588235294,
          0.24167741935483872,
          null,
          null,
          0.20874545454545457,
          1.08675,
          0.22373913043478258,
          0.035148387096774196,
          0.02557467911318553,
          0.031355990387916234,
          0.8796455696202532,
          0.1764,
          0.012473684210526316,
          0.03978409090909091
         ],
         "yaxis": "y"
        },
        {
         "hovertemplate": "cbs_description=Cathodic Protection<br>month_ending=%{x}<br>production_rate=%{y}<extra></extra>",
         "legendgroup": "Cathodic Protection",
         "line": {
          "color": "#EF553B",
          "dash": "solid"
         },
         "marker": {
          "symbol": "circle"
         },
         "mode": "lines",
         "name": "Cathodic Protection",
         "orientation": "v",
         "showlegend": true,
         "type": "scatter",
         "x": [
          "2021-05-31T00:00:00",
          "2021-06-30T00:00:00",
          "2021-07-31T00:00:00",
          "2021-08-31T00:00:00",
          "2021-09-30T00:00:00",
          "2021-10-31T00:00:00",
          "2021-11-30T00:00:00",
          "2021-12-31T00:00:00",
          "2022-01-31T00:00:00",
          "2022-02-28T00:00:00",
          "2022-03-31T00:00:00",
          "2022-04-30T00:00:00",
          "2022-05-31T00:00:00",
          "2022-06-30T00:00:00",
          "2022-07-31T00:00:00",
          "2022-08-31T00:00:00",
          "2022-10-31T00:00:00",
          "2022-11-30T00:00:00",
          "2022-12-31T00:00:00",
          "2023-01-31T00:00:00"
         ],
         "xaxis": "x",
         "y": [
          1.4417877094972067,
          18.704941176470587,
          3.517426273458445,
          4.987387387387387,
          3.63302752293578,
          2.031154598825832,
          24.100640000000002,
          3.0555555555555554,
          0,
          0.1,
          0.43137254901960786,
          0,
          0,
          0,
          0.16666666666666666,
          null,
          0,
          0.005952380952380952,
          null,
          0
         ],
         "yaxis": "y"
        },
        {
         "hovertemplate": "cbs_description=Civil - Miscellaneous<br>month_ending=%{x}<br>production_rate=%{y}<extra></extra>",
         "legendgroup": "Civil - Miscellaneous",
         "line": {
          "color": "#00cc96",
          "dash": "solid"
         },
         "marker": {
          "symbol": "circle"
         },
         "mode": "lines",
         "name": "Civil - Miscellaneous",
         "orientation": "v",
         "showlegend": true,
         "type": "scatter",
         "x": [
          "2021-05-31T00:00:00",
          "2021-06-30T00:00:00",
          "2021-07-31T00:00:00",
          "2021-08-31T00:00:00",
          "2021-09-30T00:00:00",
          "2021-10-31T00:00:00",
          "2021-11-30T00:00:00",
          "2021-12-31T00:00:00",
          "2022-01-31T00:00:00",
          "2022-02-28T00:00:00",
          "2022-03-31T00:00:00",
          "2022-04-30T00:00:00",
          "2022-05-31T00:00:00",
          "2022-06-30T00:00:00",
          "2022-07-31T00:00:00",
          "2022-08-31T00:00:00",
          "2022-09-30T00:00:00",
          "2022-10-31T00:00:00",
          "2022-11-30T00:00:00",
          "2022-12-31T00:00:00",
          "2023-01-31T00:00:00",
          "2023-02-28T00:00:00"
         ],
         "xaxis": "x",
         "y": [
          69.50492610837438,
          44.36532265446225,
          23.019404715127703,
          4.9486178861788614,
          6.8540833333333335,
          40.61037890204521,
          98.8497075471698,
          null,
          0.9581250000000001,
          9.704761904761904,
          9.413793103448276,
          1.7950138504155124,
          5.293674698795181,
          0,
          1.478405315614618,
          1.9633082706766916,
          0.7784646061814556,
          8.033105639396346,
          9.463992623328723,
          null,
          2.6485950413223143,
          null
         ],
         "yaxis": "y"
        },
        {
         "hovertemplate": "cbs_description=Concrete - Columns and Elevated Beams<br>month_ending=%{x}<br>production_rate=%{y}<extra></extra>",
         "legendgroup": "Concrete - Columns and Elevated Beams",
         "line": {
          "color": "#ab63fa",
          "dash": "solid"
         },
         "marker": {
          "symbol": "circle"
         },
         "mode": "lines",
         "name": "Concrete - Columns and Elevated Beams",
         "orientation": "v",
         "showlegend": true,
         "type": "scatter",
         "x": [
          "2021-05-31T00:00:00",
          "2021-06-30T00:00:00",
          "2021-07-31T00:00:00",
          "2021-08-31T00:00:00",
          "2021-09-30T00:00:00",
          "2021-10-31T00:00:00",
          "2021-11-30T00:00:00",
          "2021-12-31T00:00:00",
          "2022-01-31T00:00:00",
          "2022-02-28T00:00:00",
          "2022-03-31T00:00:00",
          "2022-04-30T00:00:00",
          "2022-05-31T00:00:00",
          "2022-06-30T00:00:00",
          "2022-07-31T00:00:00",
          "2022-08-31T00:00:00",
          "2022-09-30T00:00:00",
          "2022-10-31T00:00:00",
          "2022-11-30T00:00:00",
          "2022-12-31T00:00:00",
          "2023-01-31T00:00:00",
          "2023-02-28T00:00:00"
         ],
         "xaxis": "x",
         "y": [
          0,
          null,
          null,
          0.7333695219123506,
          0.5280352644836271,
          0.45400744345834526,
          0.40339508506616256,
          1.450564901349948,
          0.45187726503986475,
          0.6031449236538977,
          1.402351046698873,
          0.47956521739130437,
          0.11812578616352201,
          0.5472782874617738,
          0,
          0.22168498168498166,
          0.37012987012987014,
          0.26859649122807017,
          0,
          0,
          0,
          0
         ],
         "yaxis": "y"
        },
        {
         "hovertemplate": "cbs_description=Concrete - Grout<br>month_ending=%{x}<br>production_rate=%{y}<extra></extra>",
         "legendgroup": "Concrete - Grout",
         "line": {
          "color": "#FFA15A",
          "dash": "solid"
         },
         "marker": {
          "symbol": "circle"
         },
         "mode": "lines",
         "name": "Concrete - Grout",
         "orientation": "v",
         "showlegend": true,
         "type": "scatter",
         "x": [
          "2021-05-31T00:00:00",
          "2021-09-30T00:00:00",
          "2021-10-31T00:00:00",
          "2021-11-30T00:00:00",
          "2021-12-31T00:00:00",
          "2022-01-31T00:00:00",
          "2022-02-28T00:00:00",
          "2022-03-31T00:00:00",
          "2022-04-30T00:00:00",
          "2022-05-31T00:00:00",
          "2022-06-30T00:00:00",
          "2022-07-31T00:00:00",
          "2022-08-31T00:00:00",
          "2022-09-30T00:00:00",
          "2022-10-31T00:00:00",
          "2022-11-30T00:00:00",
          "2022-12-31T00:00:00",
          "2023-01-31T00:00:00",
          "2023-02-28T00:00:00",
          "2023-03-31T00:00:00"
         ],
         "xaxis": "x",
         "y": [
          0,
          0,
          0.004364455039067673,
          0.01059047619047619,
          0.019639178515007898,
          0.011447665056360709,
          0.02492169873921699,
          0.017845258871436884,
          0.012483119353304803,
          0.012922519509476033,
          0.01456177296430004,
          0.011594810748576247,
          0.045728525613244336,
          0.03309025506867234,
          0.03738575982996812,
          0.0454784889821616,
          0.09617758985200846,
          0.011093768905021175,
          0.01072314049586777,
          0.00664058209774849
         ],
         "yaxis": "y"
        },
        {
         "hovertemplate": "cbs_description=Civil - Fencing<br>month_ending=%{x}<br>production_rate=%{y}<extra></extra>",
         "legendgroup": "Civil - Fencing",
         "line": {
          "color": "#19d3f3",
          "dash": "solid"
         },
         "marker": {
          "symbol": "circle"
         },
         "mode": "lines",
         "name": "Civil - Fencing",
         "orientation": "v",
         "showlegend": true,
         "type": "scatter",
         "x": [
          "2021-06-30T00:00:00",
          "2021-08-31T00:00:00",
          "2022-01-31T00:00:00",
          "2022-11-30T00:00:00"
         ],
         "xaxis": "x",
         "y": [
          0,
          0,
          null,
          null
         ],
         "yaxis": "y"
        },
        {
         "hovertemplate": "cbs_description=Concrete - Grade Beams<br>month_ending=%{x}<br>production_rate=%{y}<extra></extra>",
         "legendgroup": "Concrete - Grade Beams",
         "line": {
          "color": "#FF6692",
          "dash": "solid"
         },
         "marker": {
          "symbol": "circle"
         },
         "mode": "lines",
         "name": "Concrete - Grade Beams",
         "orientation": "v",
         "showlegend": true,
         "type": "scatter",
         "x": [
          "2021-06-30T00:00:00",
          "2021-07-31T00:00:00",
          "2021-08-31T00:00:00",
          "2021-09-30T00:00:00",
          "2021-10-31T00:00:00",
          "2021-11-30T00:00:00",
          "2021-12-31T00:00:00",
          "2022-01-31T00:00:00",
          "2022-02-28T00:00:00",
          "2022-03-31T00:00:00",
          "2022-04-30T00:00:00",
          "2022-05-31T00:00:00",
          "2022-08-31T00:00:00"
         ],
         "xaxis": "x",
         "y": [
          0,
          0.237551186440678,
          0.5354097421203439,
          0.10896375784571777,
          1.0505148076390811,
          0.445607697501688,
          2.1444972577696526,
          1.158344202898551,
          0.2751597167584579,
          0.634390625,
          0.780863309352518,
          4.1825,
          0
         ],
         "yaxis": "y"
        },
        {
         "hovertemplate": "cbs_description=Concrete - Pile Caps<br>month_ending=%{x}<br>production_rate=%{y}<extra></extra>",
         "legendgroup": "Concrete - Pile Caps",
         "line": {
          "color": "#B6E880",
          "dash": "solid"
         },
         "marker": {
          "symbol": "circle"
         },
         "mode": "lines",
         "name": "Concrete - Pile Caps",
         "orientation": "v",
         "showlegend": true,
         "type": "scatter",
         "x": [
          "2021-06-30T00:00:00",
          "2021-07-31T00:00:00",
          "2021-08-31T00:00:00",
          "2021-09-30T00:00:00",
          "2021-10-31T00:00:00",
          "2021-11-30T00:00:00",
          "2021-12-31T00:00:00",
          "2022-01-31T00:00:00",
          "2022-02-28T00:00:00",
          "2022-04-30T00:00:00",
          "2022-05-31T00:00:00",
          "2022-06-30T00:00:00",
          "2022-08-31T00:00:00",
          "2022-10-31T00:00:00"
         ],
         "xaxis": "x",
         "y": [
          0.5273804347826088,
          1.3274943977591036,
          1.2860222698072805,
          0.9071987966909001,
          0.9570413589364845,
          0.7346234629444999,
          1.298111944027986,
          0.8876494023904382,
          0.6927843137254902,
          1.3589268292682926,
          2.905364806866953,
          0.6035820895522388,
          null,
          null
         ],
         "yaxis": "y"
        },
        {
         "hovertemplate": "cbs_description=Concrete - Walls and Elevated Slabs<br>month_ending=%{x}<br>production_rate=%{y}<extra></extra>",
         "legendgroup": "Concrete - Walls and Elevated Slabs",
         "line": {
          "color": "#FF97FF",
          "dash": "solid"
         },
         "marker": {
          "symbol": "circle"
         },
         "mode": "lines",
         "name": "Concrete - Walls and Elevated Slabs",
         "orientation": "v",
         "showlegend": true,
         "type": "scatter",
         "x": [
          "2021-06-30T00:00:00",
          "2021-07-31T00:00:00",
          "2021-08-31T00:00:00",
          "2021-10-31T00:00:00",
          "2021-11-30T00:00:00",
          "2021-12-31T00:00:00",
          "2022-01-31T00:00:00",
          "2022-02-28T00:00:00",
          "2022-03-31T00:00:00",
          "2022-05-31T00:00:00",
          "2022-06-30T00:00:00",
          "2022-07-31T00:00:00",
          "2022-08-31T00:00:00",
          "2022-09-30T00:00:00",
          "2022-10-31T00:00:00",
          "2022-11-30T00:00:00"
         ],
         "xaxis": "x",
         "y": [
          0.5823282442748091,
          0.7590702702702703,
          0,
          1.1324983388704317,
          1.2659945024738868,
          1.182395875107419,
          0.538904540579192,
          4.021481203007519,
          0,
          0.06192393736017897,
          1.1075393419170243,
          0,
          0,
          0,
          0,
          0
         ],
         "yaxis": "y"
        },
        {
         "hovertemplate": "cbs_description=Pre Engineered Buildings<br>month_ending=%{x}<br>production_rate=%{y}<extra></extra>",
         "legendgroup": "Pre Engineered Buildings",
         "line": {
          "color": "#FECB52",
          "dash": "solid"
         },
         "marker": {
          "symbol": "circle"
         },
         "mode": "lines",
         "name": "Pre Engineered Buildings",
         "orientation": "v",
         "showlegend": true,
         "type": "scatter",
         "x": [
          "2021-06-30T00:00:00",
          "2021-07-31T00:00:00",
          "2021-08-31T00:00:00",
          "2021-09-30T00:00:00",
          "2021-10-31T00:00:00",
          "2021-11-30T00:00:00",
          "2021-12-31T00:00:00",
          "2022-01-31T00:00:00",
          "2022-02-28T00:00:00",
          "2022-03-31T00:00:00",
          "2022-04-30T00:00:00",
          "2022-05-31T00:00:00",
          "2022-06-30T00:00:00",
          "2022-07-31T00:00:00",
          "2022-08-31T00:00:00",
          "2022-10-31T00:00:00"
         ],
         "xaxis": "x",
         "y": [
          null,
          null,
          null,
          null,
          null,
          null,
          null,
          null,
          null,
          null,
          null,
          null,
          null,
          null,
          null,
          null
         ],
         "yaxis": "y"
        },
        {
         "hovertemplate": "cbs_description=Insulation<br>month_ending=%{x}<br>production_rate=%{y}<extra></extra>",
         "legendgroup": "Insulation",
         "line": {
          "color": "#636efa",
          "dash": "solid"
         },
         "marker": {
          "symbol": "circle"
         },
         "mode": "lines",
         "name": "Insulation",
         "orientation": "v",
         "showlegend": true,
         "type": "scatter",
         "x": [
          "2021-07-31T00:00:00",
          "2021-08-31T00:00:00",
          "2021-09-30T00:00:00",
          "2021-10-31T00:00:00",
          "2021-11-30T00:00:00",
          "2021-12-31T00:00:00",
          "2022-06-30T00:00:00",
          "2022-11-30T00:00:00",
          "2022-12-31T00:00:00",
          "2023-01-31T00:00:00",
          "2023-02-28T00:00:00",
          "2023-03-31T00:00:00",
          "2023-04-30T00:00:00"
         ],
         "xaxis": "x",
         "y": [
          6.613842696629214,
          0.7806893317702227,
          4.014675862068965,
          0.704008064516129,
          0.7219904761904762,
          null,
          0,
          null,
          null,
          null,
          null,
          null,
          null
         ],
         "yaxis": "y"
        },
        {
         "hovertemplate": "cbs_description=Concrete - Slab on Grade<br>month_ending=%{x}<br>production_rate=%{y}<extra></extra>",
         "legendgroup": "Concrete - Slab on Grade",
         "line": {
          "color": "#EF553B",
          "dash": "solid"
         },
         "marker": {
          "symbol": "circle"
         },
         "mode": "lines",
         "name": "Concrete - Slab on Grade",
         "orientation": "v",
         "showlegend": true,
         "type": "scatter",
         "x": [
          "2021-08-31T00:00:00",
          "2021-09-30T00:00:00",
          "2021-10-31T00:00:00",
          "2021-11-30T00:00:00",
          "2021-12-31T00:00:00",
          "2022-01-31T00:00:00",
          "2022-02-28T00:00:00",
          "2022-03-31T00:00:00",
          "2022-04-30T00:00:00",
          "2022-06-30T00:00:00",
          "2022-07-31T00:00:00"
         ],
         "xaxis": "x",
         "y": [
          0,
          2.0381689587426326,
          0.34366285370258887,
          5.190059822150364,
          2.064998435054773,
          null,
          0,
          null,
          0,
          0,
          0
         ],
         "yaxis": "y"
        },
        {
         "hovertemplate": "cbs_description=GTG's<br>month_ending=%{x}<br>production_rate=%{y}<extra></extra>",
         "legendgroup": "GTG's",
         "line": {
          "color": "#00cc96",
          "dash": "solid"
         },
         "marker": {
          "symbol": "circle"
         },
         "mode": "lines",
         "name": "GTG's",
         "orientation": "v",
         "showlegend": true,
         "type": "scatter",
         "x": [
          "2021-08-31T00:00:00",
          "2021-09-30T00:00:00",
          "2021-11-30T00:00:00",
          "2021-12-31T00:00:00",
          "2022-01-31T00:00:00",
          "2022-02-28T00:00:00",
          "2022-03-31T00:00:00",
          "2022-04-30T00:00:00",
          "2022-05-31T00:00:00",
          "2022-06-30T00:00:00",
          "2022-07-31T00:00:00",
          "2022-08-31T00:00:00",
          "2022-09-30T00:00:00",
          "2022-10-31T00:00:00",
          "2022-11-30T00:00:00",
          "2022-12-31T00:00:00",
          "2023-01-31T00:00:00",
          "2023-02-28T00:00:00",
          "2023-03-31T00:00:00"
         ],
         "xaxis": "x",
         "y": [
          0,
          0,
          0.025576208178438663,
          0.8266666666666665,
          0.0030257186081694403,
          0.08155326016785022,
          0.0907895652173913,
          0.05793858302259267,
          0.06950359869138495,
          0.06521586136441031,
          0.22683212140373066,
          0.19628167229729732,
          0.1272305909617613,
          0.16406971340046478,
          0.1438800372458745,
          0.1631097487966666,
          0.06468667687595712,
          0.21284054517017947,
          0.3375390566879929
         ],
         "yaxis": "y"
        },
        {
         "hovertemplate": "cbs_description=Main Steel<br>month_ending=%{x}<br>production_rate=%{y}<extra></extra>",
         "legendgroup": "Main Steel",
         "line": {
          "color": "#ab63fa",
          "dash": "solid"
         },
         "marker": {
          "symbol": "circle"
         },
         "mode": "lines",
         "name": "Main Steel",
         "orientation": "v",
         "showlegend": true,
         "type": "scatter",
         "x": [
          "2021-08-31T00:00:00",
          "2021-09-30T00:00:00",
          "2021-10-31T00:00:00",
          "2021-11-30T00:00:00",
          "2021-12-31T00:00:00",
          "2022-01-31T00:00:00",
          "2022-02-28T00:00:00",
          "2022-03-31T00:00:00",
          "2022-04-30T00:00:00",
          "2022-05-31T00:00:00",
          "2022-06-30T00:00:00",
          "2022-07-31T00:00:00",
          "2022-08-31T00:00:00",
          "2022-09-30T00:00:00",
          "2022-10-31T00:00:00",
          "2022-11-30T00:00:00",
          "2022-12-31T00:00:00",
          "2023-01-31T00:00:00",
          "2023-02-28T00:00:00",
          "2023-03-31T00:00:00"
         ],
         "xaxis": "x",
         "y": [
          null,
          0.2512725527831094,
          0.23646921662705708,
          0.46843469866225346,
          0.4208043875685558,
          0.3190418513047759,
          0.31171456373662015,
          0.226004440333025,
          0.18069308644111792,
          0.21295809613491415,
          0.19318530731390887,
          0.11050735024105948,
          0.1813330228559146,
          0.14944007845166912,
          0.0688234559309028,
          0.09906960163978254,
          0.1960984126984127,
          0.014526740665993946,
          0.10349429323968393,
          0.010651933701657458
         ],
         "yaxis": "y"
        },
        {
         "hovertemplate": "cbs_description=Cable - LV<br>month_ending=%{x}<br>production_rate=%{y}<extra></extra>",
         "legendgroup": "Cable - LV",
         "line": {
          "color": "#FFA15A",
          "dash": "solid"
         },
         "marker": {
          "symbol": "circle"
         },
         "mode": "lines",
         "name": "Cable - LV",
         "orientation": "v",
         "showlegend": true,
         "type": "scatter",
         "x": [
          "2021-09-30T00:00:00",
          "2021-12-31T00:00:00",
          "2022-01-31T00:00:00",
          "2022-02-28T00:00:00",
          "2022-03-31T00:00:00",
          "2022-04-30T00:00:00",
          "2022-05-31T00:00:00",
          "2022-06-30T00:00:00",
          "2022-07-31T00:00:00",
          "2022-08-31T00:00:00",
          "2022-09-30T00:00:00",
          "2022-10-31T00:00:00",
          "2022-11-30T00:00:00",
          "2022-12-31T00:00:00",
          "2023-01-31T00:00:00",
          "2023-02-28T00:00:00",
          "2023-03-31T00:00:00"
         ],
         "xaxis": "x",
         "y": [
          0,
          0,
          0,
          null,
          null,
          14.480851063829787,
          0.4830088495575221,
          1.3278747433264886,
          3.9580299563137094,
          2.842164542294322,
          2.4934815756035578,
          2.943965221243839,
          2.27973668920673,
          2.775234697459935,
          3.2274535121532852,
          1.426404708601141,
          2.3407768830904088
         ],
         "yaxis": "y"
        },
        {
         "hovertemplate": "cbs_description=Decking/Grating<br>month_ending=%{x}<br>production_rate=%{y}<extra></extra>",
         "legendgroup": "Decking/Grating",
         "line": {
          "color": "#19d3f3",
          "dash": "solid"
         },
         "marker": {
          "symbol": "circle"
         },
         "mode": "lines",
         "name": "Decking/Grating",
         "orientation": "v",
         "showlegend": true,
         "type": "scatter",
         "x": [
          "2021-09-30T00:00:00",
          "2021-10-31T00:00:00",
          "2021-11-30T00:00:00",
          "2021-12-31T00:00:00",
          "2022-01-31T00:00:00",
          "2022-02-28T00:00:00",
          "2022-03-31T00:00:00",
          "2022-04-30T00:00:00",
          "2022-05-31T00:00:00",
          "2022-06-30T00:00:00",
          "2022-07-31T00:00:00",
          "2022-08-31T00:00:00",
          "2022-09-30T00:00:00",
          "2022-10-31T00:00:00",
          "2022-11-30T00:00:00",
          "2022-12-31T00:00:00",
          "2023-01-31T00:00:00",
          "2023-02-28T00:00:00",
          "2023-03-31T00:00:00"
         ],
         "xaxis": "x",
         "y": [
          null,
          null,
          0.18129681717246482,
          0.307929648241206,
          0.2008859649122807,
          0.36956097560975615,
          0.31087619047619053,
          0.10409302325581395,
          2.3016,
          0.4094886363636364,
          0.07071595694899392,
          0.10788062485427838,
          0.09183333333333332,
          0.062212871873888825,
          0.2793678756476684,
          0.20935373087730252,
          0.03056470588235294,
          0.11814814814814815,
          0.09449999999999999
         ],
         "yaxis": "y"
        },
        {
         "hovertemplate": "cbs_description=Cranes, Hoists & Trolleys<br>month_ending=%{x}<br>production_rate=%{y}<extra></extra>",
         "legendgroup": "Cranes, Hoists & Trolleys",
         "line": {
          "color": "#FF6692",
          "dash": "solid"
         },
         "marker": {
          "symbol": "circle"
         },
         "mode": "lines",
         "name": "Cranes, Hoists & Trolleys",
         "orientation": "v",
         "showlegend": true,
         "type": "scatter",
         "x": [
          "2021-10-31T00:00:00",
          "2021-11-30T00:00:00",
          "2021-12-31T00:00:00",
          "2022-01-31T00:00:00",
          "2022-02-28T00:00:00",
          "2022-03-31T00:00:00",
          "2022-04-30T00:00:00",
          "2022-05-31T00:00:00",
          "2022-10-31T00:00:00",
          "2022-12-31T00:00:00"
         ],
         "xaxis": "x",
         "y": [
          0.0060790273556231,
          0.039473684210526314,
          0.003910614525139664,
          0.02536997885835095,
          0.0009624639076034649,
          0.0021604938271604936,
          0,
          0.0024390243902439024,
          null,
          0.08695652173913043
         ],
         "yaxis": "y"
        },
        {
         "hovertemplate": "cbs_description=Exchangers<br>month_ending=%{x}<br>production_rate=%{y}<extra></extra>",
         "legendgroup": "Exchangers",
         "line": {
          "color": "#B6E880",
          "dash": "solid"
         },
         "marker": {
          "symbol": "circle"
         },
         "mode": "lines",
         "name": "Exchangers",
         "orientation": "v",
         "showlegend": true,
         "type": "scatter",
         "x": [
          "2021-10-31T00:00:00",
          "2021-11-30T00:00:00",
          "2021-12-31T00:00:00",
          "2022-01-31T00:00:00",
          "2022-02-28T00:00:00",
          "2022-03-31T00:00:00",
          "2022-04-30T00:00:00",
          "2022-05-31T00:00:00",
          "2022-06-30T00:00:00",
          "2022-07-31T00:00:00",
          "2022-08-31T00:00:00",
          "2022-09-30T00:00:00",
          "2022-10-31T00:00:00",
          "2022-11-30T00:00:00",
          "2022-12-31T00:00:00",
          "2023-01-31T00:00:00",
          "2023-02-28T00:00:00",
          "2023-03-31T00:00:00"
         ],
         "xaxis": "x",
         "y": [
          0.0851063829787234,
          0.1544885177453027,
          0.2795425219941349,
          0.1808849970811442,
          0.4489911504424779,
          0.14223790446841295,
          0.10860924993071518,
          0.05595818379845376,
          0.1319033279085562,
          0.11883116208677073,
          0.16051736304241349,
          0.21521739870616274,
          0.2051014687837289,
          0.24237015826536495,
          0.16633693895312693,
          0.10590504175688216,
          0.057606644518272423,
          0.05712557808609035
         ],
         "yaxis": "y"
        },
        {
         "hovertemplate": "cbs_description=HRSG's<br>month_ending=%{x}<br>production_rate=%{y}<extra></extra>",
         "legendgroup": "HRSG's",
         "line": {
          "color": "#FF97FF",
          "dash": "solid"
         },
         "marker": {
          "symbol": "circle"
         },
         "mode": "lines",
         "name": "HRSG's",
         "orientation": "v",
         "showlegend": true,
         "type": "scatter",
         "x": [
          "2021-10-31T00:00:00",
          "2021-11-30T00:00:00",
          "2021-12-31T00:00:00",
          "2022-01-31T00:00:00",
          "2022-02-28T00:00:00",
          "2022-03-31T00:00:00",
          "2022-04-30T00:00:00",
          "2022-05-31T00:00:00",
          "2022-06-30T00:00:00",
          "2022-07-31T00:00:00",
          "2022-08-31T00:00:00",
          "2022-09-30T00:00:00",
          "2022-10-31T00:00:00",
          "2022-11-30T00:00:00",
          "2022-12-31T00:00:00",
          "2023-01-31T00:00:00",
          "2023-02-28T00:00:00",
          "2023-03-31T00:00:00",
          "2023-04-30T00:00:00"
         ],
         "xaxis": "x",
         "y": [
          0.6722955145118733,
          0.3854379977246872,
          0.24421633554083885,
          0.05447428374180186,
          0.15699723993528122,
          0.0750374027605451,
          0.053793367071356755,
          0.0810711672518335,
          0.15828343294240566,
          0.21032530852329093,
          0.4307502110549888,
          0.19193458836640068,
          0.1827504520917831,
          0.15887152903341914,
          0.18005768957163545,
          0.1616282177956796,
          0.14873577249750697,
          0.14692557573460388,
          null
         ],
         "yaxis": "y"
        },
        {
         "hovertemplate": "cbs_description=Piling - Screw<br>month_ending=%{x}<br>production_rate=%{y}<extra></extra>",
         "legendgroup": "Piling - Screw",
         "line": {
          "color": "#FECB52",
          "dash": "solid"
         },
         "marker": {
          "symbol": "circle"
         },
         "mode": "lines",
         "name": "Piling - Screw",
         "orientation": "v",
         "showlegend": true,
         "type": "scatter",
         "x": [
          "2021-10-31T00:00:00",
          "2021-12-31T00:00:00",
          "2022-04-30T00:00:00",
          "2022-05-31T00:00:00",
          "2022-07-31T00:00:00",
          "2022-11-30T00:00:00"
         ],
         "xaxis": "x",
         "y": [
          null,
          null,
          null,
          null,
          null,
          null
         ],
         "yaxis": "y"
        },
        {
         "hovertemplate": "cbs_description=Fired Heaters<br>month_ending=%{x}<br>production_rate=%{y}<extra></extra>",
         "legendgroup": "Fired Heaters",
         "line": {
          "color": "#636efa",
          "dash": "solid"
         },
         "marker": {
          "symbol": "circle"
         },
         "mode": "lines",
         "name": "Fired Heaters",
         "orientation": "v",
         "showlegend": true,
         "type": "scatter",
         "x": [
          "2021-11-30T00:00:00",
          "2021-12-31T00:00:00",
          "2022-01-31T00:00:00",
          "2022-03-31T00:00:00",
          "2022-04-30T00:00:00",
          "2022-05-31T00:00:00",
          "2022-06-30T00:00:00",
          "2022-07-31T00:00:00",
          "2022-08-31T00:00:00",
          "2022-09-30T00:00:00",
          "2022-10-31T00:00:00",
          "2022-11-30T00:00:00",
          "2022-12-31T00:00:00",
          "2023-01-31T00:00:00",
          "2023-02-28T00:00:00",
          "2023-03-31T00:00:00"
         ],
         "xaxis": "x",
         "y": [
          0,
          0,
          0,
          0,
          0,
          1.8086124401913874,
          0.6822429906542056,
          0.02879330943847073,
          0.4659223300970874,
          0.07281159420289855,
          3.421875,
          null,
          0.04824324324324325,
          0.041479289940828404,
          0.016982097186700768,
          0.21179941002949856
         ],
         "yaxis": "y"
        },
        {
         "hovertemplate": "cbs_description=Steel Welding<br>month_ending=%{x}<br>production_rate=%{y}<extra></extra>",
         "legendgroup": "Steel Welding",
         "line": {
          "color": "#EF553B",
          "dash": "solid"
         },
         "marker": {
          "symbol": "circle"
         },
         "mode": "lines",
         "name": "Steel Welding",
         "orientation": "v",
         "showlegend": true,
         "type": "scatter",
         "x": [
          "2021-11-30T00:00:00",
          "2021-12-31T00:00:00",
          "2022-01-31T00:00:00",
          "2022-02-28T00:00:00",
          "2022-03-31T00:00:00",
          "2022-04-30T00:00:00",
          "2022-05-31T00:00:00",
          "2022-06-30T00:00:00",
          "2022-07-31T00:00:00",
          "2022-08-31T00:00:00",
          "2022-09-30T00:00:00",
          "2022-10-31T00:00:00",
          "2022-11-30T00:00:00",
          "2022-12-31T00:00:00",
          "2023-02-28T00:00:00"
         ],
         "xaxis": "x",
         "y": [
          0,
          0,
          0,
          0.022457702582368653,
          0.04865203761755486,
          0.016374598070739547,
          0,
          0.005078534031413612,
          0,
          0,
          0.02272574850299401,
          0,
          0,
          0,
          0
         ],
         "yaxis": "y"
        },
        {
         "hovertemplate": "cbs_description=A/G - Carbon Steel (LB)<br>month_ending=%{x}<br>production_rate=%{y}<extra></extra>",
         "legendgroup": "A/G - Carbon Steel (LB)",
         "line": {
          "color": "#00cc96",
          "dash": "solid"
         },
         "marker": {
          "symbol": "circle"
         },
         "mode": "lines",
         "name": "A/G - Carbon Steel (LB)",
         "orientation": "v",
         "showlegend": true,
         "type": "scatter",
         "x": [
          "2021-12-31T00:00:00",
          "2022-01-31T00:00:00",
          "2022-02-28T00:00:00",
          "2022-03-31T00:00:00",
          "2022-04-30T00:00:00",
          "2022-05-31T00:00:00",
          "2022-06-30T00:00:00",
          "2022-07-31T00:00:00",
          "2022-08-31T00:00:00",
          "2022-09-30T00:00:00",
          "2022-10-31T00:00:00",
          "2022-11-30T00:00:00",
          "2022-12-31T00:00:00",
          "2023-01-31T00:00:00",
          "2023-02-28T00:00:00",
          "2023-03-31T00:00:00",
          "2023-04-30T00:00:00"
         ],
         "xaxis": "x",
         "y": [
          0.1166573191250701,
          0.21890562440419448,
          0.09732353443855753,
          0.460456346749226,
          0.2061856818650712,
          0.3784887092940337,
          0.2533720890115577,
          0.36106538461538457,
          0.2609056053134749,
          0.2644215256518214,
          0.22938604175021635,
          0.24912181989733642,
          0.21635266348665652,
          0.21759672889160636,
          0.14616997896767583,
          0.1615464064552449,
          null
         ],
         "yaxis": "y"
        },
        {
         "hovertemplate": "cbs_description=A/G - Stainless Steel (SB)<br>month_ending=%{x}<br>production_rate=%{y}<extra></extra>",
         "legendgroup": "A/G - Stainless Steel (SB)",
         "line": {
          "color": "#ab63fa",
          "dash": "solid"
         },
         "marker": {
          "symbol": "circle"
         },
         "mode": "lines",
         "name": "A/G - Stainless Steel (SB)",
         "orientation": "v",
         "showlegend": true,
         "type": "scatter",
         "x": [
          "2021-12-31T00:00:00",
          "2022-01-31T00:00:00",
          "2022-02-28T00:00:00",
          "2022-03-31T00:00:00",
          "2022-04-30T00:00:00",
          "2022-05-31T00:00:00",
          "2022-06-30T00:00:00",
          "2022-07-31T00:00:00",
          "2022-08-31T00:00:00",
          "2022-09-30T00:00:00",
          "2022-10-31T00:00:00",
          "2022-11-30T00:00:00",
          "2022-12-31T00:00:00",
          "2023-01-31T00:00:00",
          "2023-02-28T00:00:00",
          "2023-03-31T00:00:00"
         ],
         "xaxis": "x",
         "y": [
          0.9173913043478261,
          0.5294117647058824,
          0,
          0.8403870967741935,
          0.34885405405405406,
          0.3808840639082343,
          0.4990363826572126,
          1.379291396854764,
          0.46940982788725366,
          0.5914557937039517,
          0.4352093765954443,
          0.44866881326383573,
          0.7497178408051236,
          0.331812578153733,
          0.31928449663229425,
          0.6446087621962885
         ],
         "yaxis": "y"
        },
        {
         "hovertemplate": "cbs_description=Cable Tray & Supports<br>month_ending=%{x}<br>production_rate=%{y}<extra></extra>",
         "legendgroup": "Cable Tray & Supports",
         "line": {
          "color": "#FFA15A",
          "dash": "solid"
         },
         "marker": {
          "symbol": "circle"
         },
         "mode": "lines",
         "name": "Cable Tray & Supports",
         "orientation": "v",
         "showlegend": true,
         "type": "scatter",
         "x": [
          "2021-12-31T00:00:00",
          "2022-01-31T00:00:00",
          "2022-02-28T00:00:00",
          "2022-03-31T00:00:00",
          "2022-04-30T00:00:00",
          "2022-05-31T00:00:00",
          "2022-06-30T00:00:00",
          "2022-07-31T00:00:00",
          "2022-08-31T00:00:00",
          "2022-09-30T00:00:00",
          "2022-10-31T00:00:00",
          "2022-11-30T00:00:00",
          "2022-12-31T00:00:00",
          "2023-01-31T00:00:00",
          "2023-02-28T00:00:00",
          "2023-03-31T00:00:00",
          "2023-04-30T00:00:00"
         ],
         "xaxis": "x",
         "y": [
          0,
          0.1825479226655697,
          0.17536215639178013,
          0.23056877637130802,
          0.20541738431507636,
          0.27426871334943087,
          0.19477359960751497,
          0.33266544706151385,
          0.25770409780241266,
          0.14425694910546902,
          0.21622557530361744,
          0.4303511992390783,
          0.282772442895822,
          0.20782954783493432,
          0.2848567758833455,
          0.3501582248706288,
          null
         ],
         "yaxis": "y"
        },
        {
         "hovertemplate": "cbs_description=Lights/Recepticles<br>month_ending=%{x}<br>production_rate=%{y}<extra></extra>",
         "legendgroup": "Lights/Recepticles",
         "line": {
          "color": "#19d3f3",
          "dash": "solid"
         },
         "marker": {
          "symbol": "circle"
         },
         "mode": "lines",
         "name": "Lights/Recepticles",
         "orientation": "v",
         "showlegend": true,
         "type": "scatter",
         "x": [
          "2021-12-31T00:00:00",
          "2022-01-31T00:00:00",
          "2022-02-28T00:00:00",
          "2022-04-30T00:00:00",
          "2022-05-31T00:00:00",
          "2022-06-30T00:00:00",
          "2022-07-31T00:00:00",
          "2022-08-31T00:00:00",
          "2022-09-30T00:00:00",
          "2022-10-31T00:00:00",
          "2022-11-30T00:00:00",
          "2022-12-31T00:00:00",
          "2023-01-31T00:00:00",
          "2023-02-28T00:00:00",
          "2023-03-31T00:00:00"
         ],
         "xaxis": "x",
         "y": [
          0.2191780821917808,
          0.11594202898550725,
          0.21621621621621623,
          0.0851063829787234,
          0.0831889081455806,
          0.27932489451476794,
          0.0840952994204765,
          0.10255397902529303,
          0.2360502692998205,
          0.023378995433789955,
          0.07834671819334582,
          0.28174235403151066,
          0.18920557913887204,
          0.2848758465011287,
          0.14027649769585251
         ],
         "yaxis": "y"
        },
        {
         "hovertemplate": "cbs_description=Major Electrical Equipment<br>month_ending=%{x}<br>production_rate=%{y}<extra></extra>",
         "legendgroup": "Major Electrical Equipment",
         "line": {
          "color": "#FF6692",
          "dash": "solid"
         },
         "marker": {
          "symbol": "circle"
         },
         "mode": "lines",
         "name": "Major Electrical Equipment",
         "orientation": "v",
         "showlegend": true,
         "type": "scatter",
         "x": [
          "2021-12-31T00:00:00",
          "2022-02-28T00:00:00",
          "2022-03-31T00:00:00",
          "2022-04-30T00:00:00",
          "2022-05-31T00:00:00",
          "2022-06-30T00:00:00",
          "2022-07-31T00:00:00",
          "2022-08-31T00:00:00",
          "2022-09-30T00:00:00",
          "2022-10-31T00:00:00",
          "2022-11-30T00:00:00",
          "2022-12-31T00:00:00",
          "2023-01-31T00:00:00",
          "2023-02-28T00:00:00",
          "2023-03-31T00:00:00"
         ],
         "xaxis": "x",
         "y": [
          0,
          0.02798708288482239,
          0.2885572139303483,
          0.03834344876829704,
          0.05020120724346076,
          0.004634994206257242,
          0.08043478260869565,
          0.02531645569620253,
          0.22288438617401668,
          0.3287305122494432,
          0.10102040816326531,
          0.08571428571428572,
          0,
          0,
          0.018627450980392157
         ],
         "yaxis": "y"
        },
        {
         "hovertemplate": "cbs_description=Pumps<br>month_ending=%{x}<br>production_rate=%{y}<extra></extra>",
         "legendgroup": "Pumps",
         "line": {
          "color": "#B6E880",
          "dash": "solid"
         },
         "marker": {
          "symbol": "circle"
         },
         "mode": "lines",
         "name": "Pumps",
         "orientation": "v",
         "showlegend": true,
         "type": "scatter",
         "x": [
          "2021-12-31T00:00:00",
          "2022-01-31T00:00:00",
          "2022-02-28T00:00:00",
          "2022-03-31T00:00:00",
          "2022-04-30T00:00:00",
          "2022-05-31T00:00:00",
          "2022-06-30T00:00:00",
          "2022-07-31T00:00:00",
          "2022-08-31T00:00:00",
          "2022-09-30T00:00:00",
          "2022-10-31T00:00:00",
          "2022-11-30T00:00:00",
          "2022-12-31T00:00:00",
          "2023-01-31T00:00:00",
          "2023-02-28T00:00:00",
          "2023-03-31T00:00:00"
         ],
         "xaxis": "x",
         "y": [
          0.026174496644295303,
          0.03301775147928994,
          0.011111111111111112,
          0.03395565927654609,
          0.07650273224043716,
          0.01839080459770115,
          0.014663951120162933,
          0.21534653465346534,
          null,
          0.007714561234329798,
          0.06620080912100038,
          0.028846153846153848,
          0.14564967420467614,
          0.08284023668639054,
          0.02834008097165992,
          0.021240916713247623
         ],
         "yaxis": "y"
        },
        {
         "hovertemplate": "cbs_description=A/G - Alloy Steel (LB)<br>month_ending=%{x}<br>production_rate=%{y}<extra></extra>",
         "legendgroup": "A/G - Alloy Steel (LB)",
         "line": {
          "color": "#FF97FF",
          "dash": "solid"
         },
         "marker": {
          "symbol": "circle"
         },
         "mode": "lines",
         "name": "A/G - Alloy Steel (LB)",
         "orientation": "v",
         "showlegend": true,
         "type": "scatter",
         "x": [
          "2022-01-31T00:00:00",
          "2022-02-28T00:00:00",
          "2022-03-31T00:00:00",
          "2022-04-30T00:00:00",
          "2022-05-31T00:00:00",
          "2022-06-30T00:00:00",
          "2022-07-31T00:00:00",
          "2022-08-31T00:00:00",
          "2022-09-30T00:00:00",
          "2022-10-31T00:00:00",
          "2022-11-30T00:00:00",
          "2022-12-31T00:00:00",
          "2023-01-31T00:00:00",
          "2023-02-28T00:00:00",
          "2023-03-31T00:00:00"
         ],
         "xaxis": "x",
         "y": [
          0.1545271629778672,
          0.037379912663755455,
          0.1984474804031355,
          0.1443642732049037,
          0.6053352713178295,
          0.12632936507936507,
          0.1944294871794872,
          0.43310135135135136,
          0.27309581646423753,
          0.2146154546005944,
          0.30022714930722566,
          0.2613688031330595,
          0.12012729745753846,
          0.19146815809818318,
          0.11056024710018729
         ],
         "yaxis": "y"
        },
        {
         "hovertemplate": "cbs_description=A/G - Carbon Steel (SB)<br>month_ending=%{x}<br>production_rate=%{y}<extra></extra>",
         "legendgroup": "A/G - Carbon Steel (SB)",
         "line": {
          "color": "#FECB52",
          "dash": "solid"
         },
         "marker": {
          "symbol": "circle"
         },
         "mode": "lines",
         "name": "A/G - Carbon Steel (SB)",
         "orientation": "v",
         "showlegend": true,
         "type": "scatter",
         "x": [
          "2022-01-31T00:00:00",
          "2022-02-28T00:00:00",
          "2022-03-31T00:00:00",
          "2022-04-30T00:00:00",
          "2022-05-31T00:00:00",
          "2022-06-30T00:00:00",
          "2022-07-31T00:00:00",
          "2022-08-31T00:00:00",
          "2022-09-30T00:00:00",
          "2022-10-31T00:00:00",
          "2022-11-30T00:00:00",
          "2022-12-31T00:00:00",
          "2023-01-31T00:00:00",
          "2023-02-28T00:00:00",
          "2023-03-31T00:00:00",
          "2023-04-30T00:00:00"
         ],
         "xaxis": "x",
         "y": [
          0,
          0,
          1.6394460093896714,
          0.17069299820466785,
          0.3419532994923858,
          0.5506520076481836,
          0.49178863775198534,
          0.5694135625596943,
          0.7142245150639703,
          0.47335051933425104,
          0.4473973538729113,
          0.4408522214195412,
          0.27954536584052814,
          0.27366107371004555,
          0.37806737353068837,
          null
         ],
         "yaxis": "y"
        },
        {
         "hovertemplate": "cbs_description=A/G - Stainless Steel (LB)<br>month_ending=%{x}<br>production_rate=%{y}<extra></extra>",
         "legendgroup": "A/G - Stainless Steel (LB)",
         "line": {
          "color": "#636efa",
          "dash": "solid"
         },
         "marker": {
          "symbol": "circle"
         },
         "mode": "lines",
         "name": "A/G - Stainless Steel (LB)",
         "orientation": "v",
         "showlegend": true,
         "type": "scatter",
         "x": [
          "2022-01-31T00:00:00",
          "2022-02-28T00:00:00",
          "2022-03-31T00:00:00",
          "2022-04-30T00:00:00",
          "2022-05-31T00:00:00",
          "2022-06-30T00:00:00",
          "2022-07-31T00:00:00",
          "2022-08-31T00:00:00",
          "2022-09-30T00:00:00",
          "2022-10-31T00:00:00",
          "2022-11-30T00:00:00",
          "2022-12-31T00:00:00",
          "2023-01-31T00:00:00",
          "2023-02-28T00:00:00",
          "2023-03-31T00:00:00"
         ],
         "xaxis": "x",
         "y": [
          0.21490384615384617,
          0.10379061371841156,
          0.7087313237221493,
          0.13031321933574483,
          0.38494943820224714,
          0.38599095899257346,
          0.44160978048447935,
          0.2334616686819831,
          0.4600300866904641,
          0.37358155515370706,
          0.27836467920501534,
          0.22318835579514826,
          0.08302086072398983,
          0.13296875,
          0.12907687927107062
         ],
         "yaxis": "y"
        },
        {
         "hovertemplate": "cbs_description=Cladding<br>month_ending=%{x}<br>production_rate=%{y}<extra></extra>",
         "legendgroup": "Cladding",
         "line": {
          "color": "#EF553B",
          "dash": "solid"
         },
         "marker": {
          "symbol": "circle"
         },
         "mode": "lines",
         "name": "Cladding",
         "orientation": "v",
         "showlegend": true,
         "type": "scatter",
         "x": [
          "2022-01-31T00:00:00",
          "2022-02-28T00:00:00",
          "2022-03-31T00:00:00",
          "2022-04-30T00:00:00",
          "2022-05-31T00:00:00",
          "2022-06-30T00:00:00",
          "2022-07-31T00:00:00",
          "2022-08-31T00:00:00",
          "2022-09-30T00:00:00",
          "2022-10-31T00:00:00",
          "2022-11-30T00:00:00",
          "2022-12-31T00:00:00",
          "2023-01-31T00:00:00",
          "2023-02-28T00:00:00",
          "2023-03-31T00:00:00"
         ],
         "xaxis": "x",
         "y": [
          null,
          null,
          148.8122222222222,
          29.223617021276596,
          365.33949999999993,
          87.72204166666666,
          67.77794366197183,
          null,
          0,
          50.02266666666667,
          86.7848717948718,
          15.079999999999998,
          36.97166666666667,
          133.52301886792452,
          123.78499999999998
         ],
         "yaxis": "y"
        },
        {
         "hovertemplate": "cbs_description=Filters & Strainers<br>month_ending=%{x}<br>production_rate=%{y}<extra></extra>",
         "legendgroup": "Filters & Strainers",
         "line": {
          "color": "#00cc96",
          "dash": "solid"
         },
         "marker": {
          "symbol": "circle"
         },
         "mode": "lines",
         "name": "Filters & Strainers",
         "orientation": "v",
         "showlegend": true,
         "type": "scatter",
         "x": [
          "2022-01-31T00:00:00",
          "2022-02-28T00:00:00",
          "2022-03-31T00:00:00",
          "2022-04-30T00:00:00",
          "2022-05-31T00:00:00",
          "2022-06-30T00:00:00",
          "2022-07-31T00:00:00",
          "2022-08-31T00:00:00",
          "2022-09-30T00:00:00",
          "2022-10-31T00:00:00",
          "2022-11-30T00:00:00",
          "2022-12-31T00:00:00",
          "2023-01-31T00:00:00",
          "2023-02-28T00:00:00",
          "2023-03-31T00:00:00"
         ],
         "xaxis": "x",
         "y": [
          0,
          0,
          0,
          0.0031852986217457886,
          0.0006377551020408163,
          0.03699404761904762,
          0.02243137254901961,
          0.0032575820731280325,
          0.34879444726283265,
          0.16047091915434175,
          0.013391313771708798,
          0.029987135678391962,
          0.004519225936164865,
          0.007356347438752784,
          0.0023603498542274053
         ],
         "yaxis": "y"
        },
        {
         "hovertemplate": "cbs_description=Terminations<br>month_ending=%{x}<br>production_rate=%{y}<extra></extra>",
         "legendgroup": "Terminations",
         "line": {
          "color": "#ab63fa",
          "dash": "solid"
         },
         "marker": {
          "symbol": "circle"
         },
         "mode": "lines",
         "name": "Terminations",
         "orientation": "v",
         "showlegend": true,
         "type": "scatter",
         "x": [
          "2022-01-31T00:00:00",
          "2022-02-28T00:00:00",
          "2022-03-31T00:00:00",
          "2022-04-30T00:00:00",
          "2022-05-31T00:00:00",
          "2022-06-30T00:00:00",
          "2022-07-31T00:00:00",
          "2022-08-31T00:00:00",
          "2022-09-30T00:00:00",
          "2022-10-31T00:00:00",
          "2022-11-30T00:00:00",
          "2022-12-31T00:00:00",
          "2023-01-31T00:00:00",
          "2023-02-28T00:00:00",
          "2023-03-31T00:00:00",
          "2023-04-30T00:00:00"
         ],
         "xaxis": "x",
         "y": [
          0,
          null,
          null,
          0.4147239263803681,
          0.07217573221757322,
          0.09360995850622407,
          0.06344671486953787,
          0.08898702732542091,
          0.22463134657836645,
          0.13461304623179227,
          0.157450027905823,
          0.30498583605964985,
          0.27941792086115824,
          0.5479347237432757,
          0.47365902293120643,
          null
         ],
         "yaxis": "y"
        },
        {
         "hovertemplate": "cbs_description=A/G - Alloy Steel (SB)<br>month_ending=%{x}<br>production_rate=%{y}<extra></extra>",
         "legendgroup": "A/G - Alloy Steel (SB)",
         "line": {
          "color": "#FFA15A",
          "dash": "solid"
         },
         "marker": {
          "symbol": "circle"
         },
         "mode": "lines",
         "name": "A/G - Alloy Steel (SB)",
         "orientation": "v",
         "showlegend": true,
         "type": "scatter",
         "x": [
          "2022-03-31T00:00:00",
          "2022-04-30T00:00:00",
          "2022-05-31T00:00:00",
          "2022-06-30T00:00:00",
          "2022-07-31T00:00:00",
          "2022-08-31T00:00:00",
          "2022-09-30T00:00:00",
          "2022-10-31T00:00:00",
          "2022-11-30T00:00:00",
          "2022-12-31T00:00:00",
          "2023-01-31T00:00:00",
          "2023-02-28T00:00:00",
          "2023-03-31T00:00:00"
         ],
         "xaxis": "x",
         "y": [
          null,
          null,
          null,
          null,
          null,
          null,
          0.9688983050847457,
          6.9532727272727275,
          0.6121172638436483,
          0.30964777457572845,
          0.30546341463414634,
          0.2589001677852349,
          0.5608768049155146
         ],
         "yaxis": "y"
        },
        {
         "hovertemplate": "cbs_description=Mechanical - Miscellaneous<br>month_ending=%{x}<br>production_rate=%{y}<extra></extra>",
         "legendgroup": "Mechanical - Miscellaneous",
         "line": {
          "color": "#19d3f3",
          "dash": "solid"
         },
         "marker": {
          "symbol": "circle"
         },
         "mode": "lines",
         "name": "Mechanical - Miscellaneous",
         "orientation": "v",
         "showlegend": true,
         "type": "scatter",
         "x": [
          "2022-03-31T00:00:00",
          "2022-04-30T00:00:00",
          "2022-05-31T00:00:00",
          "2022-06-30T00:00:00",
          "2022-07-31T00:00:00",
          "2022-08-31T00:00:00",
          "2022-09-30T00:00:00",
          "2022-10-31T00:00:00",
          "2022-11-30T00:00:00",
          "2022-12-31T00:00:00",
          "2023-01-31T00:00:00",
          "2023-02-28T00:00:00",
          "2023-03-31T00:00:00"
         ],
         "xaxis": "x",
         "y": [
          0,
          0.14030261348005502,
          0.21825972313777192,
          0.27418967587034815,
          0.3264487369985141,
          0.2307116104868914,
          0.43478260869565216,
          0.13605947955390332,
          0.199925705794948,
          0.2708448753462604,
          0.1096045197740113,
          0.9523809523809523,
          null
         ],
         "yaxis": "y"
        },
        {
         "hovertemplate": "cbs_description=Piping - Miscellaneous<br>month_ending=%{x}<br>production_rate=%{y}<extra></extra>",
         "legendgroup": "Piping - Miscellaneous",
         "line": {
          "color": "#FF6692",
          "dash": "solid"
         },
         "marker": {
          "symbol": "circle"
         },
         "mode": "lines",
         "name": "Piping - Miscellaneous",
         "orientation": "v",
         "showlegend": true,
         "type": "scatter",
         "x": [
          "2022-03-31T00:00:00",
          "2022-04-30T00:00:00",
          "2022-05-31T00:00:00",
          "2022-06-30T00:00:00",
          "2022-07-31T00:00:00",
          "2022-08-31T00:00:00",
          "2022-09-30T00:00:00",
          "2022-10-31T00:00:00",
          "2022-11-30T00:00:00",
          "2022-12-31T00:00:00",
          "2023-01-31T00:00:00",
          "2023-02-28T00:00:00",
          "2023-03-31T00:00:00"
         ],
         "xaxis": "x",
         "y": [
          0.39552238805970147,
          0.6855417138542846,
          1.1858703312191685,
          0.9208348326736236,
          1.312741887466508,
          1.0425806451612902,
          1.5358627858627858,
          0.3943931873479319,
          1.2933796296296298,
          0.887197099405781,
          0.20332971014492757,
          0.3881517222892374,
          0.25436183885318836
         ],
         "yaxis": "y"
        },
        {
         "hovertemplate": "cbs_description=Transformers<br>month_ending=%{x}<br>production_rate=%{y}<extra></extra>",
         "legendgroup": "Transformers",
         "line": {
          "color": "#B6E880",
          "dash": "solid"
         },
         "marker": {
          "symbol": "circle"
         },
         "mode": "lines",
         "name": "Transformers",
         "orientation": "v",
         "showlegend": true,
         "type": "scatter",
         "x": [
          "2022-03-31T00:00:00",
          "2022-06-30T00:00:00",
          "2022-07-31T00:00:00",
          "2022-08-31T00:00:00",
          "2022-09-30T00:00:00",
          "2022-10-31T00:00:00",
          "2022-11-30T00:00:00",
          "2022-12-31T00:00:00",
          "2023-01-31T00:00:00",
          "2023-02-28T00:00:00",
          "2023-03-31T00:00:00",
          "2023-04-30T00:00:00"
         ],
         "xaxis": "x",
         "y": [
          0,
          0.3050847457627119,
          0.21084337349397592,
          0.5182,
          0.1651207729468599,
          0.8275862068965517,
          0.875,
          null,
          null,
          0.14754098360655737,
          1.0869565217391304,
          null
         ],
         "yaxis": "y"
        },
        {
         "hovertemplate": "cbs_description=Cable - HV<br>month_ending=%{x}<br>production_rate=%{y}<extra></extra>",
         "legendgroup": "Cable - HV",
         "line": {
          "color": "#FF97FF",
          "dash": "solid"
         },
         "marker": {
          "symbol": "circle"
         },
         "mode": "lines",
         "name": "Cable - HV",
         "orientation": "v",
         "showlegend": true,
         "type": "scatter",
         "x": [
          "2022-04-30T00:00:00",
          "2022-05-31T00:00:00",
          "2022-06-30T00:00:00",
          "2022-07-31T00:00:00",
          "2022-08-31T00:00:00",
          "2022-09-30T00:00:00",
          "2022-10-31T00:00:00",
          "2022-12-31T00:00:00",
          "2023-01-31T00:00:00",
          "2023-02-28T00:00:00",
          "2023-03-31T00:00:00"
         ],
         "xaxis": "x",
         "y": [
          1.5334913793103448,
          11.205714285714285,
          0.32917115177610334,
          2.0466421343146273,
          1.1177223570955641,
          0,
          0,
          null,
          0,
          437.8205128205128,
          null
         ],
         "yaxis": "y"
        },
        {
         "hovertemplate": "cbs_description=Compressors<br>month_ending=%{x}<br>production_rate=%{y}<extra></extra>",
         "legendgroup": "Compressors",
         "line": {
          "color": "#FECB52",
          "dash": "solid"
         },
         "marker": {
          "symbol": "circle"
         },
         "mode": "lines",
         "name": "Compressors",
         "orientation": "v",
         "showlegend": true,
         "type": "scatter",
         "x": [
          "2022-04-30T00:00:00",
          "2022-05-31T00:00:00",
          "2022-07-31T00:00:00",
          "2022-11-30T00:00:00"
         ],
         "xaxis": "x",
         "y": [
          0,
          null,
          0,
          0
         ],
         "yaxis": "y"
        },
        {
         "hovertemplate": "cbs_description=Communication<br>month_ending=%{x}<br>production_rate=%{y}<extra></extra>",
         "legendgroup": "Communication",
         "line": {
          "color": "#636efa",
          "dash": "solid"
         },
         "marker": {
          "symbol": "circle"
         },
         "mode": "lines",
         "name": "Communication",
         "orientation": "v",
         "showlegend": true,
         "type": "scatter",
         "x": [
          "2022-05-31T00:00:00",
          "2022-06-30T00:00:00",
          "2022-07-31T00:00:00",
          "2022-08-31T00:00:00",
          "2022-09-30T00:00:00",
          "2022-10-31T00:00:00",
          "2022-11-30T00:00:00",
          "2022-12-31T00:00:00",
          "2023-01-31T00:00:00",
          "2023-02-28T00:00:00"
         ],
         "xaxis": "x",
         "y": [
          0.05783173996175909,
          2.2158379037172455,
          0.3112830594378744,
          0.5650892215568862,
          0.9739758241758243,
          8.466826666666666,
          0.6732076023391813,
          1.409099099099099,
          7.684375,
          null
         ],
         "yaxis": "y"
        },
        {
         "hovertemplate": "cbs_description=Extra Work - Miscellaneous<br>month_ending=%{x}<br>production_rate=%{y}<extra></extra>",
         "legendgroup": "Extra Work - Miscellaneous",
         "line": {
          "color": "#EF553B",
          "dash": "solid"
         },
         "marker": {
          "symbol": "circle"
         },
         "mode": "lines",
         "name": "Extra Work - Miscellaneous",
         "orientation": "v",
         "showlegend": true,
         "type": "scatter",
         "x": [
          "2022-05-31T00:00:00",
          "2022-09-30T00:00:00",
          "2022-10-31T00:00:00",
          "2023-02-28T00:00:00",
          "2023-03-31T00:00:00"
         ],
         "xaxis": "x",
         "y": [
          0,
          0,
          null,
          null,
          null
         ],
         "yaxis": "y"
        },
        {
         "hovertemplate": "cbs_description=Instrumentation - Miscellaneous<br>month_ending=%{x}<br>production_rate=%{y}<extra></extra>",
         "legendgroup": "Instrumentation - Miscellaneous",
         "line": {
          "color": "#00cc96",
          "dash": "solid"
         },
         "marker": {
          "symbol": "circle"
         },
         "mode": "lines",
         "name": "Instrumentation - Miscellaneous",
         "orientation": "v",
         "showlegend": true,
         "type": "scatter",
         "x": [
          "2022-06-30T00:00:00",
          "2022-07-31T00:00:00",
          "2022-08-31T00:00:00",
          "2022-09-30T00:00:00",
          "2022-10-31T00:00:00",
          "2022-11-30T00:00:00",
          "2022-12-31T00:00:00",
          "2023-01-31T00:00:00",
          "2023-02-28T00:00:00",
          "2023-03-31T00:00:00",
          "2023-04-30T00:00:00"
         ],
         "xaxis": "x",
         "y": [
          0,
          0,
          1.018348623853211,
          0.18278615794143743,
          0.2818380743982494,
          0.3368734069668649,
          0.3287267969580505,
          0.6038920276208412,
          0.6245029239766082,
          0.6419293993677556,
          null
         ],
         "yaxis": "y"
        },
        {
         "hovertemplate": "cbs_description=Steel - Miscellaneous<br>month_ending=%{x}<br>production_rate=%{y}<extra></extra>",
         "legendgroup": "Steel - Miscellaneous",
         "line": {
          "color": "#ab63fa",
          "dash": "solid"
         },
         "marker": {
          "symbol": "circle"
         },
         "mode": "lines",
         "name": "Steel - Miscellaneous",
         "orientation": "v",
         "showlegend": true,
         "type": "scatter",
         "x": [
          "2022-06-30T00:00:00",
          "2022-07-31T00:00:00",
          "2022-08-31T00:00:00",
          "2022-09-30T00:00:00",
          "2022-10-31T00:00:00",
          "2022-11-30T00:00:00",
          "2022-12-31T00:00:00",
          "2023-01-31T00:00:00",
          "2023-02-28T00:00:00",
          "2023-03-31T00:00:00"
         ],
         "xaxis": "x",
         "y": [
          0,
          0,
          0,
          0.006205398696866274,
          0.00290518211860406,
          0.21954939176228092,
          0.13911284544524052,
          0.09636813694359449,
          0.13806320252726145,
          0.23076923076923078
         ],
         "yaxis": "y"
        },
        {
         "hovertemplate": "cbs_description=Switchgear<br>month_ending=%{x}<br>production_rate=%{y}<extra></extra>",
         "legendgroup": "Switchgear",
         "line": {
          "color": "#FFA15A",
          "dash": "solid"
         },
         "marker": {
          "symbol": "circle"
         },
         "mode": "lines",
         "name": "Switchgear",
         "orientation": "v",
         "showlegend": true,
         "type": "scatter",
         "x": [
          "2022-06-30T00:00:00",
          "2022-07-31T00:00:00",
          "2022-08-31T00:00:00",
          "2022-09-30T00:00:00",
          "2022-10-31T00:00:00",
          "2022-11-30T00:00:00",
          "2022-12-31T00:00:00",
          "2023-01-31T00:00:00",
          "2023-02-28T00:00:00",
          "2023-03-31T00:00:00",
          "2023-04-30T00:00:00"
         ],
         "xaxis": "x",
         "y": [
          0,
          2.3424242424242423,
          2.534375,
          0.0858974358974359,
          0.3274596182085169,
          0.08166037735849056,
          0.23604938271604933,
          0.1461696373693915,
          0.227921568627451,
          0.2546201232032854,
          null
         ],
         "yaxis": "y"
        },
        {
         "hovertemplate": "cbs_description=Backcharge<br>month_ending=%{x}<br>production_rate=%{y}<extra></extra>",
         "legendgroup": "Backcharge",
         "line": {
          "color": "#19d3f3",
          "dash": "solid"
         },
         "marker": {
          "symbol": "circle"
         },
         "mode": "lines",
         "name": "Backcharge",
         "orientation": "v",
         "showlegend": true,
         "type": "scatter",
         "x": [
          "2022-07-31T00:00:00",
          "2022-08-31T00:00:00",
          "2022-09-30T00:00:00",
          "2022-10-31T00:00:00",
          "2022-11-30T00:00:00",
          "2022-12-31T00:00:00",
          "2023-01-31T00:00:00"
         ],
         "xaxis": "x",
         "y": [
          0,
          4.246929577464789,
          0.022321428571428572,
          1.9053521126760564,
          null,
          null,
          0
         ],
         "yaxis": "y"
        },
        {
         "hovertemplate": "cbs_description=Rework<br>month_ending=%{x}<br>production_rate=%{y}<extra></extra>",
         "legendgroup": "Rework",
         "line": {
          "color": "#FF6692",
          "dash": "solid"
         },
         "marker": {
          "symbol": "circle"
         },
         "mode": "lines",
         "name": "Rework",
         "orientation": "v",
         "showlegend": true,
         "type": "scatter",
         "x": [
          "2022-07-31T00:00:00",
          "2022-08-31T00:00:00",
          "2022-09-30T00:00:00",
          "2022-10-31T00:00:00",
          "2022-11-30T00:00:00",
          "2022-12-31T00:00:00",
          "2023-01-31T00:00:00",
          "2023-02-28T00:00:00",
          "2023-03-31T00:00:00"
         ],
         "xaxis": "x",
         "y": [
          0,
          0,
          1.2987012987012988e-05,
          0.9133078311079034,
          0.25102124183006536,
          0.492756064690027,
          0.1865262126408623,
          0.4622402059959536,
          0.41434624697336564
         ],
         "yaxis": "y"
        },
        {
         "hovertemplate": "cbs_description=HVAC<br>month_ending=%{x}<br>production_rate=%{y}<extra></extra>",
         "legendgroup": "HVAC",
         "line": {
          "color": "#B6E880",
          "dash": "solid"
         },
         "marker": {
          "symbol": "circle"
         },
         "mode": "lines",
         "name": "HVAC",
         "orientation": "v",
         "showlegend": true,
         "type": "scatter",
         "x": [
          "2022-08-31T00:00:00",
          "2022-09-30T00:00:00",
          "2022-10-31T00:00:00",
          "2022-11-30T00:00:00",
          "2022-12-31T00:00:00",
          "2023-01-31T00:00:00",
          "2023-02-28T00:00:00",
          "2023-03-31T00:00:00"
         ],
         "xaxis": "x",
         "y": [
          null,
          0,
          0,
          null,
          null,
          null,
          0.1125,
          null
         ],
         "yaxis": "y"
        },
        {
         "hovertemplate": "cbs_description=Piping - Extra Work<br>month_ending=%{x}<br>production_rate=%{y}<extra></extra>",
         "legendgroup": "Piping - Extra Work",
         "line": {
          "color": "#FF97FF",
          "dash": "solid"
         },
         "marker": {
          "symbol": "circle"
         },
         "mode": "lines",
         "name": "Piping - Extra Work",
         "orientation": "v",
         "showlegend": true,
         "type": "scatter",
         "x": [
          "2022-08-31T00:00:00",
          "2022-10-31T00:00:00"
         ],
         "xaxis": "x",
         "y": [
          0,
          null
         ],
         "yaxis": "y"
        },
        {
         "hovertemplate": "cbs_description=Precommissionong<br>month_ending=%{x}<br>production_rate=%{y}<extra></extra>",
         "legendgroup": "Precommissionong",
         "line": {
          "color": "#FECB52",
          "dash": "solid"
         },
         "marker": {
          "symbol": "circle"
         },
         "mode": "lines",
         "name": "Precommissionong",
         "orientation": "v",
         "showlegend": true,
         "type": "scatter",
         "x": [
          "2022-08-31T00:00:00",
          "2022-10-31T00:00:00",
          "2022-11-30T00:00:00",
          "2022-12-31T00:00:00",
          "2023-01-31T00:00:00",
          "2023-02-28T00:00:00",
          "2023-03-31T00:00:00"
         ],
         "xaxis": "x",
         "y": [
          0,
          0,
          0,
          0,
          0,
          0,
          3.5066115702479337
         ],
         "yaxis": "y"
        },
        {
         "hovertemplate": "cbs_description=Tubing/Raceway/Supports<br>month_ending=%{x}<br>production_rate=%{y}<extra></extra>",
         "legendgroup": "Tubing/Raceway/Supports",
         "line": {
          "color": "#636efa",
          "dash": "solid"
         },
         "marker": {
          "symbol": "circle"
         },
         "mode": "lines",
         "name": "Tubing/Raceway/Supports",
         "orientation": "v",
         "showlegend": true,
         "type": "scatter",
         "x": [
          "2022-08-31T00:00:00",
          "2022-09-30T00:00:00",
          "2022-10-31T00:00:00",
          "2022-11-30T00:00:00",
          "2022-12-31T00:00:00",
          "2023-01-31T00:00:00",
          "2023-02-28T00:00:00",
          "2023-03-31T00:00:00",
          "2023-04-30T00:00:00"
         ],
         "xaxis": "x",
         "y": [
          null,
          0.8581967213114754,
          0.9729135802469134,
          0.7681923551171395,
          0.5879153633854647,
          0.36081329252295574,
          0.8004878048780488,
          0.4648649164677804,
          null
         ],
         "yaxis": "y"
        },
        {
         "hovertemplate": "cbs_description=Fibre Optics<br>month_ending=%{x}<br>production_rate=%{y}<extra></extra>",
         "legendgroup": "Fibre Optics",
         "line": {
          "color": "#EF553B",
          "dash": "solid"
         },
         "marker": {
          "symbol": "circle"
         },
         "mode": "lines",
         "name": "Fibre Optics",
         "orientation": "v",
         "showlegend": true,
         "type": "scatter",
         "x": [
          "2022-09-30T00:00:00",
          "2022-10-31T00:00:00",
          "2022-11-30T00:00:00",
          "2022-12-31T00:00:00",
          "2023-01-31T00:00:00",
          "2023-02-28T00:00:00",
          "2023-03-31T00:00:00"
         ],
         "xaxis": "x",
         "y": [
          null,
          3.365111561866126,
          6.240089211039866,
          9.194285714285714,
          3.9722137404580153,
          3.838862559241706,
          7.698360655737705
         ],
         "yaxis": "y"
        },
        {
         "hovertemplate": "cbs_description=EHT<br>month_ending=%{x}<br>production_rate=%{y}<extra></extra>",
         "legendgroup": "EHT",
         "line": {
          "color": "#00cc96",
          "dash": "solid"
         },
         "marker": {
          "symbol": "circle"
         },
         "mode": "lines",
         "name": "EHT",
         "orientation": "v",
         "showlegend": true,
         "type": "scatter",
         "x": [
          "2022-10-31T00:00:00",
          "2022-11-30T00:00:00",
          "2022-12-31T00:00:00",
          "2023-01-31T00:00:00",
          "2023-02-28T00:00:00",
          "2023-03-31T00:00:00",
          "2023-04-30T00:00:00"
         ],
         "xaxis": "x",
         "y": [
          0,
          1.114772568229531,
          3.4073271436373567,
          2.6586443514644356,
          1.0140270727580374,
          2.0298152369526092,
          null
         ],
         "yaxis": "y"
        },
        {
         "hovertemplate": "cbs_description=Bench Testing / Calibration<br>month_ending=%{x}<br>production_rate=%{y}<extra></extra>",
         "legendgroup": "Bench Testing / Calibration",
         "line": {
          "color": "#ab63fa",
          "dash": "solid"
         },
         "marker": {
          "symbol": "circle"
         },
         "mode": "lines",
         "name": "Bench Testing / Calibration",
         "orientation": "v",
         "showlegend": true,
         "type": "scatter",
         "x": [
          "2022-12-31T00:00:00",
          "2023-01-31T00:00:00",
          "2023-02-28T00:00:00",
          "2023-03-31T00:00:00"
         ],
         "xaxis": "x",
         "y": [
          1.8,
          2,
          1.0819672131147542,
          null
         ],
         "yaxis": "y"
        },
        {
         "hovertemplate": "cbs_description=Fire & Smoke Detection<br>month_ending=%{x}<br>production_rate=%{y}<extra></extra>",
         "legendgroup": "Fire & Smoke Detection",
         "line": {
          "color": "#FFA15A",
          "dash": "solid"
         },
         "marker": {
          "symbol": "circle"
         },
         "mode": "lines",
         "name": "Fire & Smoke Detection",
         "orientation": "v",
         "showlegend": true,
         "type": "scatter",
         "x": [
          "2023-02-28T00:00:00",
          "2023-03-31T00:00:00"
         ],
         "xaxis": "x",
         "y": [
          0,
          0.22310756972111553
         ],
         "yaxis": "y"
        },
        {
         "hovertemplate": "cbs_description=Fireproofing<br>month_ending=%{x}<br>production_rate=%{y}<extra></extra>",
         "legendgroup": "Fireproofing",
         "line": {
          "color": "#19d3f3",
          "dash": "solid"
         },
         "marker": {
          "symbol": "circle"
         },
         "mode": "lines",
         "name": "Fireproofing",
         "orientation": "v",
         "showlegend": true,
         "type": "scatter",
         "x": [
          "2023-02-28T00:00:00",
          "2023-03-31T00:00:00"
         ],
         "xaxis": "x",
         "y": [
          null,
          null
         ],
         "yaxis": "y"
        }
       ],
       "layout": {
        "autosize": true,
        "legend": {
         "title": {
          "text": "cbs_description"
         },
         "tracegroupgap": 0
        },
        "margin": {
         "t": 60
        },
        "template": {
         "data": {
          "bar": [
           {
            "error_x": {
             "color": "#2a3f5f"
            },
            "error_y": {
             "color": "#2a3f5f"
            },
            "marker": {
             "line": {
              "color": "#E5ECF6",
              "width": 0.5
             },
             "pattern": {
              "fillmode": "overlay",
              "size": 10,
              "solidity": 0.2
             }
            },
            "type": "bar"
           }
          ],
          "barpolar": [
           {
            "marker": {
             "line": {
              "color": "#E5ECF6",
              "width": 0.5
             },
             "pattern": {
              "fillmode": "overlay",
              "size": 10,
              "solidity": 0.2
             }
            },
            "type": "barpolar"
           }
          ],
          "carpet": [
           {
            "aaxis": {
             "endlinecolor": "#2a3f5f",
             "gridcolor": "white",
             "linecolor": "white",
             "minorgridcolor": "white",
             "startlinecolor": "#2a3f5f"
            },
            "baxis": {
             "endlinecolor": "#2a3f5f",
             "gridcolor": "white",
             "linecolor": "white",
             "minorgridcolor": "white",
             "startlinecolor": "#2a3f5f"
            },
            "type": "carpet"
           }
          ],
          "choropleth": [
           {
            "colorbar": {
             "outlinewidth": 0,
             "ticks": ""
            },
            "type": "choropleth"
           }
          ],
          "contour": [
           {
            "colorbar": {
             "outlinewidth": 0,
             "ticks": ""
            },
            "colorscale": [
             [
              0,
              "#0d0887"
             ],
             [
              0.1111111111111111,
              "#46039f"
             ],
             [
              0.2222222222222222,
              "#7201a8"
             ],
             [
              0.3333333333333333,
              "#9c179e"
             ],
             [
              0.4444444444444444,
              "#bd3786"
             ],
             [
              0.5555555555555556,
              "#d8576b"
             ],
             [
              0.6666666666666666,
              "#ed7953"
             ],
             [
              0.7777777777777778,
              "#fb9f3a"
             ],
             [
              0.8888888888888888,
              "#fdca26"
             ],
             [
              1,
              "#f0f921"
             ]
            ],
            "type": "contour"
           }
          ],
          "contourcarpet": [
           {
            "colorbar": {
             "outlinewidth": 0,
             "ticks": ""
            },
            "type": "contourcarpet"
           }
          ],
          "heatmap": [
           {
            "colorbar": {
             "outlinewidth": 0,
             "ticks": ""
            },
            "colorscale": [
             [
              0,
              "#0d0887"
             ],
             [
              0.1111111111111111,
              "#46039f"
             ],
             [
              0.2222222222222222,
              "#7201a8"
             ],
             [
              0.3333333333333333,
              "#9c179e"
             ],
             [
              0.4444444444444444,
              "#bd3786"
             ],
             [
              0.5555555555555556,
              "#d8576b"
             ],
             [
              0.6666666666666666,
              "#ed7953"
             ],
             [
              0.7777777777777778,
              "#fb9f3a"
             ],
             [
              0.8888888888888888,
              "#fdca26"
             ],
             [
              1,
              "#f0f921"
             ]
            ],
            "type": "heatmap"
           }
          ],
          "heatmapgl": [
           {
            "colorbar": {
             "outlinewidth": 0,
             "ticks": ""
            },
            "colorscale": [
             [
              0,
              "#0d0887"
             ],
             [
              0.1111111111111111,
              "#46039f"
             ],
             [
              0.2222222222222222,
              "#7201a8"
             ],
             [
              0.3333333333333333,
              "#9c179e"
             ],
             [
              0.4444444444444444,
              "#bd3786"
             ],
             [
              0.5555555555555556,
              "#d8576b"
             ],
             [
              0.6666666666666666,
              "#ed7953"
             ],
             [
              0.7777777777777778,
              "#fb9f3a"
             ],
             [
              0.8888888888888888,
              "#fdca26"
             ],
             [
              1,
              "#f0f921"
             ]
            ],
            "type": "heatmapgl"
           }
          ],
          "histogram": [
           {
            "marker": {
             "pattern": {
              "fillmode": "overlay",
              "size": 10,
              "solidity": 0.2
             }
            },
            "type": "histogram"
           }
          ],
          "histogram2d": [
           {
            "colorbar": {
             "outlinewidth": 0,
             "ticks": ""
            },
            "colorscale": [
             [
              0,
              "#0d0887"
             ],
             [
              0.1111111111111111,
              "#46039f"
             ],
             [
              0.2222222222222222,
              "#7201a8"
             ],
             [
              0.3333333333333333,
              "#9c179e"
             ],
             [
              0.4444444444444444,
              "#bd3786"
             ],
             [
              0.5555555555555556,
              "#d8576b"
             ],
             [
              0.6666666666666666,
              "#ed7953"
             ],
             [
              0.7777777777777778,
              "#fb9f3a"
             ],
             [
              0.8888888888888888,
              "#fdca26"
             ],
             [
              1,
              "#f0f921"
             ]
            ],
            "type": "histogram2d"
           }
          ],
          "histogram2dcontour": [
           {
            "colorbar": {
             "outlinewidth": 0,
             "ticks": ""
            },
            "colorscale": [
             [
              0,
              "#0d0887"
             ],
             [
              0.1111111111111111,
              "#46039f"
             ],
             [
              0.2222222222222222,
              "#7201a8"
             ],
             [
              0.3333333333333333,
              "#9c179e"
             ],
             [
              0.4444444444444444,
              "#bd3786"
             ],
             [
              0.5555555555555556,
              "#d8576b"
             ],
             [
              0.6666666666666666,
              "#ed7953"
             ],
             [
              0.7777777777777778,
              "#fb9f3a"
             ],
             [
              0.8888888888888888,
              "#fdca26"
             ],
             [
              1,
              "#f0f921"
             ]
            ],
            "type": "histogram2dcontour"
           }
          ],
          "mesh3d": [
           {
            "colorbar": {
             "outlinewidth": 0,
             "ticks": ""
            },
            "type": "mesh3d"
           }
          ],
          "parcoords": [
           {
            "line": {
             "colorbar": {
              "outlinewidth": 0,
              "ticks": ""
             }
            },
            "type": "parcoords"
           }
          ],
          "pie": [
           {
            "automargin": true,
            "type": "pie"
           }
          ],
          "scatter": [
           {
            "marker": {
             "colorbar": {
              "outlinewidth": 0,
              "ticks": ""
             }
            },
            "type": "scatter"
           }
          ],
          "scatter3d": [
           {
            "line": {
             "colorbar": {
              "outlinewidth": 0,
              "ticks": ""
             }
            },
            "marker": {
             "colorbar": {
              "outlinewidth": 0,
              "ticks": ""
             }
            },
            "type": "scatter3d"
           }
          ],
          "scattercarpet": [
           {
            "marker": {
             "colorbar": {
              "outlinewidth": 0,
              "ticks": ""
             }
            },
            "type": "scattercarpet"
           }
          ],
          "scattergeo": [
           {
            "marker": {
             "colorbar": {
              "outlinewidth": 0,
              "ticks": ""
             }
            },
            "type": "scattergeo"
           }
          ],
          "scattergl": [
           {
            "marker": {
             "colorbar": {
              "outlinewidth": 0,
              "ticks": ""
             }
            },
            "type": "scattergl"
           }
          ],
          "scattermapbox": [
           {
            "marker": {
             "colorbar": {
              "outlinewidth": 0,
              "ticks": ""
             }
            },
            "type": "scattermapbox"
           }
          ],
          "scatterpolar": [
           {
            "marker": {
             "colorbar": {
              "outlinewidth": 0,
              "ticks": ""
             }
            },
            "type": "scatterpolar"
           }
          ],
          "scatterpolargl": [
           {
            "marker": {
             "colorbar": {
              "outlinewidth": 0,
              "ticks": ""
             }
            },
            "type": "scatterpolargl"
           }
          ],
          "scatterternary": [
           {
            "marker": {
             "colorbar": {
              "outlinewidth": 0,
              "ticks": ""
             }
            },
            "type": "scatterternary"
           }
          ],
          "surface": [
           {
            "colorbar": {
             "outlinewidth": 0,
             "ticks": ""
            },
            "colorscale": [
             [
              0,
              "#0d0887"
             ],
             [
              0.1111111111111111,
              "#46039f"
             ],
             [
              0.2222222222222222,
              "#7201a8"
             ],
             [
              0.3333333333333333,
              "#9c179e"
             ],
             [
              0.4444444444444444,
              "#bd3786"
             ],
             [
              0.5555555555555556,
              "#d8576b"
             ],
             [
              0.6666666666666666,
              "#ed7953"
             ],
             [
              0.7777777777777778,
              "#fb9f3a"
             ],
             [
              0.8888888888888888,
              "#fdca26"
             ],
             [
              1,
              "#f0f921"
             ]
            ],
            "type": "surface"
           }
          ],
          "table": [
           {
            "cells": {
             "fill": {
              "color": "#EBF0F8"
             },
             "line": {
              "color": "white"
             }
            },
            "header": {
             "fill": {
              "color": "#C8D4E3"
             },
             "line": {
              "color": "white"
             }
            },
            "type": "table"
           }
          ]
         },
         "layout": {
          "annotationdefaults": {
           "arrowcolor": "#2a3f5f",
           "arrowhead": 0,
           "arrowwidth": 1
          },
          "autotypenumbers": "strict",
          "coloraxis": {
           "colorbar": {
            "outlinewidth": 0,
            "ticks": ""
           }
          },
          "colorscale": {
           "diverging": [
            [
             0,
             "#8e0152"
            ],
            [
             0.1,
             "#c51b7d"
            ],
            [
             0.2,
             "#de77ae"
            ],
            [
             0.3,
             "#f1b6da"
            ],
            [
             0.4,
             "#fde0ef"
            ],
            [
             0.5,
             "#f7f7f7"
            ],
            [
             0.6,
             "#e6f5d0"
            ],
            [
             0.7,
             "#b8e186"
            ],
            [
             0.8,
             "#7fbc41"
            ],
            [
             0.9,
             "#4d9221"
            ],
            [
             1,
             "#276419"
            ]
           ],
           "sequential": [
            [
             0,
             "#0d0887"
            ],
            [
             0.1111111111111111,
             "#46039f"
            ],
            [
             0.2222222222222222,
             "#7201a8"
            ],
            [
             0.3333333333333333,
             "#9c179e"
            ],
            [
             0.4444444444444444,
             "#bd3786"
            ],
            [
             0.5555555555555556,
             "#d8576b"
            ],
            [
             0.6666666666666666,
             "#ed7953"
            ],
            [
             0.7777777777777778,
             "#fb9f3a"
            ],
            [
             0.8888888888888888,
             "#fdca26"
            ],
            [
             1,
             "#f0f921"
            ]
           ],
           "sequentialminus": [
            [
             0,
             "#0d0887"
            ],
            [
             0.1111111111111111,
             "#46039f"
            ],
            [
             0.2222222222222222,
             "#7201a8"
            ],
            [
             0.3333333333333333,
             "#9c179e"
            ],
            [
             0.4444444444444444,
             "#bd3786"
            ],
            [
             0.5555555555555556,
             "#d8576b"
            ],
            [
             0.6666666666666666,
             "#ed7953"
            ],
            [
             0.7777777777777778,
             "#fb9f3a"
            ],
            [
             0.8888888888888888,
             "#fdca26"
            ],
            [
             1,
             "#f0f921"
            ]
           ]
          },
          "colorway": [
           "#636efa",
           "#EF553B",
           "#00cc96",
           "#ab63fa",
           "#FFA15A",
           "#19d3f3",
           "#FF6692",
           "#B6E880",
           "#FF97FF",
           "#FECB52"
          ],
          "font": {
           "color": "#2a3f5f"
          },
          "geo": {
           "bgcolor": "white",
           "lakecolor": "white",
           "landcolor": "#E5ECF6",
           "showlakes": true,
           "showland": true,
           "subunitcolor": "white"
          },
          "hoverlabel": {
           "align": "left"
          },
          "hovermode": "closest",
          "mapbox": {
           "style": "light"
          },
          "paper_bgcolor": "white",
          "plot_bgcolor": "#E5ECF6",
          "polar": {
           "angularaxis": {
            "gridcolor": "white",
            "linecolor": "white",
            "ticks": ""
           },
           "bgcolor": "#E5ECF6",
           "radialaxis": {
            "gridcolor": "white",
            "linecolor": "white",
            "ticks": ""
           }
          },
          "scene": {
           "xaxis": {
            "backgroundcolor": "#E5ECF6",
            "gridcolor": "white",
            "gridwidth": 2,
            "linecolor": "white",
            "showbackground": true,
            "ticks": "",
            "zerolinecolor": "white"
           },
           "yaxis": {
            "backgroundcolor": "#E5ECF6",
            "gridcolor": "white",
            "gridwidth": 2,
            "linecolor": "white",
            "showbackground": true,
            "ticks": "",
            "zerolinecolor": "white"
           },
           "zaxis": {
            "backgroundcolor": "#E5ECF6",
            "gridcolor": "white",
            "gridwidth": 2,
            "linecolor": "white",
            "showbackground": true,
            "ticks": "",
            "zerolinecolor": "white"
           }
          },
          "shapedefaults": {
           "line": {
            "color": "#2a3f5f"
           }
          },
          "ternary": {
           "aaxis": {
            "gridcolor": "white",
            "linecolor": "white",
            "ticks": ""
           },
           "baxis": {
            "gridcolor": "white",
            "linecolor": "white",
            "ticks": ""
           },
           "bgcolor": "#E5ECF6",
           "caxis": {
            "gridcolor": "white",
            "linecolor": "white",
            "ticks": ""
           }
          },
          "title": {
           "x": 0.05
          },
          "xaxis": {
           "automargin": true,
           "gridcolor": "white",
           "linecolor": "white",
           "ticks": "",
           "title": {
            "standoff": 15
           },
           "zerolinecolor": "white",
           "zerolinewidth": 2
          },
          "yaxis": {
           "automargin": true,
           "gridcolor": "white",
           "linecolor": "white",
           "ticks": "",
           "title": {
            "standoff": 15
           },
           "zerolinecolor": "white",
           "zerolinewidth": 2
          }
         }
        },
        "xaxis": {
         "anchor": "y",
         "autorange": true,
         "domain": [
          0,
          1
         ],
         "range": [
          "2020-11-30",
          "2023-04-30"
         ],
         "title": {
          "text": "month_ending"
         },
         "type": "date"
        },
        "yaxis": {
         "anchor": "x",
         "autorange": true,
         "domain": [
          0,
          1
         ],
         "range": [
          -24.32336182336182,
          462.14387464387465
         ],
         "title": {
          "text": "production_rate"
         },
         "type": "linear"
        }
       }
      },
      "image/png": "[encoded data removed]",
      "text/html": [
       "<div>                            <div id=\"ea900fcd-934b-408a-8a57-0c7037e01db2\" class=\"plotly-graph-div\" style=\"height:525px; width:100%;\"></div>            <script type=\"text/javascript\">                require([\"plotly\"], function(Plotly) {                    window.PLOTLYENV=window.PLOTLYENV || {};                                    if (document.getElementById(\"ea900fcd-934b-408a-8a57-0c7037e01db2\")) {                    Plotly.newPlot(                        \"ea900fcd-934b-408a-8a57-0c7037e01db2\",                        [{\"hovertemplate\":\"cbs_description=Civil - Site Prep<br>month_ending=%{x}<br>production_rate=%{y}<extra></extra>\",\"legendgroup\":\"Civil - Site Prep\",\"line\":{\"color\":\"#636efa\",\"dash\":\"solid\"},\"marker\":{\"symbol\":\"circle\"},\"mode\":\"lines\",\"name\":\"Civil - Site Prep\",\"orientation\":\"v\",\"showlegend\":true,\"x\":[\"2020-11-30T00:00:00\",\"2020-12-31T00:00:00\",\"2021-01-31T00:00:00\",\"2021-02-28T00:00:00\",\"2021-03-31T00:00:00\",\"2021-04-30T00:00:00\",\"2021-05-31T00:00:00\",\"2021-06-30T00:00:00\",\"2021-07-31T00:00:00\",\"2021-08-31T00:00:00\",\"2021-09-30T00:00:00\",\"2021-10-31T00:00:00\",\"2021-11-30T00:00:00\",\"2021-12-31T00:00:00\",\"2022-02-28T00:00:00\",\"2022-03-31T00:00:00\",\"2022-05-31T00:00:00\",\"2022-08-31T00:00:00\",\"2022-09-30T00:00:00\",\"2022-10-31T00:00:00\",\"2022-11-30T00:00:00\"],\"xaxis\":\"x\",\"y\":[0.0,null,null,0.0,null,0.0,41.99805003679176,59.145516331962256,5.090063258372432,2.5301279624330473,1.3502964748741026,4.454194109829811,3.5677035402136483,8.218736973739057,0.0,0.0,0.0,null,null,null,null],\"yaxis\":\"y\",\"type\":\"scatter\"},{\"hovertemplate\":\"cbs_description=Concrete - Miscellaneous<br>month_ending=%{x}<br>production_rate=%{y}<extra></extra>\",\"legendgroup\":\"Concrete - Miscellaneous\",\"line\":{\"color\":\"#EF553B\",\"dash\":\"solid\"},\"marker\":{\"symbol\":\"circle\"},\"mode\":\"lines\",\"name\":\"Concrete - Miscellaneous\",\"orientation\":\"v\",\"showlegend\":true,\"x\":[\"2020-11-30T00:00:00\",\"2020-12-31T00:00:00\",\"2021-01-31T00:00:00\",\"2021-03-31T00:00:00\",\"2021-04-30T00:00:00\",\"2021-05-31T00:00:00\",\"2021-06-30T00:00:00\",\"2021-07-31T00:00:00\",\"2021-08-31T00:00:00\",\"2021-09-30T00:00:00\",\"2021-10-31T00:00:00\",\"2021-11-30T00:00:00\",\"2021-12-31T00:00:00\",\"2022-01-31T00:00:00\",\"2022-02-28T00:00:00\",\"2022-03-31T00:00:00\",\"2022-04-30T00:00:00\",\"2022-05-31T00:00:00\",\"2022-06-30T00:00:00\",\"2022-07-31T00:00:00\",\"2022-08-31T00:00:00\",\"2022-09-30T00:00:00\",\"2022-10-31T00:00:00\",\"2022-11-30T00:00:00\",\"2022-12-31T00:00:00\",\"2023-01-31T00:00:00\",\"2023-02-28T00:00:00\",\"2023-03-31T00:00:00\"],\"xaxis\":\"x\",\"y\":[0.0,0.6224543080939947,null,null,0.2703684438664933,0.682212144116906,1.213161407491487,0.979807362918474,0.7697010745685444,0.33058392465488323,0.6489447832536673,0.8141526915113871,1.1447812499999999,0.8491887550200803,0.3276642264519278,0.2924863636363636,0.3837723859041016,1.3545982830728593,0.5818577648766328,0.7202497308934338,2.4197978759849263,0.43421814671814674,0.4424627336732217,0.04319,0.2160204234870101,0.3983785488958991,0.2103148479427549,1.6142241379310345],\"yaxis\":\"y\",\"type\":\"scatter\"},{\"hovertemplate\":\"cbs_description=Piling - Cast in Place<br>month_ending=%{x}<br>production_rate=%{y}<extra></extra>\",\"legendgroup\":\"Piling - Cast in Place\",\"line\":{\"color\":\"#00cc96\",\"dash\":\"solid\"},\"marker\":{\"symbol\":\"circle\"},\"mode\":\"lines\",\"name\":\"Piling - Cast in Place\",\"orientation\":\"v\",\"showlegend\":true,\"x\":[\"2021-01-31T00:00:00\",\"2021-02-28T00:00:00\",\"2021-03-31T00:00:00\",\"2021-04-30T00:00:00\",\"2021-05-31T00:00:00\",\"2021-06-30T00:00:00\",\"2021-07-31T00:00:00\",\"2021-08-31T00:00:00\",\"2021-09-30T00:00:00\",\"2021-10-31T00:00:00\",\"2021-11-30T00:00:00\",\"2021-12-31T00:00:00\",\"2022-01-31T00:00:00\",\"2022-02-28T00:00:00\",\"2022-04-30T00:00:00\",\"2022-05-31T00:00:00\",\"2022-06-30T00:00:00\"],\"xaxis\":\"x\",\"y\":[0.0,1.775,0.47368421052631576,0.05445116681071737,0.173053152039555,0.4224289665577068,1.3036342321219225,0.6404744255003706,0.0,0.10471204188481675,0.20433996383363473,0.12544802867383512,0.0,0.0,0.1592920353982301,0.0,0.12371134020618557],\"yaxis\":\"y\",\"type\":\"scatter\"},{\"hovertemplate\":\"cbs_description=Concrete - Equipment Foundations<br>month_ending=%{x}<br>production_rate=%{y}<extra></extra>\",\"legendgroup\":\"Concrete - Equipment Foundations\",\"line\":{\"color\":\"#ab63fa\",\"dash\":\"solid\"},\"marker\":{\"symbol\":\"circle\"},\"mode\":\"lines\",\"name\":\"Concrete - Equipment Foundations\",\"orientation\":\"v\",\"showlegend\":true,\"x\":[\"2021-03-31T00:00:00\",\"2021-04-30T00:00:00\",\"2021-05-31T00:00:00\",\"2021-06-30T00:00:00\",\"2021-07-31T00:00:00\",\"2021-08-31T00:00:00\",\"2021-09-30T00:00:00\",\"2021-10-31T00:00:00\",\"2021-11-30T00:00:00\",\"2021-12-31T00:00:00\",\"2022-01-31T00:00:00\",\"2022-02-28T00:00:00\",\"2022-03-31T00:00:00\",\"2022-04-30T00:00:00\",\"2022-05-31T00:00:00\",\"2022-06-30T00:00:00\",\"2022-07-31T00:00:00\",\"2022-08-31T00:00:00\",\"2022-09-30T00:00:00\",\"2022-10-31T00:00:00\",\"2022-11-30T00:00:00\",\"2022-12-31T00:00:00\",\"2023-01-31T00:00:00\"],\"xaxis\":\"x\",\"y\":[1.069527896995708,0.8896658896658897,1.1163522012578617,1.3257744207756936,0.7933591231463571,0.24892768128741047,0.457298039605931,1.1228598791471895,1.6476853680430879,2.0547060621497706,1.0475841995841995,0.5207217694994178,0.14837413394919166,3.0785888738127545,1.0546234531526224,1.1900362694300517,0.488661311914324,0.8656714313687097,0.4221509433962264,0.8755700325732899,0.5096237623762376,0.9726666666666667,0.0],\"yaxis\":\"y\",\"type\":\"scatter\"},{\"hovertemplate\":\"cbs_description=Electrical - Miscellaneous<br>month_ending=%{x}<br>production_rate=%{y}<extra></extra>\",\"legendgroup\":\"Electrical - Miscellaneous\",\"line\":{\"color\":\"#FFA15A\",\"dash\":\"solid\"},\"marker\":{\"symbol\":\"circle\"},\"mode\":\"lines\",\"name\":\"Electrical - Miscellaneous\",\"orientation\":\"v\",\"showlegend\":true,\"x\":[\"2021-03-31T00:00:00\",\"2021-04-30T00:00:00\",\"2021-05-31T00:00:00\",\"2021-06-30T00:00:00\",\"2021-07-31T00:00:00\",\"2021-08-31T00:00:00\",\"2021-09-30T00:00:00\",\"2021-10-31T00:00:00\",\"2021-11-30T00:00:00\",\"2021-12-31T00:00:00\",\"2022-01-31T00:00:00\",\"2022-02-28T00:00:00\",\"2022-03-31T00:00:00\",\"2022-04-30T00:00:00\",\"2022-05-31T00:00:00\",\"2022-06-30T00:00:00\",\"2022-07-31T00:00:00\",\"2022-08-31T00:00:00\",\"2022-09-30T00:00:00\",\"2022-10-31T00:00:00\",\"2022-11-30T00:00:00\",\"2022-12-31T00:00:00\",\"2023-01-31T00:00:00\",\"2023-02-28T00:00:00\",\"2023-03-31T00:00:00\"],\"xaxis\":\"x\",\"y\":[0.0,0.9728301886792453,2.3870370370370373,1.3743718887262077,2.471487316421896,2.1334864048338367,4.527972711768051,1.8952091906721538,3.2544445765230314,2.7804071856287425,0.17391304347826086,0.05263157894736842,57.96875,-2.1779087686133338e-16,1.1549019607843138,0.49747899159663866,1.1889250814332248,19.152727272727276,12.295721925133691,8.523747790218032,4.148570007460831,7.811591071570418,5.253095590864967,4.755978165077277,5.348937258034781],\"yaxis\":\"y\",\"type\":\"scatter\"},{\"hovertemplate\":\"cbs_description=Grounding<br>month_ending=%{x}<br>production_rate=%{y}<extra></extra>\",\"legendgroup\":\"Grounding\",\"line\":{\"color\":\"#19d3f3\",\"dash\":\"solid\"},\"marker\":{\"symbol\":\"circle\"},\"mode\":\"lines\",\"name\":\"Grounding\",\"orientation\":\"v\",\"showlegend\":true,\"x\":[\"2021-03-31T00:00:00\",\"2021-04-30T00:00:00\",\"2021-05-31T00:00:00\",\"2021-06-30T00:00:00\",\"2021-07-31T00:00:00\",\"2021-08-31T00:00:00\",\"2021-09-30T00:00:00\",\"2021-10-31T00:00:00\",\"2021-11-30T00:00:00\",\"2021-12-31T00:00:00\",\"2022-01-31T00:00:00\",\"2022-02-28T00:00:00\",\"2022-03-31T00:00:00\",\"2022-04-30T00:00:00\",\"2022-05-31T00:00:00\",\"2022-06-30T00:00:00\",\"2022-07-31T00:00:00\",\"2022-08-31T00:00:00\",\"2022-09-30T00:00:00\",\"2022-10-31T00:00:00\",\"2022-11-30T00:00:00\",\"2022-12-31T00:00:00\",\"2023-01-31T00:00:00\",\"2023-02-28T00:00:00\",\"2023-03-31T00:00:00\"],\"xaxis\":\"x\",\"y\":[0.0,14.101090909090908,3.3232901023890786,5.263674858223062,1.1288465346534653,0.7919799498746867,9.373666419570053,2.8004915590863955,7.613398823529412,6.520882807852469,4.444949494949494,3.475573076923077,1.9482751091703059,3.480391304347826,1.8930304671631686,2.2419685430463576,1.9505114653854554,2.1017496503496504,1.7986331849968213,0.38809187279151935,2.8345884586180716,0.6234458977407847,0.1935041928721174,0.8829787234042553,0.4594285714285714],\"yaxis\":\"y\",\"type\":\"scatter\"},{\"hovertemplate\":\"cbs_description=Hydrotesting<br>month_ending=%{x}<br>production_rate=%{y}<extra></extra>\",\"legendgroup\":\"Hydrotesting\",\"line\":{\"color\":\"#FF6692\",\"dash\":\"solid\"},\"marker\":{\"symbol\":\"circle\"},\"mode\":\"lines\",\"name\":\"Hydrotesting\",\"orientation\":\"v\",\"showlegend\":true,\"x\":[\"2021-04-30T00:00:00\",\"2021-05-31T00:00:00\",\"2021-06-30T00:00:00\",\"2021-07-31T00:00:00\",\"2021-08-31T00:00:00\",\"2021-09-30T00:00:00\",\"2021-10-31T00:00:00\",\"2021-11-30T00:00:00\",\"2021-12-31T00:00:00\",\"2022-05-31T00:00:00\",\"2022-06-30T00:00:00\",\"2022-07-31T00:00:00\",\"2022-08-31T00:00:00\",\"2022-09-30T00:00:00\",\"2022-10-31T00:00:00\",\"2022-11-30T00:00:00\",\"2022-12-31T00:00:00\",\"2023-01-31T00:00:00\",\"2023-02-28T00:00:00\",\"2023-03-31T00:00:00\",\"2023-04-30T00:00:00\"],\"xaxis\":\"x\",\"y\":[0.0,2.970279937791602,4.043746682750301,2.5872355343771276,1.88303609580569,1.1964292933618843,2.6353245257452573,1.5807267326732675,5.260978723404255,0.0,0.0,null,0.0,0.0,0.0,0.03459958192171845,0.046803484423446035,0.028608795161026646,0.04498541758727353,0.033106798949518526,null],\"yaxis\":\"y\",\"type\":\"scatter\"},{\"hovertemplate\":\"cbs_description=Tanks<br>month_ending=%{x}<br>production_rate=%{y}<extra></extra>\",\"legendgroup\":\"Tanks\",\"line\":{\"color\":\"#B6E880\",\"dash\":\"solid\"},\"marker\":{\"symbol\":\"circle\"},\"mode\":\"lines\",\"name\":\"Tanks\",\"orientation\":\"v\",\"showlegend\":true,\"x\":[\"2021-04-30T00:00:00\",\"2021-06-30T00:00:00\",\"2021-08-31T00:00:00\",\"2021-09-30T00:00:00\",\"2021-10-31T00:00:00\",\"2021-11-30T00:00:00\",\"2021-12-31T00:00:00\",\"2022-01-31T00:00:00\",\"2022-02-28T00:00:00\",\"2022-03-31T00:00:00\",\"2022-04-30T00:00:00\",\"2022-05-31T00:00:00\",\"2022-06-30T00:00:00\",\"2022-07-31T00:00:00\",\"2022-09-30T00:00:00\",\"2022-10-31T00:00:00\",\"2022-11-30T00:00:00\",\"2022-12-31T00:00:00\",\"2023-01-31T00:00:00\",\"2023-02-28T00:00:00\",\"2023-03-31T00:00:00\"],\"xaxis\":\"x\",\"y\":[0.022284122562674095,0.0,0.04664723032069971,0.0,0.0,0.0,0.7554545454545454,null,null,2.6272,2.5984251968503935,0.19458937198067633,0.3775586854460094,3.4158823529411766,0.011723122238586157,4.71,0.035398230088495575,null,0.0,0.08636363636363636,0.0],\"yaxis\":\"y\",\"type\":\"scatter\"},{\"hovertemplate\":\"cbs_description=U/G - Carbon Steel (JY)<br>month_ending=%{x}<br>production_rate=%{y}<extra></extra>\",\"legendgroup\":\"U/G - Carbon Steel (JY)\",\"line\":{\"color\":\"#FF97FF\",\"dash\":\"solid\"},\"marker\":{\"symbol\":\"circle\"},\"mode\":\"lines\",\"name\":\"U/G - Carbon Steel (JY)\",\"orientation\":\"v\",\"showlegend\":true,\"x\":[\"2021-04-30T00:00:00\",\"2021-05-31T00:00:00\",\"2021-06-30T00:00:00\",\"2021-07-31T00:00:00\",\"2021-08-31T00:00:00\",\"2021-09-30T00:00:00\",\"2021-10-31T00:00:00\",\"2021-11-30T00:00:00\",\"2021-12-31T00:00:00\",\"2022-01-31T00:00:00\",\"2022-05-31T00:00:00\",\"2022-06-30T00:00:00\",\"2022-07-31T00:00:00\",\"2022-08-31T00:00:00\",\"2022-09-30T00:00:00\",\"2022-10-31T00:00:00\",\"2022-11-30T00:00:00\",\"2023-01-31T00:00:00\",\"2023-02-28T00:00:00\"],\"xaxis\":\"x\",\"y\":[0.10298423236514523,0.3407568831168831,0.4775646645474318,0.47127717391304347,0.4811557839468245,0.2871361382632101,0.4526905987935854,1.0938875091307523,null,0.0,0.03174814814814815,0.10810810810810811,null,0.0,0.0,null,null,null,0.4444444444444444],\"yaxis\":\"y\",\"type\":\"scatter\"},{\"hovertemplate\":\"cbs_description=U/G - HDPE<br>month_ending=%{x}<br>production_rate=%{y}<extra></extra>\",\"legendgroup\":\"U/G - HDPE\",\"line\":{\"color\":\"#FECB52\",\"dash\":\"solid\"},\"marker\":{\"symbol\":\"circle\"},\"mode\":\"lines\",\"name\":\"U/G - HDPE\",\"orientation\":\"v\",\"showlegend\":true,\"x\":[\"2021-04-30T00:00:00\",\"2021-05-31T00:00:00\",\"2021-06-30T00:00:00\",\"2021-07-31T00:00:00\",\"2021-08-31T00:00:00\",\"2021-09-30T00:00:00\",\"2021-10-31T00:00:00\",\"2021-11-30T00:00:00\",\"2021-12-31T00:00:00\",\"2022-01-31T00:00:00\",\"2022-03-31T00:00:00\",\"2022-05-31T00:00:00\",\"2022-07-31T00:00:00\",\"2022-08-31T00:00:00\",\"2022-12-31T00:00:00\",\"2023-01-31T00:00:00\",\"2023-03-31T00:00:00\"],\"xaxis\":\"x\",\"y\":[1.2262773722627738,1.3388188096021045,1.082240534521158,0.8217570451436388,1.227711241977106,0.9739166397415185,1.167726980038635,3.128535714285714,3.3815965665236054,0.0,0.0,0.0,1.1935014245014244,0.0,null,null,null],\"yaxis\":\"y\",\"type\":\"scatter\"},{\"hovertemplate\":\"cbs_description=Ancilliary Steel<br>month_ending=%{x}<br>production_rate=%{y}<extra></extra>\",\"legendgroup\":\"Ancilliary Steel\",\"line\":{\"color\":\"#636efa\",\"dash\":\"solid\"},\"marker\":{\"symbol\":\"circle\"},\"mode\":\"lines\",\"name\":\"Ancilliary Steel\",\"orientation\":\"v\",\"showlegend\":true,\"x\":[\"2021-05-31T00:00:00\",\"2021-07-31T00:00:00\",\"2021-09-30T00:00:00\",\"2021-10-31T00:00:00\",\"2021-11-30T00:00:00\",\"2021-12-31T00:00:00\",\"2022-01-31T00:00:00\",\"2022-02-28T00:00:00\",\"2022-03-31T00:00:00\",\"2022-04-30T00:00:00\",\"2022-05-31T00:00:00\",\"2022-06-30T00:00:00\",\"2022-07-31T00:00:00\",\"2022-08-31T00:00:00\",\"2022-09-30T00:00:00\",\"2022-10-31T00:00:00\",\"2022-11-30T00:00:00\",\"2022-12-31T00:00:00\",\"2023-01-31T00:00:00\",\"2023-02-28T00:00:00\",\"2023-03-31T00:00:00\"],\"xaxis\":\"x\",\"y\":[null,null,null,null,0.477984,0.8084210526315789,0.043841155234657044,0.0826470588235294,0.24167741935483872,null,null,0.20874545454545457,1.08675,0.22373913043478258,0.035148387096774196,0.02557467911318553,0.031355990387916234,0.8796455696202532,0.1764,0.012473684210526316,0.03978409090909091],\"yaxis\":\"y\",\"type\":\"scatter\"},{\"hovertemplate\":\"cbs_description=Cathodic Protection<br>month_ending=%{x}<br>production_rate=%{y}<extra></extra>\",\"legendgroup\":\"Cathodic Protection\",\"line\":{\"color\":\"#EF553B\",\"dash\":\"solid\"},\"marker\":{\"symbol\":\"circle\"},\"mode\":\"lines\",\"name\":\"Cathodic Protection\",\"orientation\":\"v\",\"showlegend\":true,\"x\":[\"2021-05-31T00:00:00\",\"2021-06-30T00:00:00\",\"2021-07-31T00:00:00\",\"2021-08-31T00:00:00\",\"2021-09-30T00:00:00\",\"2021-10-31T00:00:00\",\"2021-11-30T00:00:00\",\"2021-12-31T00:00:00\",\"2022-01-31T00:00:00\",\"2022-02-28T00:00:00\",\"2022-03-31T00:00:00\",\"2022-04-30T00:00:00\",\"2022-05-31T00:00:00\",\"2022-06-30T00:00:00\",\"2022-07-31T00:00:00\",\"2022-08-31T00:00:00\",\"2022-10-31T00:00:00\",\"2022-11-30T00:00:00\",\"2022-12-31T00:00:00\",\"2023-01-31T00:00:00\"],\"xaxis\":\"x\",\"y\":[1.4417877094972067,18.704941176470587,3.517426273458445,4.987387387387387,3.63302752293578,2.031154598825832,24.100640000000002,3.0555555555555554,0.0,0.1,0.43137254901960786,0.0,0.0,0.0,0.16666666666666666,null,0.0,0.005952380952380952,null,0.0],\"yaxis\":\"y\",\"type\":\"scatter\"},{\"hovertemplate\":\"cbs_description=Civil - Miscellaneous<br>month_ending=%{x}<br>production_rate=%{y}<extra></extra>\",\"legendgroup\":\"Civil - Miscellaneous\",\"line\":{\"color\":\"#00cc96\",\"dash\":\"solid\"},\"marker\":{\"symbol\":\"circle\"},\"mode\":\"lines\",\"name\":\"Civil - Miscellaneous\",\"orientation\":\"v\",\"showlegend\":true,\"x\":[\"2021-05-31T00:00:00\",\"2021-06-30T00:00:00\",\"2021-07-31T00:00:00\",\"2021-08-31T00:00:00\",\"2021-09-30T00:00:00\",\"2021-10-31T00:00:00\",\"2021-11-30T00:00:00\",\"2021-12-31T00:00:00\",\"2022-01-31T00:00:00\",\"2022-02-28T00:00:00\",\"2022-03-31T00:00:00\",\"2022-04-30T00:00:00\",\"2022-05-31T00:00:00\",\"2022-06-30T00:00:00\",\"2022-07-31T00:00:00\",\"2022-08-31T00:00:00\",\"2022-09-30T00:00:00\",\"2022-10-31T00:00:00\",\"2022-11-30T00:00:00\",\"2022-12-31T00:00:00\",\"2023-01-31T00:00:00\",\"2023-02-28T00:00:00\"],\"xaxis\":\"x\",\"y\":[69.50492610837438,44.36532265446225,23.019404715127703,4.9486178861788614,6.8540833333333335,40.61037890204521,98.8497075471698,null,0.9581250000000001,9.704761904761904,9.413793103448276,1.7950138504155124,5.293674698795181,0.0,1.478405315614618,1.9633082706766916,0.7784646061814556,8.033105639396346,9.463992623328723,null,2.6485950413223143,null],\"yaxis\":\"y\",\"type\":\"scatter\"},{\"hovertemplate\":\"cbs_description=Concrete - Columns and Elevated Beams<br>month_ending=%{x}<br>production_rate=%{y}<extra></extra>\",\"legendgroup\":\"Concrete - Columns and Elevated Beams\",\"line\":{\"color\":\"#ab63fa\",\"dash\":\"solid\"},\"marker\":{\"symbol\":\"circle\"},\"mode\":\"lines\",\"name\":\"Concrete - Columns and Elevated Beams\",\"orientation\":\"v\",\"showlegend\":true,\"x\":[\"2021-05-31T00:00:00\",\"2021-06-30T00:00:00\",\"2021-07-31T00:00:00\",\"2021-08-31T00:00:00\",\"2021-09-30T00:00:00\",\"2021-10-31T00:00:00\",\"2021-11-30T00:00:00\",\"2021-12-31T00:00:00\",\"2022-01-31T00:00:00\",\"2022-02-28T00:00:00\",\"2022-03-31T00:00:00\",\"2022-04-30T00:00:00\",\"2022-05-31T00:00:00\",\"2022-06-30T00:00:00\",\"2022-07-31T00:00:00\",\"2022-08-31T00:00:00\",\"2022-09-30T00:00:00\",\"2022-10-31T00:00:00\",\"2022-11-30T00:00:00\",\"2022-12-31T00:00:00\",\"2023-01-31T00:00:00\",\"2023-02-28T00:00:00\"],\"xaxis\":\"x\",\"y\":[0.0,null,null,0.7333695219123506,0.5280352644836271,0.45400744345834526,0.40339508506616256,1.450564901349948,0.45187726503986475,0.6031449236538977,1.402351046698873,0.47956521739130437,0.11812578616352201,0.5472782874617738,0.0,0.22168498168498166,0.37012987012987014,0.26859649122807017,0.0,0.0,0.0,0.0],\"yaxis\":\"y\",\"type\":\"scatter\"},{\"hovertemplate\":\"cbs_description=Concrete - Grout<br>month_ending=%{x}<br>production_rate=%{y}<extra></extra>\",\"legendgroup\":\"Concrete - Grout\",\"line\":{\"color\":\"#FFA15A\",\"dash\":\"solid\"},\"marker\":{\"symbol\":\"circle\"},\"mode\":\"lines\",\"name\":\"Concrete - Grout\",\"orientation\":\"v\",\"showlegend\":true,\"x\":[\"2021-05-31T00:00:00\",\"2021-09-30T00:00:00\",\"2021-10-31T00:00:00\",\"2021-11-30T00:00:00\",\"2021-12-31T00:00:00\",\"2022-01-31T00:00:00\",\"2022-02-28T00:00:00\",\"2022-03-31T00:00:00\",\"2022-04-30T00:00:00\",\"2022-05-31T00:00:00\",\"2022-06-30T00:00:00\",\"2022-07-31T00:00:00\",\"2022-08-31T00:00:00\",\"2022-09-30T00:00:00\",\"2022-10-31T00:00:00\",\"2022-11-30T00:00:00\",\"2022-12-31T00:00:00\",\"2023-01-31T00:00:00\",\"2023-02-28T00:00:00\",\"2023-03-31T00:00:00\"],\"xaxis\":\"x\",\"y\":[0.0,0.0,0.004364455039067673,0.01059047619047619,0.019639178515007898,0.011447665056360709,0.02492169873921699,0.017845258871436884,0.012483119353304803,0.012922519509476033,0.01456177296430004,0.011594810748576247,0.045728525613244336,0.03309025506867234,0.03738575982996812,0.0454784889821616,0.09617758985200846,0.011093768905021175,0.01072314049586777,0.00664058209774849],\"yaxis\":\"y\",\"type\":\"scatter\"},{\"hovertemplate\":\"cbs_description=Civil - Fencing<br>month_ending=%{x}<br>production_rate=%{y}<extra></extra>\",\"legendgroup\":\"Civil - Fencing\",\"line\":{\"color\":\"#19d3f3\",\"dash\":\"solid\"},\"marker\":{\"symbol\":\"circle\"},\"mode\":\"lines\",\"name\":\"Civil - Fencing\",\"orientation\":\"v\",\"showlegend\":true,\"x\":[\"2021-06-30T00:00:00\",\"2021-08-31T00:00:00\",\"2022-01-31T00:00:00\",\"2022-11-30T00:00:00\"],\"xaxis\":\"x\",\"y\":[0.0,0.0,null,null],\"yaxis\":\"y\",\"type\":\"scatter\"},{\"hovertemplate\":\"cbs_description=Concrete - Grade Beams<br>month_ending=%{x}<br>production_rate=%{y}<extra></extra>\",\"legendgroup\":\"Concrete - Grade Beams\",\"line\":{\"color\":\"#FF6692\",\"dash\":\"solid\"},\"marker\":{\"symbol\":\"circle\"},\"mode\":\"lines\",\"name\":\"Concrete - Grade Beams\",\"orientation\":\"v\",\"showlegend\":true,\"x\":[\"2021-06-30T00:00:00\",\"2021-07-31T00:00:00\",\"2021-08-31T00:00:00\",\"2021-09-30T00:00:00\",\"2021-10-31T00:00:00\",\"2021-11-30T00:00:00\",\"2021-12-31T00:00:00\",\"2022-01-31T00:00:00\",\"2022-02-28T00:00:00\",\"2022-03-31T00:00:00\",\"2022-04-30T00:00:00\",\"2022-05-31T00:00:00\",\"2022-08-31T00:00:00\"],\"xaxis\":\"x\",\"y\":[0.0,0.237551186440678,0.5354097421203439,0.10896375784571777,1.0505148076390811,0.445607697501688,2.1444972577696526,1.158344202898551,0.2751597167584579,0.634390625,0.780863309352518,4.1825,0.0],\"yaxis\":\"y\",\"type\":\"scatter\"},{\"hovertemplate\":\"cbs_description=Concrete - Pile Caps<br>month_ending=%{x}<br>production_rate=%{y}<extra></extra>\",\"legendgroup\":\"Concrete - Pile Caps\",\"line\":{\"color\":\"#B6E880\",\"dash\":\"solid\"},\"marker\":{\"symbol\":\"circle\"},\"mode\":\"lines\",\"name\":\"Concrete - Pile Caps\",\"orientation\":\"v\",\"showlegend\":true,\"x\":[\"2021-06-30T00:00:00\",\"2021-07-31T00:00:00\",\"2021-08-31T00:00:00\",\"2021-09-30T00:00:00\",\"2021-10-31T00:00:00\",\"2021-11-30T00:00:00\",\"2021-12-31T00:00:00\",\"2022-01-31T00:00:00\",\"2022-02-28T00:00:00\",\"2022-04-30T00:00:00\",\"2022-05-31T00:00:00\",\"2022-06-30T00:00:00\",\"2022-08-31T00:00:00\",\"2022-10-31T00:00:00\"],\"xaxis\":\"x\",\"y\":[0.5273804347826088,1.3274943977591036,1.2860222698072805,0.9071987966909001,0.9570413589364845,0.7346234629444999,1.298111944027986,0.8876494023904382,0.6927843137254902,1.3589268292682926,2.905364806866953,0.6035820895522388,null,null],\"yaxis\":\"y\",\"type\":\"scatter\"},{\"hovertemplate\":\"cbs_description=Concrete - Walls and Elevated Slabs<br>month_ending=%{x}<br>production_rate=%{y}<extra></extra>\",\"legendgroup\":\"Concrete - Walls and Elevated Slabs\",\"line\":{\"color\":\"#FF97FF\",\"dash\":\"solid\"},\"marker\":{\"symbol\":\"circle\"},\"mode\":\"lines\",\"name\":\"Concrete - Walls and Elevated Slabs\",\"orientation\":\"v\",\"showlegend\":true,\"x\":[\"2021-06-30T00:00:00\",\"2021-07-31T00:00:00\",\"2021-08-31T00:00:00\",\"2021-10-31T00:00:00\",\"2021-11-30T00:00:00\",\"2021-12-31T00:00:00\",\"2022-01-31T00:00:00\",\"2022-02-28T00:00:00\",\"2022-03-31T00:00:00\",\"2022-05-31T00:00:00\",\"2022-06-30T00:00:00\",\"2022-07-31T00:00:00\",\"2022-08-31T00:00:00\",\"2022-09-30T00:00:00\",\"2022-10-31T00:00:00\",\"2022-11-30T00:00:00\"],\"xaxis\":\"x\",\"y\":[0.5823282442748091,0.7590702702702703,0.0,1.1324983388704317,1.2659945024738868,1.182395875107419,0.538904540579192,4.021481203007519,0.0,0.06192393736017897,1.1075393419170243,0.0,0.0,0.0,0.0,0.0],\"yaxis\":\"y\",\"type\":\"scatter\"},{\"hovertemplate\":\"cbs_description=Pre Engineered Buildings<br>month_ending=%{x}<br>production_rate=%{y}<extra></extra>\",\"legendgroup\":\"Pre Engineered Buildings\",\"line\":{\"color\":\"#FECB52\",\"dash\":\"solid\"},\"marker\":{\"symbol\":\"circle\"},\"mode\":\"lines\",\"name\":\"Pre Engineered Buildings\",\"orientation\":\"v\",\"showlegend\":true,\"x\":[\"2021-06-30T00:00:00\",\"2021-07-31T00:00:00\",\"2021-08-31T00:00:00\",\"2021-09-30T00:00:00\",\"2021-10-31T00:00:00\",\"2021-11-30T00:00:00\",\"2021-12-31T00:00:00\",\"2022-01-31T00:00:00\",\"2022-02-28T00:00:00\",\"2022-03-31T00:00:00\",\"2022-04-30T00:00:00\",\"2022-05-31T00:00:00\",\"2022-06-30T00:00:00\",\"2022-07-31T00:00:00\",\"2022-08-31T00:00:00\",\"2022-10-31T00:00:00\"],\"xaxis\":\"x\",\"y\":[null,null,null,null,null,null,null,null,null,null,null,null,null,null,null,null],\"yaxis\":\"y\",\"type\":\"scatter\"},{\"hovertemplate\":\"cbs_description=Insulation<br>month_ending=%{x}<br>production_rate=%{y}<extra></extra>\",\"legendgroup\":\"Insulation\",\"line\":{\"color\":\"#636efa\",\"dash\":\"solid\"},\"marker\":{\"symbol\":\"circle\"},\"mode\":\"lines\",\"name\":\"Insulation\",\"orientation\":\"v\",\"showlegend\":true,\"x\":[\"2021-07-31T00:00:00\",\"2021-08-31T00:00:00\",\"2021-09-30T00:00:00\",\"2021-10-31T00:00:00\",\"2021-11-30T00:00:00\",\"2021-12-31T00:00:00\",\"2022-06-30T00:00:00\",\"2022-11-30T00:00:00\",\"2022-12-31T00:00:00\",\"2023-01-31T00:00:00\",\"2023-02-28T00:00:00\",\"2023-03-31T00:00:00\",\"2023-04-30T00:00:00\"],\"xaxis\":\"x\",\"y\":[6.613842696629214,0.7806893317702227,4.014675862068965,0.704008064516129,0.7219904761904762,null,0.0,null,null,null,null,null,null],\"yaxis\":\"y\",\"type\":\"scatter\"},{\"hovertemplate\":\"cbs_description=Concrete - Slab on Grade<br>month_ending=%{x}<br>production_rate=%{y}<extra></extra>\",\"legendgroup\":\"Concrete - Slab on Grade\",\"line\":{\"color\":\"#EF553B\",\"dash\":\"solid\"},\"marker\":{\"symbol\":\"circle\"},\"mode\":\"lines\",\"name\":\"Concrete - Slab on Grade\",\"orientation\":\"v\",\"showlegend\":true,\"x\":[\"2021-08-31T00:00:00\",\"2021-09-30T00:00:00\",\"2021-10-31T00:00:00\",\"2021-11-30T00:00:00\",\"2021-12-31T00:00:00\",\"2022-01-31T00:00:00\",\"2022-02-28T00:00:00\",\"2022-03-31T00:00:00\",\"2022-04-30T00:00:00\",\"2022-06-30T00:00:00\",\"2022-07-31T00:00:00\"],\"xaxis\":\"x\",\"y\":[0.0,2.0381689587426326,0.34366285370258887,5.190059822150364,2.064998435054773,null,0.0,null,0.0,0.0,0.0],\"yaxis\":\"y\",\"type\":\"scatter\"},{\"hovertemplate\":\"cbs_description=GTG's<br>month_ending=%{x}<br>production_rate=%{y}<extra></extra>\",\"legendgroup\":\"GTG's\",\"line\":{\"color\":\"#00cc96\",\"dash\":\"solid\"},\"marker\":{\"symbol\":\"circle\"},\"mode\":\"lines\",\"name\":\"GTG's\",\"orientation\":\"v\",\"showlegend\":true,\"x\":[\"2021-08-31T00:00:00\",\"2021-09-30T00:00:00\",\"2021-11-30T00:00:00\",\"2021-12-31T00:00:00\",\"2022-01-31T00:00:00\",\"2022-02-28T00:00:00\",\"2022-03-31T00:00:00\",\"2022-04-30T00:00:00\",\"2022-05-31T00:00:00\",\"2022-06-30T00:00:00\",\"2022-07-31T00:00:00\",\"2022-08-31T00:00:00\",\"2022-09-30T00:00:00\",\"2022-10-31T00:00:00\",\"2022-11-30T00:00:00\",\"2022-12-31T00:00:00\",\"2023-01-31T00:00:00\",\"2023-02-28T00:00:00\",\"2023-03-31T00:00:00\"],\"xaxis\":\"x\",\"y\":[0.0,0.0,0.025576208178438663,0.8266666666666665,0.0030257186081694403,0.08155326016785022,0.0907895652173913,0.05793858302259267,0.06950359869138495,0.06521586136441031,0.22683212140373066,0.19628167229729732,0.1272305909617613,0.16406971340046478,0.1438800372458745,0.1631097487966666,0.06468667687595712,0.21284054517017947,0.3375390566879929],\"yaxis\":\"y\",\"type\":\"scatter\"},{\"hovertemplate\":\"cbs_description=Main Steel<br>month_ending=%{x}<br>production_rate=%{y}<extra></extra>\",\"legendgroup\":\"Main Steel\",\"line\":{\"color\":\"#ab63fa\",\"dash\":\"solid\"},\"marker\":{\"symbol\":\"circle\"},\"mode\":\"lines\",\"name\":\"Main Steel\",\"orientation\":\"v\",\"showlegend\":true,\"x\":[\"2021-08-31T00:00:00\",\"2021-09-30T00:00:00\",\"2021-10-31T00:00:00\",\"2021-11-30T00:00:00\",\"2021-12-31T00:00:00\",\"2022-01-31T00:00:00\",\"2022-02-28T00:00:00\",\"2022-03-31T00:00:00\",\"2022-04-30T00:00:00\",\"2022-05-31T00:00:00\",\"2022-06-30T00:00:00\",\"2022-07-31T00:00:00\",\"2022-08-31T00:00:00\",\"2022-09-30T00:00:00\",\"2022-10-31T00:00:00\",\"2022-11-30T00:00:00\",\"2022-12-31T00:00:00\",\"2023-01-31T00:00:00\",\"2023-02-28T00:00:00\",\"2023-03-31T00:00:00\"],\"xaxis\":\"x\",\"y\":[null,0.2512725527831094,0.23646921662705708,0.46843469866225346,0.4208043875685558,0.3190418513047759,0.31171456373662015,0.226004440333025,0.18069308644111792,0.21295809613491415,0.19318530731390887,0.11050735024105948,0.1813330228559146,0.14944007845166912,0.0688234559309028,0.09906960163978254,0.1960984126984127,0.014526740665993946,0.10349429323968393,0.010651933701657458],\"yaxis\":\"y\",\"type\":\"scatter\"},{\"hovertemplate\":\"cbs_description=Cable - LV<br>month_ending=%{x}<br>production_rate=%{y}<extra></extra>\",\"legendgroup\":\"Cable - LV\",\"line\":{\"color\":\"#FFA15A\",\"dash\":\"solid\"},\"marker\":{\"symbol\":\"circle\"},\"mode\":\"lines\",\"name\":\"Cable - LV\",\"orientation\":\"v\",\"showlegend\":true,\"x\":[\"2021-09-30T00:00:00\",\"2021-12-31T00:00:00\",\"2022-01-31T00:00:00\",\"2022-02-28T00:00:00\",\"2022-03-31T00:00:00\",\"2022-04-30T00:00:00\",\"2022-05-31T00:00:00\",\"2022-06-30T00:00:00\",\"2022-07-31T00:00:00\",\"2022-08-31T00:00:00\",\"2022-09-30T00:00:00\",\"2022-10-31T00:00:00\",\"2022-11-30T00:00:00\",\"2022-12-31T00:00:00\",\"2023-01-31T00:00:00\",\"2023-02-28T00:00:00\",\"2023-03-31T00:00:00\"],\"xaxis\":\"x\",\"y\":[0.0,0.0,0.0,null,null,14.480851063829787,0.4830088495575221,1.3278747433264886,3.9580299563137094,2.842164542294322,2.4934815756035578,2.943965221243839,2.27973668920673,2.775234697459935,3.2274535121532852,1.426404708601141,2.3407768830904088],\"yaxis\":\"y\",\"type\":\"scatter\"},{\"hovertemplate\":\"cbs_description=Decking/Grating<br>month_ending=%{x}<br>production_rate=%{y}<extra></extra>\",\"legendgroup\":\"Decking/Grating\",\"line\":{\"color\":\"#19d3f3\",\"dash\":\"solid\"},\"marker\":{\"symbol\":\"circle\"},\"mode\":\"lines\",\"name\":\"Decking/Grating\",\"orientation\":\"v\",\"showlegend\":true,\"x\":[\"2021-09-30T00:00:00\",\"2021-10-31T00:00:00\",\"2021-11-30T00:00:00\",\"2021-12-31T00:00:00\",\"2022-01-31T00:00:00\",\"2022-02-28T00:00:00\",\"2022-03-31T00:00:00\",\"2022-04-30T00:00:00\",\"2022-05-31T00:00:00\",\"2022-06-30T00:00:00\",\"2022-07-31T00:00:00\",\"2022-08-31T00:00:00\",\"2022-09-30T00:00:00\",\"2022-10-31T00:00:00\",\"2022-11-30T00:00:00\",\"2022-12-31T00:00:00\",\"2023-01-31T00:00:00\",\"2023-02-28T00:00:00\",\"2023-03-31T00:00:00\"],\"xaxis\":\"x\",\"y\":[null,null,0.18129681717246482,0.307929648241206,0.2008859649122807,0.36956097560975615,0.31087619047619053,0.10409302325581395,2.3016,0.4094886363636364,0.07071595694899392,0.10788062485427838,0.09183333333333332,0.062212871873888825,0.2793678756476684,0.20935373087730252,0.03056470588235294,0.11814814814814815,0.09449999999999999],\"yaxis\":\"y\",\"type\":\"scatter\"},{\"hovertemplate\":\"cbs_description=Cranes, Hoists & Trolleys<br>month_ending=%{x}<br>production_rate=%{y}<extra></extra>\",\"legendgroup\":\"Cranes, Hoists & Trolleys\",\"line\":{\"color\":\"#FF6692\",\"dash\":\"solid\"},\"marker\":{\"symbol\":\"circle\"},\"mode\":\"lines\",\"name\":\"Cranes, Hoists & Trolleys\",\"orientation\":\"v\",\"showlegend\":true,\"x\":[\"2021-10-31T00:00:00\",\"2021-11-30T00:00:00\",\"2021-12-31T00:00:00\",\"2022-01-31T00:00:00\",\"2022-02-28T00:00:00\",\"2022-03-31T00:00:00\",\"2022-04-30T00:00:00\",\"2022-05-31T00:00:00\",\"2022-10-31T00:00:00\",\"2022-12-31T00:00:00\"],\"xaxis\":\"x\",\"y\":[0.0060790273556231,0.039473684210526314,0.003910614525139664,0.02536997885835095,0.0009624639076034649,0.0021604938271604936,0.0,0.0024390243902439024,null,0.08695652173913043],\"yaxis\":\"y\",\"type\":\"scatter\"},{\"hovertemplate\":\"cbs_description=Exchangers<br>month_ending=%{x}<br>production_rate=%{y}<extra></extra>\",\"legendgroup\":\"Exchangers\",\"line\":{\"color\":\"#B6E880\",\"dash\":\"solid\"},\"marker\":{\"symbol\":\"circle\"},\"mode\":\"lines\",\"name\":\"Exchangers\",\"orientation\":\"v\",\"showlegend\":true,\"x\":[\"2021-10-31T00:00:00\",\"2021-11-30T00:00:00\",\"2021-12-31T00:00:00\",\"2022-01-31T00:00:00\",\"2022-02-28T00:00:00\",\"2022-03-31T00:00:00\",\"2022-04-30T00:00:00\",\"2022-05-31T00:00:00\",\"2022-06-30T00:00:00\",\"2022-07-31T00:00:00\",\"2022-08-31T00:00:00\",\"2022-09-30T00:00:00\",\"2022-10-31T00:00:00\",\"2022-11-30T00:00:00\",\"2022-12-31T00:00:00\",\"2023-01-31T00:00:00\",\"2023-02-28T00:00:00\",\"2023-03-31T00:00:00\"],\"xaxis\":\"x\",\"y\":[0.0851063829787234,0.1544885177453027,0.2795425219941349,0.1808849970811442,0.4489911504424779,0.14223790446841295,0.10860924993071518,0.05595818379845376,0.1319033279085562,0.11883116208677073,0.16051736304241349,0.21521739870616274,0.2051014687837289,0.24237015826536495,0.16633693895312693,0.10590504175688216,0.057606644518272423,0.05712557808609035],\"yaxis\":\"y\",\"type\":\"scatter\"},{\"hovertemplate\":\"cbs_description=HRSG's<br>month_ending=%{x}<br>production_rate=%{y}<extra></extra>\",\"legendgroup\":\"HRSG's\",\"line\":{\"color\":\"#FF97FF\",\"dash\":\"solid\"},\"marker\":{\"symbol\":\"circle\"},\"mode\":\"lines\",\"name\":\"HRSG's\",\"orientation\":\"v\",\"showlegend\":true,\"x\":[\"2021-10-31T00:00:00\",\"2021-11-30T00:00:00\",\"2021-12-31T00:00:00\",\"2022-01-31T00:00:00\",\"2022-02-28T00:00:00\",\"2022-03-31T00:00:00\",\"2022-04-30T00:00:00\",\"2022-05-31T00:00:00\",\"2022-06-30T00:00:00\",\"2022-07-31T00:00:00\",\"2022-08-31T00:00:00\",\"2022-09-30T00:00:00\",\"2022-10-31T00:00:00\",\"2022-11-30T00:00:00\",\"2022-12-31T00:00:00\",\"2023-01-31T00:00:00\",\"2023-02-28T00:00:00\",\"2023-03-31T00:00:00\",\"2023-04-30T00:00:00\"],\"xaxis\":\"x\",\"y\":[0.6722955145118733,0.3854379977246872,0.24421633554083885,0.05447428374180186,0.15699723993528122,0.0750374027605451,0.053793367071356755,0.0810711672518335,0.15828343294240566,0.21032530852329093,0.4307502110549888,0.19193458836640068,0.1827504520917831,0.15887152903341914,0.18005768957163545,0.1616282177956796,0.14873577249750697,0.14692557573460388,null],\"yaxis\":\"y\",\"type\":\"scatter\"},{\"hovertemplate\":\"cbs_description=Piling - Screw<br>month_ending=%{x}<br>production_rate=%{y}<extra></extra>\",\"legendgroup\":\"Piling - Screw\",\"line\":{\"color\":\"#FECB52\",\"dash\":\"solid\"},\"marker\":{\"symbol\":\"circle\"},\"mode\":\"lines\",\"name\":\"Piling - Screw\",\"orientation\":\"v\",\"showlegend\":true,\"x\":[\"2021-10-31T00:00:00\",\"2021-12-31T00:00:00\",\"2022-04-30T00:00:00\",\"2022-05-31T00:00:00\",\"2022-07-31T00:00:00\",\"2022-11-30T00:00:00\"],\"xaxis\":\"x\",\"y\":[null,null,null,null,null,null],\"yaxis\":\"y\",\"type\":\"scatter\"},{\"hovertemplate\":\"cbs_description=Fired Heaters<br>month_ending=%{x}<br>production_rate=%{y}<extra></extra>\",\"legendgroup\":\"Fired Heaters\",\"line\":{\"color\":\"#636efa\",\"dash\":\"solid\"},\"marker\":{\"symbol\":\"circle\"},\"mode\":\"lines\",\"name\":\"Fired Heaters\",\"orientation\":\"v\",\"showlegend\":true,\"x\":[\"2021-11-30T00:00:00\",\"2021-12-31T00:00:00\",\"2022-01-31T00:00:00\",\"2022-03-31T00:00:00\",\"2022-04-30T00:00:00\",\"2022-05-31T00:00:00\",\"2022-06-30T00:00:00\",\"2022-07-31T00:00:00\",\"2022-08-31T00:00:00\",\"2022-09-30T00:00:00\",\"2022-10-31T00:00:00\",\"2022-11-30T00:00:00\",\"2022-12-31T00:00:00\",\"2023-01-31T00:00:00\",\"2023-02-28T00:00:00\",\"2023-03-31T00:00:00\"],\"xaxis\":\"x\",\"y\":[0.0,0.0,0.0,0.0,0.0,1.8086124401913874,0.6822429906542056,0.02879330943847073,0.4659223300970874,0.07281159420289855,3.421875,null,0.04824324324324325,0.041479289940828404,0.016982097186700768,0.21179941002949856],\"yaxis\":\"y\",\"type\":\"scatter\"},{\"hovertemplate\":\"cbs_description=Steel Welding<br>month_ending=%{x}<br>production_rate=%{y}<extra></extra>\",\"legendgroup\":\"Steel Welding\",\"line\":{\"color\":\"#EF553B\",\"dash\":\"solid\"},\"marker\":{\"symbol\":\"circle\"},\"mode\":\"lines\",\"name\":\"Steel Welding\",\"orientation\":\"v\",\"showlegend\":true,\"x\":[\"2021-11-30T00:00:00\",\"2021-12-31T00:00:00\",\"2022-01-31T00:00:00\",\"2022-02-28T00:00:00\",\"2022-03-31T00:00:00\",\"2022-04-30T00:00:00\",\"2022-05-31T00:00:00\",\"2022-06-30T00:00:00\",\"2022-07-31T00:00:00\",\"2022-08-31T00:00:00\",\"2022-09-30T00:00:00\",\"2022-10-31T00:00:00\",\"2022-11-30T00:00:00\",\"2022-12-31T00:00:00\",\"2023-02-28T00:00:00\"],\"xaxis\":\"x\",\"y\":[0.0,0.0,0.0,0.022457702582368653,0.04865203761755486,0.016374598070739547,0.0,0.005078534031413612,0.0,0.0,0.02272574850299401,0.0,0.0,0.0,0.0],\"yaxis\":\"y\",\"type\":\"scatter\"},{\"hovertemplate\":\"cbs_description=A/G - Carbon Steel (LB)<br>month_ending=%{x}<br>production_rate=%{y}<extra></extra>\",\"legendgroup\":\"A/G - Carbon Steel (LB)\",\"line\":{\"color\":\"#00cc96\",\"dash\":\"solid\"},\"marker\":{\"symbol\":\"circle\"},\"mode\":\"lines\",\"name\":\"A/G - Carbon Steel (LB)\",\"orientation\":\"v\",\"showlegend\":true,\"x\":[\"2021-12-31T00:00:00\",\"2022-01-31T00:00:00\",\"2022-02-28T00:00:00\",\"2022-03-31T00:00:00\",\"2022-04-30T00:00:00\",\"2022-05-31T00:00:00\",\"2022-06-30T00:00:00\",\"2022-07-31T00:00:00\",\"2022-08-31T00:00:00\",\"2022-09-30T00:00:00\",\"2022-10-31T00:00:00\",\"2022-11-30T00:00:00\",\"2022-12-31T00:00:00\",\"2023-01-31T00:00:00\",\"2023-02-28T00:00:00\",\"2023-03-31T00:00:00\",\"2023-04-30T00:00:00\"],\"xaxis\":\"x\",\"y\":[0.1166573191250701,0.21890562440419448,0.09732353443855753,0.460456346749226,0.2061856818650712,0.3784887092940337,0.2533720890115577,0.36106538461538457,0.2609056053134749,0.2644215256518214,0.22938604175021635,0.24912181989733642,0.21635266348665652,0.21759672889160636,0.14616997896767583,0.1615464064552449,null],\"yaxis\":\"y\",\"type\":\"scatter\"},{\"hovertemplate\":\"cbs_description=A/G - Stainless Steel (SB)<br>month_ending=%{x}<br>production_rate=%{y}<extra></extra>\",\"legendgroup\":\"A/G - Stainless Steel (SB)\",\"line\":{\"color\":\"#ab63fa\",\"dash\":\"solid\"},\"marker\":{\"symbol\":\"circle\"},\"mode\":\"lines\",\"name\":\"A/G - Stainless Steel (SB)\",\"orientation\":\"v\",\"showlegend\":true,\"x\":[\"2021-12-31T00:00:00\",\"2022-01-31T00:00:00\",\"2022-02-28T00:00:00\",\"2022-03-31T00:00:00\",\"2022-04-30T00:00:00\",\"2022-05-31T00:00:00\",\"2022-06-30T00:00:00\",\"2022-07-31T00:00:00\",\"2022-08-31T00:00:00\",\"2022-09-30T00:00:00\",\"2022-10-31T00:00:00\",\"2022-11-30T00:00:00\",\"2022-12-31T00:00:00\",\"2023-01-31T00:00:00\",\"2023-02-28T00:00:00\",\"2023-03-31T00:00:00\"],\"xaxis\":\"x\",\"y\":[0.9173913043478261,0.5294117647058824,0.0,0.8403870967741935,0.34885405405405406,0.3808840639082343,0.4990363826572126,1.379291396854764,0.46940982788725366,0.5914557937039517,0.4352093765954443,0.44866881326383573,0.7497178408051236,0.331812578153733,0.31928449663229425,0.6446087621962885],\"yaxis\":\"y\",\"type\":\"scatter\"},{\"hovertemplate\":\"cbs_description=Cable Tray & Supports<br>month_ending=%{x}<br>production_rate=%{y}<extra></extra>\",\"legendgroup\":\"Cable Tray & Supports\",\"line\":{\"color\":\"#FFA15A\",\"dash\":\"solid\"},\"marker\":{\"symbol\":\"circle\"},\"mode\":\"lines\",\"name\":\"Cable Tray & Supports\",\"orientation\":\"v\",\"showlegend\":true,\"x\":[\"2021-12-31T00:00:00\",\"2022-01-31T00:00:00\",\"2022-02-28T00:00:00\",\"2022-03-31T00:00:00\",\"2022-04-30T00:00:00\",\"2022-05-31T00:00:00\",\"2022-06-30T00:00:00\",\"2022-07-31T00:00:00\",\"2022-08-31T00:00:00\",\"2022-09-30T00:00:00\",\"2022-10-31T00:00:00\",\"2022-11-30T00:00:00\",\"2022-12-31T00:00:00\",\"2023-01-31T00:00:00\",\"2023-02-28T00:00:00\",\"2023-03-31T00:00:00\",\"2023-04-30T00:00:00\"],\"xaxis\":\"x\",\"y\":[0.0,0.1825479226655697,0.17536215639178013,0.23056877637130802,0.20541738431507636,0.27426871334943087,0.19477359960751497,0.33266544706151385,0.25770409780241266,0.14425694910546902,0.21622557530361744,0.4303511992390783,0.282772442895822,0.20782954783493432,0.2848567758833455,0.3501582248706288,null],\"yaxis\":\"y\",\"type\":\"scatter\"},{\"hovertemplate\":\"cbs_description=Lights/Recepticles<br>month_ending=%{x}<br>production_rate=%{y}<extra></extra>\",\"legendgroup\":\"Lights/Recepticles\",\"line\":{\"color\":\"#19d3f3\",\"dash\":\"solid\"},\"marker\":{\"symbol\":\"circle\"},\"mode\":\"lines\",\"name\":\"Lights/Recepticles\",\"orientation\":\"v\",\"showlegend\":true,\"x\":[\"2021-12-31T00:00:00\",\"2022-01-31T00:00:00\",\"2022-02-28T00:00:00\",\"2022-04-30T00:00:00\",\"2022-05-31T00:00:00\",\"2022-06-30T00:00:00\",\"2022-07-31T00:00:00\",\"2022-08-31T00:00:00\",\"2022-09-30T00:00:00\",\"2022-10-31T00:00:00\",\"2022-11-30T00:00:00\",\"2022-12-31T00:00:00\",\"2023-01-31T00:00:00\",\"2023-02-28T00:00:00\",\"2023-03-31T00:00:00\"],\"xaxis\":\"x\",\"y\":[0.2191780821917808,0.11594202898550725,0.21621621621621623,0.0851063829787234,0.0831889081455806,0.27932489451476794,0.0840952994204765,0.10255397902529303,0.2360502692998205,0.023378995433789955,0.07834671819334582,0.28174235403151066,0.18920557913887204,0.2848758465011287,0.14027649769585251],\"yaxis\":\"y\",\"type\":\"scatter\"},{\"hovertemplate\":\"cbs_description=Major Electrical Equipment<br>month_ending=%{x}<br>production_rate=%{y}<extra></extra>\",\"legendgroup\":\"Major Electrical Equipment\",\"line\":{\"color\":\"#FF6692\",\"dash\":\"solid\"},\"marker\":{\"symbol\":\"circle\"},\"mode\":\"lines\",\"name\":\"Major Electrical Equipment\",\"orientation\":\"v\",\"showlegend\":true,\"x\":[\"2021-12-31T00:00:00\",\"2022-02-28T00:00:00\",\"2022-03-31T00:00:00\",\"2022-04-30T00:00:00\",\"2022-05-31T00:00:00\",\"2022-06-30T00:00:00\",\"2022-07-31T00:00:00\",\"2022-08-31T00:00:00\",\"2022-09-30T00:00:00\",\"2022-10-31T00:00:00\",\"2022-11-30T00:00:00\",\"2022-12-31T00:00:00\",\"2023-01-31T00:00:00\",\"2023-02-28T00:00:00\",\"2023-03-31T00:00:00\"],\"xaxis\":\"x\",\"y\":[0.0,0.02798708288482239,0.2885572139303483,0.03834344876829704,0.05020120724346076,0.004634994206257242,0.08043478260869565,0.02531645569620253,0.22288438617401668,0.3287305122494432,0.10102040816326531,0.08571428571428572,0.0,0.0,0.018627450980392157],\"yaxis\":\"y\",\"type\":\"scatter\"},{\"hovertemplate\":\"cbs_description=Pumps<br>month_ending=%{x}<br>production_rate=%{y}<extra></extra>\",\"legendgroup\":\"Pumps\",\"line\":{\"color\":\"#B6E880\",\"dash\":\"solid\"},\"marker\":{\"symbol\":\"circle\"},\"mode\":\"lines\",\"name\":\"Pumps\",\"orientation\":\"v\",\"showlegend\":true,\"x\":[\"2021-12-31T00:00:00\",\"2022-01-31T00:00:00\",\"2022-02-28T00:00:00\",\"2022-03-31T00:00:00\",\"2022-04-30T00:00:00\",\"2022-05-31T00:00:00\",\"2022-06-30T00:00:00\",\"2022-07-31T00:00:00\",\"2022-08-31T00:00:00\",\"2022-09-30T00:00:00\",\"2022-10-31T00:00:00\",\"2022-11-30T00:00:00\",\"2022-12-31T00:00:00\",\"2023-01-31T00:00:00\",\"2023-02-28T00:00:00\",\"2023-03-31T00:00:00\"],\"xaxis\":\"x\",\"y\":[0.026174496644295303,0.03301775147928994,0.011111111111111112,0.03395565927654609,0.07650273224043716,0.01839080459770115,0.014663951120162933,0.21534653465346534,null,0.007714561234329798,0.06620080912100038,0.028846153846153848,0.14564967420467614,0.08284023668639054,0.02834008097165992,0.021240916713247623],\"yaxis\":\"y\",\"type\":\"scatter\"},{\"hovertemplate\":\"cbs_description=A/G - Alloy Steel (LB)<br>month_ending=%{x}<br>production_rate=%{y}<extra></extra>\",\"legendgroup\":\"A/G - Alloy Steel (LB)\",\"line\":{\"color\":\"#FF97FF\",\"dash\":\"solid\"},\"marker\":{\"symbol\":\"circle\"},\"mode\":\"lines\",\"name\":\"A/G - Alloy Steel (LB)\",\"orientation\":\"v\",\"showlegend\":true,\"x\":[\"2022-01-31T00:00:00\",\"2022-02-28T00:00:00\",\"2022-03-31T00:00:00\",\"2022-04-30T00:00:00\",\"2022-05-31T00:00:00\",\"2022-06-30T00:00:00\",\"2022-07-31T00:00:00\",\"2022-08-31T00:00:00\",\"2022-09-30T00:00:00\",\"2022-10-31T00:00:00\",\"2022-11-30T00:00:00\",\"2022-12-31T00:00:00\",\"2023-01-31T00:00:00\",\"2023-02-28T00:00:00\",\"2023-03-31T00:00:00\"],\"xaxis\":\"x\",\"y\":[0.1545271629778672,0.037379912663755455,0.1984474804031355,0.1443642732049037,0.6053352713178295,0.12632936507936507,0.1944294871794872,0.43310135135135136,0.27309581646423753,0.2146154546005944,0.30022714930722566,0.2613688031330595,0.12012729745753846,0.19146815809818318,0.11056024710018729],\"yaxis\":\"y\",\"type\":\"scatter\"},{\"hovertemplate\":\"cbs_description=A/G - Carbon Steel (SB)<br>month_ending=%{x}<br>production_rate=%{y}<extra></extra>\",\"legendgroup\":\"A/G - Carbon Steel (SB)\",\"line\":{\"color\":\"#FECB52\",\"dash\":\"solid\"},\"marker\":{\"symbol\":\"circle\"},\"mode\":\"lines\",\"name\":\"A/G - Carbon Steel (SB)\",\"orientation\":\"v\",\"showlegend\":true,\"x\":[\"2022-01-31T00:00:00\",\"2022-02-28T00:00:00\",\"2022-03-31T00:00:00\",\"2022-04-30T00:00:00\",\"2022-05-31T00:00:00\",\"2022-06-30T00:00:00\",\"2022-07-31T00:00:00\",\"2022-08-31T00:00:00\",\"2022-09-30T00:00:00\",\"2022-10-31T00:00:00\",\"2022-11-30T00:00:00\",\"2022-12-31T00:00:00\",\"2023-01-31T00:00:00\",\"2023-02-28T00:00:00\",\"2023-03-31T00:00:00\",\"2023-04-30T00:00:00\"],\"xaxis\":\"x\",\"y\":[0.0,0.0,1.6394460093896714,0.17069299820466785,0.3419532994923858,0.5506520076481836,0.49178863775198534,0.5694135625596943,0.7142245150639703,0.47335051933425104,0.4473973538729113,0.4408522214195412,0.27954536584052814,0.27366107371004555,0.37806737353068837,null],\"yaxis\":\"y\",\"type\":\"scatter\"},{\"hovertemplate\":\"cbs_description=A/G - Stainless Steel (LB)<br>month_ending=%{x}<br>production_rate=%{y}<extra></extra>\",\"legendgroup\":\"A/G - Stainless Steel (LB)\",\"line\":{\"color\":\"#636efa\",\"dash\":\"solid\"},\"marker\":{\"symbol\":\"circle\"},\"mode\":\"lines\",\"name\":\"A/G - Stainless Steel (LB)\",\"orientation\":\"v\",\"showlegend\":true,\"x\":[\"2022-01-31T00:00:00\",\"2022-02-28T00:00:00\",\"2022-03-31T00:00:00\",\"2022-04-30T00:00:00\",\"2022-05-31T00:00:00\",\"2022-06-30T00:00:00\",\"2022-07-31T00:00:00\",\"2022-08-31T00:00:00\",\"2022-09-30T00:00:00\",\"2022-10-31T00:00:00\",\"2022-11-30T00:00:00\",\"2022-12-31T00:00:00\",\"2023-01-31T00:00:00\",\"2023-02-28T00:00:00\",\"2023-03-31T00:00:00\"],\"xaxis\":\"x\",\"y\":[0.21490384615384617,0.10379061371841156,0.7087313237221493,0.13031321933574483,0.38494943820224714,0.38599095899257346,0.44160978048447935,0.2334616686819831,0.4600300866904641,0.37358155515370706,0.27836467920501534,0.22318835579514826,0.08302086072398983,0.13296875,0.12907687927107062],\"yaxis\":\"y\",\"type\":\"scatter\"},{\"hovertemplate\":\"cbs_description=Cladding<br>month_ending=%{x}<br>production_rate=%{y}<extra></extra>\",\"legendgroup\":\"Cladding\",\"line\":{\"color\":\"#EF553B\",\"dash\":\"solid\"},\"marker\":{\"symbol\":\"circle\"},\"mode\":\"lines\",\"name\":\"Cladding\",\"orientation\":\"v\",\"showlegend\":true,\"x\":[\"2022-01-31T00:00:00\",\"2022-02-28T00:00:00\",\"2022-03-31T00:00:00\",\"2022-04-30T00:00:00\",\"2022-05-31T00:00:00\",\"2022-06-30T00:00:00\",\"2022-07-31T00:00:00\",\"2022-08-31T00:00:00\",\"2022-09-30T00:00:00\",\"2022-10-31T00:00:00\",\"2022-11-30T00:00:00\",\"2022-12-31T00:00:00\",\"2023-01-31T00:00:00\",\"2023-02-28T00:00:00\",\"2023-03-31T00:00:00\"],\"xaxis\":\"x\",\"y\":[null,null,148.8122222222222,29.223617021276596,365.33949999999993,87.72204166666666,67.77794366197183,null,0.0,50.02266666666667,86.7848717948718,15.079999999999998,36.97166666666667,133.52301886792452,123.78499999999998],\"yaxis\":\"y\",\"type\":\"scatter\"},{\"hovertemplate\":\"cbs_description=Filters & Strainers<br>month_ending=%{x}<br>production_rate=%{y}<extra></extra>\",\"legendgroup\":\"Filters & Strainers\",\"line\":{\"color\":\"#00cc96\",\"dash\":\"solid\"},\"marker\":{\"symbol\":\"circle\"},\"mode\":\"lines\",\"name\":\"Filters & Strainers\",\"orientation\":\"v\",\"showlegend\":true,\"x\":[\"2022-01-31T00:00:00\",\"2022-02-28T00:00:00\",\"2022-03-31T00:00:00\",\"2022-04-30T00:00:00\",\"2022-05-31T00:00:00\",\"2022-06-30T00:00:00\",\"2022-07-31T00:00:00\",\"2022-08-31T00:00:00\",\"2022-09-30T00:00:00\",\"2022-10-31T00:00:00\",\"2022-11-30T00:00:00\",\"2022-12-31T00:00:00\",\"2023-01-31T00:00:00\",\"2023-02-28T00:00:00\",\"2023-03-31T00:00:00\"],\"xaxis\":\"x\",\"y\":[0.0,0.0,0.0,0.0031852986217457886,0.0006377551020408163,0.03699404761904762,0.02243137254901961,0.0032575820731280325,0.34879444726283265,0.16047091915434175,0.013391313771708798,0.029987135678391962,0.004519225936164865,0.007356347438752784,0.0023603498542274053],\"yaxis\":\"y\",\"type\":\"scatter\"},{\"hovertemplate\":\"cbs_description=Terminations<br>month_ending=%{x}<br>production_rate=%{y}<extra></extra>\",\"legendgroup\":\"Terminations\",\"line\":{\"color\":\"#ab63fa\",\"dash\":\"solid\"},\"marker\":{\"symbol\":\"circle\"},\"mode\":\"lines\",\"name\":\"Terminations\",\"orientation\":\"v\",\"showlegend\":true,\"x\":[\"2022-01-31T00:00:00\",\"2022-02-28T00:00:00\",\"2022-03-31T00:00:00\",\"2022-04-30T00:00:00\",\"2022-05-31T00:00:00\",\"2022-06-30T00:00:00\",\"2022-07-31T00:00:00\",\"2022-08-31T00:00:00\",\"2022-09-30T00:00:00\",\"2022-10-31T00:00:00\",\"2022-11-30T00:00:00\",\"2022-12-31T00:00:00\",\"2023-01-31T00:00:00\",\"2023-02-28T00:00:00\",\"2023-03-31T00:00:00\",\"2023-04-30T00:00:00\"],\"xaxis\":\"x\",\"y\":[0.0,null,null,0.4147239263803681,0.07217573221757322,0.09360995850622407,0.06344671486953787,0.08898702732542091,0.22463134657836645,0.13461304623179227,0.157450027905823,0.30498583605964985,0.27941792086115824,0.5479347237432757,0.47365902293120643,null],\"yaxis\":\"y\",\"type\":\"scatter\"},{\"hovertemplate\":\"cbs_description=A/G - Alloy Steel (SB)<br>month_ending=%{x}<br>production_rate=%{y}<extra></extra>\",\"legendgroup\":\"A/G - Alloy Steel (SB)\",\"line\":{\"color\":\"#FFA15A\",\"dash\":\"solid\"},\"marker\":{\"symbol\":\"circle\"},\"mode\":\"lines\",\"name\":\"A/G - Alloy Steel (SB)\",\"orientation\":\"v\",\"showlegend\":true,\"x\":[\"2022-03-31T00:00:00\",\"2022-04-30T00:00:00\",\"2022-05-31T00:00:00\",\"2022-06-30T00:00:00\",\"2022-07-31T00:00:00\",\"2022-08-31T00:00:00\",\"2022-09-30T00:00:00\",\"2022-10-31T00:00:00\",\"2022-11-30T00:00:00\",\"2022-12-31T00:00:00\",\"2023-01-31T00:00:00\",\"2023-02-28T00:00:00\",\"2023-03-31T00:00:00\"],\"xaxis\":\"x\",\"y\":[null,null,null,null,null,null,0.9688983050847457,6.9532727272727275,0.6121172638436483,0.30964777457572845,0.30546341463414634,0.2589001677852349,0.5608768049155146],\"yaxis\":\"y\",\"type\":\"scatter\"},{\"hovertemplate\":\"cbs_description=Mechanical - Miscellaneous<br>month_ending=%{x}<br>production_rate=%{y}<extra></extra>\",\"legendgroup\":\"Mechanical - Miscellaneous\",\"line\":{\"color\":\"#19d3f3\",\"dash\":\"solid\"},\"marker\":{\"symbol\":\"circle\"},\"mode\":\"lines\",\"name\":\"Mechanical - Miscellaneous\",\"orientation\":\"v\",\"showlegend\":true,\"x\":[\"2022-03-31T00:00:00\",\"2022-04-30T00:00:00\",\"2022-05-31T00:00:00\",\"2022-06-30T00:00:00\",\"2022-07-31T00:00:00\",\"2022-08-31T00:00:00\",\"2022-09-30T00:00:00\",\"2022-10-31T00:00:00\",\"2022-11-30T00:00:00\",\"2022-12-31T00:00:00\",\"2023-01-31T00:00:00\",\"2023-02-28T00:00:00\",\"2023-03-31T00:00:00\"],\"xaxis\":\"x\",\"y\":[0.0,0.14030261348005502,0.21825972313777192,0.27418967587034815,0.3264487369985141,0.2307116104868914,0.43478260869565216,0.13605947955390332,0.199925705794948,0.2708448753462604,0.1096045197740113,0.9523809523809523,null],\"yaxis\":\"y\",\"type\":\"scatter\"},{\"hovertemplate\":\"cbs_description=Piping - Miscellaneous<br>month_ending=%{x}<br>production_rate=%{y}<extra></extra>\",\"legendgroup\":\"Piping - Miscellaneous\",\"line\":{\"color\":\"#FF6692\",\"dash\":\"solid\"},\"marker\":{\"symbol\":\"circle\"},\"mode\":\"lines\",\"name\":\"Piping - Miscellaneous\",\"orientation\":\"v\",\"showlegend\":true,\"x\":[\"2022-03-31T00:00:00\",\"2022-04-30T00:00:00\",\"2022-05-31T00:00:00\",\"2022-06-30T00:00:00\",\"2022-07-31T00:00:00\",\"2022-08-31T00:00:00\",\"2022-09-30T00:00:00\",\"2022-10-31T00:00:00\",\"2022-11-30T00:00:00\",\"2022-12-31T00:00:00\",\"2023-01-31T00:00:00\",\"2023-02-28T00:00:00\",\"2023-03-31T00:00:00\"],\"xaxis\":\"x\",\"y\":[0.39552238805970147,0.6855417138542846,1.1858703312191685,0.9208348326736236,1.312741887466508,1.0425806451612902,1.5358627858627858,0.3943931873479319,1.2933796296296298,0.887197099405781,0.20332971014492757,0.3881517222892374,0.25436183885318836],\"yaxis\":\"y\",\"type\":\"scatter\"},{\"hovertemplate\":\"cbs_description=Transformers<br>month_ending=%{x}<br>production_rate=%{y}<extra></extra>\",\"legendgroup\":\"Transformers\",\"line\":{\"color\":\"#B6E880\",\"dash\":\"solid\"},\"marker\":{\"symbol\":\"circle\"},\"mode\":\"lines\",\"name\":\"Transformers\",\"orientation\":\"v\",\"showlegend\":true,\"x\":[\"2022-03-31T00:00:00\",\"2022-06-30T00:00:00\",\"2022-07-31T00:00:00\",\"2022-08-31T00:00:00\",\"2022-09-30T00:00:00\",\"2022-10-31T00:00:00\",\"2022-11-30T00:00:00\",\"2022-12-31T00:00:00\",\"2023-01-31T00:00:00\",\"2023-02-28T00:00:00\",\"2023-03-31T00:00:00\",\"2023-04-30T00:00:00\"],\"xaxis\":\"x\",\"y\":[0.0,0.3050847457627119,0.21084337349397592,0.5182,0.1651207729468599,0.8275862068965517,0.875,null,null,0.14754098360655737,1.0869565217391304,null],\"yaxis\":\"y\",\"type\":\"scatter\"},{\"hovertemplate\":\"cbs_description=Cable - HV<br>month_ending=%{x}<br>production_rate=%{y}<extra></extra>\",\"legendgroup\":\"Cable - HV\",\"line\":{\"color\":\"#FF97FF\",\"dash\":\"solid\"},\"marker\":{\"symbol\":\"circle\"},\"mode\":\"lines\",\"name\":\"Cable - HV\",\"orientation\":\"v\",\"showlegend\":true,\"x\":[\"2022-04-30T00:00:00\",\"2022-05-31T00:00:00\",\"2022-06-30T00:00:00\",\"2022-07-31T00:00:00\",\"2022-08-31T00:00:00\",\"2022-09-30T00:00:00\",\"2022-10-31T00:00:00\",\"2022-12-31T00:00:00\",\"2023-01-31T00:00:00\",\"2023-02-28T00:00:00\",\"2023-03-31T00:00:00\"],\"xaxis\":\"x\",\"y\":[1.5334913793103448,11.205714285714285,0.32917115177610334,2.0466421343146273,1.1177223570955641,0.0,0.0,null,0.0,437.8205128205128,null],\"yaxis\":\"y\",\"type\":\"scatter\"},{\"hovertemplate\":\"cbs_description=Compressors<br>month_ending=%{x}<br>production_rate=%{y}<extra></extra>\",\"legendgroup\":\"Compressors\",\"line\":{\"color\":\"#FECB52\",\"dash\":\"solid\"},\"marker\":{\"symbol\":\"circle\"},\"mode\":\"lines\",\"name\":\"Compressors\",\"orientation\":\"v\",\"showlegend\":true,\"x\":[\"2022-04-30T00:00:00\",\"2022-05-31T00:00:00\",\"2022-07-31T00:00:00\",\"2022-11-30T00:00:00\"],\"xaxis\":\"x\",\"y\":[0.0,null,0.0,0.0],\"yaxis\":\"y\",\"type\":\"scatter\"},{\"hovertemplate\":\"cbs_description=Communication<br>month_ending=%{x}<br>production_rate=%{y}<extra></extra>\",\"legendgroup\":\"Communication\",\"line\":{\"color\":\"#636efa\",\"dash\":\"solid\"},\"marker\":{\"symbol\":\"circle\"},\"mode\":\"lines\",\"name\":\"Communication\",\"orientation\":\"v\",\"showlegend\":true,\"x\":[\"2022-05-31T00:00:00\",\"2022-06-30T00:00:00\",\"2022-07-31T00:00:00\",\"2022-08-31T00:00:00\",\"2022-09-30T00:00:00\",\"2022-10-31T00:00:00\",\"2022-11-30T00:00:00\",\"2022-12-31T00:00:00\",\"2023-01-31T00:00:00\",\"2023-02-28T00:00:00\"],\"xaxis\":\"x\",\"y\":[0.05783173996175909,2.2158379037172455,0.3112830594378744,0.5650892215568862,0.9739758241758243,8.466826666666666,0.6732076023391813,1.409099099099099,7.684375,null],\"yaxis\":\"y\",\"type\":\"scatter\"},{\"hovertemplate\":\"cbs_description=Extra Work - Miscellaneous<br>month_ending=%{x}<br>production_rate=%{y}<extra></extra>\",\"legendgroup\":\"Extra Work - Miscellaneous\",\"line\":{\"color\":\"#EF553B\",\"dash\":\"solid\"},\"marker\":{\"symbol\":\"circle\"},\"mode\":\"lines\",\"name\":\"Extra Work - Miscellaneous\",\"orientation\":\"v\",\"showlegend\":true,\"x\":[\"2022-05-31T00:00:00\",\"2022-09-30T00:00:00\",\"2022-10-31T00:00:00\",\"2023-02-28T00:00:00\",\"2023-03-31T00:00:00\"],\"xaxis\":\"x\",\"y\":[0.0,0.0,null,null,null],\"yaxis\":\"y\",\"type\":\"scatter\"},{\"hovertemplate\":\"cbs_description=Instrumentation - Miscellaneous<br>month_ending=%{x}<br>production_rate=%{y}<extra></extra>\",\"legendgroup\":\"Instrumentation - Miscellaneous\",\"line\":{\"color\":\"#00cc96\",\"dash\":\"solid\"},\"marker\":{\"symbol\":\"circle\"},\"mode\":\"lines\",\"name\":\"Instrumentation - Miscellaneous\",\"orientation\":\"v\",\"showlegend\":true,\"x\":[\"2022-06-30T00:00:00\",\"2022-07-31T00:00:00\",\"2022-08-31T00:00:00\",\"2022-09-30T00:00:00\",\"2022-10-31T00:00:00\",\"2022-11-30T00:00:00\",\"2022-12-31T00:00:00\",\"2023-01-31T00:00:00\",\"2023-02-28T00:00:00\",\"2023-03-31T00:00:00\",\"2023-04-30T00:00:00\"],\"xaxis\":\"x\",\"y\":[0.0,0.0,1.018348623853211,0.18278615794143743,0.2818380743982494,0.3368734069668649,0.3287267969580505,0.6038920276208412,0.6245029239766082,0.6419293993677556,null],\"yaxis\":\"y\",\"type\":\"scatter\"},{\"hovertemplate\":\"cbs_description=Steel - Miscellaneous<br>month_ending=%{x}<br>production_rate=%{y}<extra></extra>\",\"legendgroup\":\"Steel - Miscellaneous\",\"line\":{\"color\":\"#ab63fa\",\"dash\":\"solid\"},\"marker\":{\"symbol\":\"circle\"},\"mode\":\"lines\",\"name\":\"Steel - Miscellaneous\",\"orientation\":\"v\",\"showlegend\":true,\"x\":[\"2022-06-30T00:00:00\",\"2022-07-31T00:00:00\",\"2022-08-31T00:00:00\",\"2022-09-30T00:00:00\",\"2022-10-31T00:00:00\",\"2022-11-30T00:00:00\",\"2022-12-31T00:00:00\",\"2023-01-31T00:00:00\",\"2023-02-28T00:00:00\",\"2023-03-31T00:00:00\"],\"xaxis\":\"x\",\"y\":[0.0,0.0,0.0,0.006205398696866274,0.00290518211860406,0.21954939176228092,0.13911284544524052,0.09636813694359449,0.13806320252726145,0.23076923076923078],\"yaxis\":\"y\",\"type\":\"scatter\"},{\"hovertemplate\":\"cbs_description=Switchgear<br>month_ending=%{x}<br>production_rate=%{y}<extra></extra>\",\"legendgroup\":\"Switchgear\",\"line\":{\"color\":\"#FFA15A\",\"dash\":\"solid\"},\"marker\":{\"symbol\":\"circle\"},\"mode\":\"lines\",\"name\":\"Switchgear\",\"orientation\":\"v\",\"showlegend\":true,\"x\":[\"2022-06-30T00:00:00\",\"2022-07-31T00:00:00\",\"2022-08-31T00:00:00\",\"2022-09-30T00:00:00\",\"2022-10-31T00:00:00\",\"2022-11-30T00:00:00\",\"2022-12-31T00:00:00\",\"2023-01-31T00:00:00\",\"2023-02-28T00:00:00\",\"2023-03-31T00:00:00\",\"2023-04-30T00:00:00\"],\"xaxis\":\"x\",\"y\":[0.0,2.3424242424242423,2.534375,0.0858974358974359,0.3274596182085169,0.08166037735849056,0.23604938271604933,0.1461696373693915,0.227921568627451,0.2546201232032854,null],\"yaxis\":\"y\",\"type\":\"scatter\"},{\"hovertemplate\":\"cbs_description=Backcharge<br>month_ending=%{x}<br>production_rate=%{y}<extra></extra>\",\"legendgroup\":\"Backcharge\",\"line\":{\"color\":\"#19d3f3\",\"dash\":\"solid\"},\"marker\":{\"symbol\":\"circle\"},\"mode\":\"lines\",\"name\":\"Backcharge\",\"orientation\":\"v\",\"showlegend\":true,\"x\":[\"2022-07-31T00:00:00\",\"2022-08-31T00:00:00\",\"2022-09-30T00:00:00\",\"2022-10-31T00:00:00\",\"2022-11-30T00:00:00\",\"2022-12-31T00:00:00\",\"2023-01-31T00:00:00\"],\"xaxis\":\"x\",\"y\":[0.0,4.246929577464789,0.022321428571428572,1.9053521126760564,null,null,0.0],\"yaxis\":\"y\",\"type\":\"scatter\"},{\"hovertemplate\":\"cbs_description=Rework<br>month_ending=%{x}<br>production_rate=%{y}<extra></extra>\",\"legendgroup\":\"Rework\",\"line\":{\"color\":\"#FF6692\",\"dash\":\"solid\"},\"marker\":{\"symbol\":\"circle\"},\"mode\":\"lines\",\"name\":\"Rework\",\"orientation\":\"v\",\"showlegend\":true,\"x\":[\"2022-07-31T00:00:00\",\"2022-08-31T00:00:00\",\"2022-09-30T00:00:00\",\"2022-10-31T00:00:00\",\"2022-11-30T00:00:00\",\"2022-12-31T00:00:00\",\"2023-01-31T00:00:00\",\"2023-02-28T00:00:00\",\"2023-03-31T00:00:00\"],\"xaxis\":\"x\",\"y\":[0.0,0.0,1.2987012987012988e-05,0.9133078311079034,0.25102124183006536,0.492756064690027,0.1865262126408623,0.4622402059959536,0.41434624697336564],\"yaxis\":\"y\",\"type\":\"scatter\"},{\"hovertemplate\":\"cbs_description=HVAC<br>month_ending=%{x}<br>production_rate=%{y}<extra></extra>\",\"legendgroup\":\"HVAC\",\"line\":{\"color\":\"#B6E880\",\"dash\":\"solid\"},\"marker\":{\"symbol\":\"circle\"},\"mode\":\"lines\",\"name\":\"HVAC\",\"orientation\":\"v\",\"showlegend\":true,\"x\":[\"2022-08-31T00:00:00\",\"2022-09-30T00:00:00\",\"2022-10-31T00:00:00\",\"2022-11-30T00:00:00\",\"2022-12-31T00:00:00\",\"2023-01-31T00:00:00\",\"2023-02-28T00:00:00\",\"2023-03-31T00:00:00\"],\"xaxis\":\"x\",\"y\":[null,0.0,0.0,null,null,null,0.1125,null],\"yaxis\":\"y\",\"type\":\"scatter\"},{\"hovertemplate\":\"cbs_description=Piping - Extra Work<br>month_ending=%{x}<br>production_rate=%{y}<extra></extra>\",\"legendgroup\":\"Piping - Extra Work\",\"line\":{\"color\":\"#FF97FF\",\"dash\":\"solid\"},\"marker\":{\"symbol\":\"circle\"},\"mode\":\"lines\",\"name\":\"Piping - Extra Work\",\"orientation\":\"v\",\"showlegend\":true,\"x\":[\"2022-08-31T00:00:00\",\"2022-10-31T00:00:00\"],\"xaxis\":\"x\",\"y\":[0.0,null],\"yaxis\":\"y\",\"type\":\"scatter\"},{\"hovertemplate\":\"cbs_description=Precommissionong<br>month_ending=%{x}<br>production_rate=%{y}<extra></extra>\",\"legendgroup\":\"Precommissionong\",\"line\":{\"color\":\"#FECB52\",\"dash\":\"solid\"},\"marker\":{\"symbol\":\"circle\"},\"mode\":\"lines\",\"name\":\"Precommissionong\",\"orientation\":\"v\",\"showlegend\":true,\"x\":[\"2022-08-31T00:00:00\",\"2022-10-31T00:00:00\",\"2022-11-30T00:00:00\",\"2022-12-31T00:00:00\",\"2023-01-31T00:00:00\",\"2023-02-28T00:00:00\",\"2023-03-31T00:00:00\"],\"xaxis\":\"x\",\"y\":[0.0,0.0,0.0,0.0,0.0,0.0,3.5066115702479337],\"yaxis\":\"y\",\"type\":\"scatter\"},{\"hovertemplate\":\"cbs_description=Tubing/Raceway/Supports<br>month_ending=%{x}<br>production_rate=%{y}<extra></extra>\",\"legendgroup\":\"Tubing/Raceway/Supports\",\"line\":{\"color\":\"#636efa\",\"dash\":\"solid\"},\"marker\":{\"symbol\":\"circle\"},\"mode\":\"lines\",\"name\":\"Tubing/Raceway/Supports\",\"orientation\":\"v\",\"showlegend\":true,\"x\":[\"2022-08-31T00:00:00\",\"2022-09-30T00:00:00\",\"2022-10-31T00:00:00\",\"2022-11-30T00:00:00\",\"2022-12-31T00:00:00\",\"2023-01-31T00:00:00\",\"2023-02-28T00:00:00\",\"2023-03-31T00:00:00\",\"2023-04-30T00:00:00\"],\"xaxis\":\"x\",\"y\":[null,0.8581967213114754,0.9729135802469134,0.7681923551171395,0.5879153633854647,0.36081329252295574,0.8004878048780488,0.4648649164677804,null],\"yaxis\":\"y\",\"type\":\"scatter\"},{\"hovertemplate\":\"cbs_description=Fibre Optics<br>month_ending=%{x}<br>production_rate=%{y}<extra></extra>\",\"legendgroup\":\"Fibre Optics\",\"line\":{\"color\":\"#EF553B\",\"dash\":\"solid\"},\"marker\":{\"symbol\":\"circle\"},\"mode\":\"lines\",\"name\":\"Fibre Optics\",\"orientation\":\"v\",\"showlegend\":true,\"x\":[\"2022-09-30T00:00:00\",\"2022-10-31T00:00:00\",\"2022-11-30T00:00:00\",\"2022-12-31T00:00:00\",\"2023-01-31T00:00:00\",\"2023-02-28T00:00:00\",\"2023-03-31T00:00:00\"],\"xaxis\":\"x\",\"y\":[null,3.365111561866126,6.240089211039866,9.194285714285714,3.9722137404580153,3.838862559241706,7.698360655737705],\"yaxis\":\"y\",\"type\":\"scatter\"},{\"hovertemplate\":\"cbs_description=EHT<br>month_ending=%{x}<br>production_rate=%{y}<extra></extra>\",\"legendgroup\":\"EHT\",\"line\":{\"color\":\"#00cc96\",\"dash\":\"solid\"},\"marker\":{\"symbol\":\"circle\"},\"mode\":\"lines\",\"name\":\"EHT\",\"orientation\":\"v\",\"showlegend\":true,\"x\":[\"2022-10-31T00:00:00\",\"2022-11-30T00:00:00\",\"2022-12-31T00:00:00\",\"2023-01-31T00:00:00\",\"2023-02-28T00:00:00\",\"2023-03-31T00:00:00\",\"2023-04-30T00:00:00\"],\"xaxis\":\"x\",\"y\":[0.0,1.114772568229531,3.4073271436373567,2.6586443514644356,1.0140270727580374,2.0298152369526092,null],\"yaxis\":\"y\",\"type\":\"scatter\"},{\"hovertemplate\":\"cbs_description=Bench Testing / Calibration<br>month_ending=%{x}<br>production_rate=%{y}<extra></extra>\",\"legendgroup\":\"Bench Testing / Calibration\",\"line\":{\"color\":\"#ab63fa\",\"dash\":\"solid\"},\"marker\":{\"symbol\":\"circle\"},\"mode\":\"lines\",\"name\":\"Bench Testing / Calibration\",\"orientation\":\"v\",\"showlegend\":true,\"x\":[\"2022-12-31T00:00:00\",\"2023-01-31T00:00:00\",\"2023-02-28T00:00:00\",\"2023-03-31T00:00:00\"],\"xaxis\":\"x\",\"y\":[1.8,2.0,1.0819672131147542,null],\"yaxis\":\"y\",\"type\":\"scatter\"},{\"hovertemplate\":\"cbs_description=Fire & Smoke Detection<br>month_ending=%{x}<br>production_rate=%{y}<extra></extra>\",\"legendgroup\":\"Fire & Smoke Detection\",\"line\":{\"color\":\"#FFA15A\",\"dash\":\"solid\"},\"marker\":{\"symbol\":\"circle\"},\"mode\":\"lines\",\"name\":\"Fire & Smoke Detection\",\"orientation\":\"v\",\"showlegend\":true,\"x\":[\"2023-02-28T00:00:00\",\"2023-03-31T00:00:00\"],\"xaxis\":\"x\",\"y\":[0.0,0.22310756972111553],\"yaxis\":\"y\",\"type\":\"scatter\"},{\"hovertemplate\":\"cbs_description=Fireproofing<br>month_ending=%{x}<br>production_rate=%{y}<extra></extra>\",\"legendgroup\":\"Fireproofing\",\"line\":{\"color\":\"#19d3f3\",\"dash\":\"solid\"},\"marker\":{\"symbol\":\"circle\"},\"mode\":\"lines\",\"name\":\"Fireproofing\",\"orientation\":\"v\",\"showlegend\":true,\"x\":[\"2023-02-28T00:00:00\",\"2023-03-31T00:00:00\"],\"xaxis\":\"x\",\"y\":[null,null],\"yaxis\":\"y\",\"type\":\"scatter\"}],                        {\"template\":{\"data\":{\"bar\":[{\"error_x\":{\"color\":\"#2a3f5f\"},\"error_y\":{\"color\":\"#2a3f5f\"},\"marker\":{\"line\":{\"color\":\"#E5ECF6\",\"width\":0.5},\"pattern\":{\"fillmode\":\"overlay\",\"size\":10,\"solidity\":0.2}},\"type\":\"bar\"}],\"barpolar\":[{\"marker\":{\"line\":{\"color\":\"#E5ECF6\",\"width\":0.5},\"pattern\":{\"fillmode\":\"overlay\",\"size\":10,\"solidity\":0.2}},\"type\":\"barpolar\"}],\"carpet\":[{\"aaxis\":{\"endlinecolor\":\"#2a3f5f\",\"gridcolor\":\"white\",\"linecolor\":\"white\",\"minorgridcolor\":\"white\",\"startlinecolor\":\"#2a3f5f\"},\"baxis\":{\"endlinecolor\":\"#2a3f5f\",\"gridcolor\":\"white\",\"linecolor\":\"white\",\"minorgridcolor\":\"white\",\"startlinecolor\":\"#2a3f5f\"},\"type\":\"carpet\"}],\"choropleth\":[{\"colorbar\":{\"outlinewidth\":0,\"ticks\":\"\"},\"type\":\"choropleth\"}],\"contour\":[{\"colorbar\":{\"outlinewidth\":0,\"ticks\":\"\"},\"colorscale\":[[0.0,\"#0d0887\"],[0.1111111111111111,\"#46039f\"],[0.2222222222222222,\"#7201a8\"],[0.3333333333333333,\"#9c179e\"],[0.4444444444444444,\"#bd3786\"],[0.5555555555555556,\"#d8576b\"],[0.6666666666666666,\"#ed7953\"],[0.7777777777777778,\"#fb9f3a\"],[0.8888888888888888,\"#fdca26\"],[1.0,\"#f0f921\"]],\"type\":\"contour\"}],\"contourcarpet\":[{\"colorbar\":{\"outlinewidth\":0,\"ticks\":\"\"},\"type\":\"contourcarpet\"}],\"heatmap\":[{\"colorbar\":{\"outlinewidth\":0,\"ticks\":\"\"},\"colorscale\":[[0.0,\"#0d0887\"],[0.1111111111111111,\"#46039f\"],[0.2222222222222222,\"#7201a8\"],[0.3333333333333333,\"#9c179e\"],[0.4444444444444444,\"#bd3786\"],[0.5555555555555556,\"#d8576b\"],[0.6666666666666666,\"#ed7953\"],[0.7777777777777778,\"#fb9f3a\"],[0.8888888888888888,\"#fdca26\"],[1.0,\"#f0f921\"]],\"type\":\"heatmap\"}],\"heatmapgl\":[{\"colorbar\":{\"outlinewidth\":0,\"ticks\":\"\"},\"colorscale\":[[0.0,\"#0d0887\"],[0.1111111111111111,\"#46039f\"],[0.2222222222222222,\"#7201a8\"],[0.3333333333333333,\"#9c179e\"],[0.4444444444444444,\"#bd3786\"],[0.5555555555555556,\"#d8576b\"],[0.6666666666666666,\"#ed7953\"],[0.7777777777777778,\"#fb9f3a\"],[0.8888888888888888,\"#fdca26\"],[1.0,\"#f0f921\"]],\"type\":\"heatmapgl\"}],\"histogram\":[{\"marker\":{\"pattern\":{\"fillmode\":\"overlay\",\"size\":10,\"solidity\":0.2}},\"type\":\"histogram\"}],\"histogram2d\":[{\"colorbar\":{\"outlinewidth\":0,\"ticks\":\"\"},\"colorscale\":[[0.0,\"#0d0887\"],[0.1111111111111111,\"#46039f\"],[0.2222222222222222,\"#7201a8\"],[0.3333333333333333,\"#9c179e\"],[0.4444444444444444,\"#bd3786\"],[0.5555555555555556,\"#d8576b\"],[0.6666666666666666,\"#ed7953\"],[0.7777777777777778,\"#fb9f3a\"],[0.8888888888888888,\"#fdca26\"],[1.0,\"#f0f921\"]],\"type\":\"histogram2d\"}],\"histogram2dcontour\":[{\"colorbar\":{\"outlinewidth\":0,\"ticks\":\"\"},\"colorscale\":[[0.0,\"#0d0887\"],[0.1111111111111111,\"#46039f\"],[0.2222222222222222,\"#7201a8\"],[0.3333333333333333,\"#9c179e\"],[0.4444444444444444,\"#bd3786\"],[0.5555555555555556,\"#d8576b\"],[0.6666666666666666,\"#ed7953\"],[0.7777777777777778,\"#fb9f3a\"],[0.8888888888888888,\"#fdca26\"],[1.0,\"#f0f921\"]],\"type\":\"histogram2dcontour\"}],\"mesh3d\":[{\"colorbar\":{\"outlinewidth\":0,\"ticks\":\"\"},\"type\":\"mesh3d\"}],\"parcoords\":[{\"line\":{\"colorbar\":{\"outlinewidth\":0,\"ticks\":\"\"}},\"type\":\"parcoords\"}],\"pie\":[{\"automargin\":true,\"type\":\"pie\"}],\"scatter\":[{\"marker\":{\"colorbar\":{\"outlinewidth\":0,\"ticks\":\"\"}},\"type\":\"scatter\"}],\"scatter3d\":[{\"line\":{\"colorbar\":{\"outlinewidth\":0,\"ticks\":\"\"}},\"marker\":{\"colorbar\":{\"outlinewidth\":0,\"ticks\":\"\"}},\"type\":\"scatter3d\"}],\"scattercarpet\":[{\"marker\":{\"colorbar\":{\"outlinewidth\":0,\"ticks\":\"\"}},\"type\":\"scattercarpet\"}],\"scattergeo\":[{\"marker\":{\"colorbar\":{\"outlinewidth\":0,\"ticks\":\"\"}},\"type\":\"scattergeo\"}],\"scattergl\":[{\"marker\":{\"colorbar\":{\"outlinewidth\":0,\"ticks\":\"\"}},\"type\":\"scattergl\"}],\"scattermapbox\":[{\"marker\":{\"colorbar\":{\"outlinewidth\":0,\"ticks\":\"\"}},\"type\":\"scattermapbox\"}],\"scatterpolar\":[{\"marker\":{\"colorbar\":{\"outlinewidth\":0,\"ticks\":\"\"}},\"type\":\"scatterpolar\"}],\"scatterpolargl\":[{\"marker\":{\"colorbar\":{\"outlinewidth\":0,\"ticks\":\"\"}},\"type\":\"scatterpolargl\"}],\"scatterternary\":[{\"marker\":{\"colorbar\":{\"outlinewidth\":0,\"ticks\":\"\"}},\"type\":\"scatterternary\"}],\"surface\":[{\"colorbar\":{\"outlinewidth\":0,\"ticks\":\"\"},\"colorscale\":[[0.0,\"#0d0887\"],[0.1111111111111111,\"#46039f\"],[0.2222222222222222,\"#7201a8\"],[0.3333333333333333,\"#9c179e\"],[0.4444444444444444,\"#bd3786\"],[0.5555555555555556,\"#d8576b\"],[0.6666666666666666,\"#ed7953\"],[0.7777777777777778,\"#fb9f3a\"],[0.8888888888888888,\"#fdca26\"],[1.0,\"#f0f921\"]],\"type\":\"surface\"}],\"table\":[{\"cells\":{\"fill\":{\"color\":\"#EBF0F8\"},\"line\":{\"color\":\"white\"}},\"header\":{\"fill\":{\"color\":\"#C8D4E3\"},\"line\":{\"color\":\"white\"}},\"type\":\"table\"}]},\"layout\":{\"annotationdefaults\":{\"arrowcolor\":\"#2a3f5f\",\"arrowhead\":0,\"arrowwidth\":1},\"autotypenumbers\":\"strict\",\"coloraxis\":{\"colorbar\":{\"outlinewidth\":0,\"ticks\":\"\"}},\"colorscale\":{\"diverging\":[[0,\"#8e0152\"],[0.1,\"#c51b7d\"],[0.2,\"#de77ae\"],[0.3,\"#f1b6da\"],[0.4,\"#fde0ef\"],[0.5,\"#f7f7f7\"],[0.6,\"#e6f5d0\"],[0.7,\"#b8e186\"],[0.8,\"#7fbc41\"],[0.9,\"#4d9221\"],[1,\"#276419\"]],\"sequential\":[[0.0,\"#0d0887\"],[0.1111111111111111,\"#46039f\"],[0.2222222222222222,\"#7201a8\"],[0.3333333333333333,\"#9c179e\"],[0.4444444444444444,\"#bd3786\"],[0.5555555555555556,\"#d8576b\"],[0.6666666666666666,\"#ed7953\"],[0.7777777777777778,\"#fb9f3a\"],[0.8888888888888888,\"#fdca26\"],[1.0,\"#f0f921\"]],\"sequentialminus\":[[0.0,\"#0d0887\"],[0.1111111111111111,\"#46039f\"],[0.2222222222222222,\"#7201a8\"],[0.3333333333333333,\"#9c179e\"],[0.4444444444444444,\"#bd3786\"],[0.5555555555555556,\"#d8576b\"],[0.6666666666666666,\"#ed7953\"],[0.7777777777777778,\"#fb9f3a\"],[0.8888888888888888,\"#fdca26\"],[1.0,\"#f0f921\"]]},\"colorway\":[\"#636efa\",\"#EF553B\",\"#00cc96\",\"#ab63fa\",\"#FFA15A\",\"#19d3f3\",\"#FF6692\",\"#B6E880\",\"#FF97FF\",\"#FECB52\"],\"font\":{\"color\":\"#2a3f5f\"},\"geo\":{\"bgcolor\":\"white\",\"lakecolor\":\"white\",\"landcolor\":\"#E5ECF6\",\"showlakes\":true,\"showland\":true,\"subunitcolor\":\"white\"},\"hoverlabel\":{\"align\":\"left\"},\"hovermode\":\"closest\",\"mapbox\":{\"style\":\"light\"},\"paper_bgcolor\":\"white\",\"plot_bgcolor\":\"#E5ECF6\",\"polar\":{\"angularaxis\":{\"gridcolor\":\"white\",\"linecolor\":\"white\",\"ticks\":\"\"},\"bgcolor\":\"#E5ECF6\",\"radialaxis\":{\"gridcolor\":\"white\",\"linecolor\":\"white\",\"ticks\":\"\"}},\"scene\":{\"xaxis\":{\"backgroundcolor\":\"#E5ECF6\",\"gridcolor\":\"white\",\"gridwidth\":2,\"linecolor\":\"white\",\"showbackground\":true,\"ticks\":\"\",\"zerolinecolor\":\"white\"},\"yaxis\":{\"backgroundcolor\":\"#E5ECF6\",\"gridcolor\":\"white\",\"gridwidth\":2,\"linecolor\":\"white\",\"showbackground\":true,\"ticks\":\"\",\"zerolinecolor\":\"white\"},\"zaxis\":{\"backgroundcolor\":\"#E5ECF6\",\"gridcolor\":\"white\",\"gridwidth\":2,\"linecolor\":\"white\",\"showbackground\":true,\"ticks\":\"\",\"zerolinecolor\":\"white\"}},\"shapedefaults\":{\"line\":{\"color\":\"#2a3f5f\"}},\"ternary\":{\"aaxis\":{\"gridcolor\":\"white\",\"linecolor\":\"white\",\"ticks\":\"\"},\"baxis\":{\"gridcolor\":\"white\",\"linecolor\":\"white\",\"ticks\":\"\"},\"bgcolor\":\"#E5ECF6\",\"caxis\":{\"gridcolor\":\"white\",\"linecolor\":\"white\",\"ticks\":\"\"}},\"title\":{\"x\":0.05},\"xaxis\":{\"automargin\":true,\"gridcolor\":\"white\",\"linecolor\":\"white\",\"ticks\":\"\",\"title\":{\"standoff\":15},\"zerolinecolor\":\"white\",\"zerolinewidth\":2},\"yaxis\":{\"automargin\":true,\"gridcolor\":\"white\",\"linecolor\":\"white\",\"ticks\":\"\",\"title\":{\"standoff\":15},\"zerolinecolor\":\"white\",\"zerolinewidth\":2}}},\"xaxis\":{\"anchor\":\"y\",\"domain\":[0.0,1.0],\"title\":{\"text\":\"month_ending\"}},\"yaxis\":{\"anchor\":\"x\",\"domain\":[0.0,1.0],\"title\":{\"text\":\"production_rate\"}},\"legend\":{\"title\":{\"text\":\"cbs_description\"},\"tracegroupgap\":0},\"margin\":{\"t\":60}},                        {\"responsive\": true}                    ).then(function(){\n",
       "                            \n",
       "var gd = document.getElementById('ea900fcd-934b-408a-8a57-0c7037e01db2');\n",
       "var x = new MutationObserver(function (mutations, observer) {{\n",
       "        var display = window.getComputedStyle(gd).display;\n",
       "        if (!display || display === 'none') {{\n",
       "            console.log([gd, 'removed!']);\n",
       "            Plotly.purge(gd);\n",
       "            observer.disconnect();\n",
       "        }}\n",
       "}});\n",
       "\n",
       "// Listen for the removal of the full notebook cells\n",
       "var notebookContainer = gd.closest('#notebook-container');\n",
       "if (notebookContainer) {{\n",
       "    x.observe(notebookContainer, {childList: true});\n",
       "}}\n",
       "\n",
       "// Listen for the clearing of the current output cell\n",
       "var outputEl = gd.closest('.output');\n",
       "if (outputEl) {{\n",
       "    x.observe(outputEl, {childList: true});\n",
       "}}\n",
       "\n",
       "                        })                };                });            </script>        </div>"
      ]
     },
     "metadata": {},
     "output_type": "display_data"
    }
   ],
   "source": [
    "fig = px.line(merged_df_by_month, x=\"month_ending\", y=\"production_rate\", color=\"cbs_description\")\n",
    "fig.show()"
   ]
  },
  {
   "cell_type": "markdown",
   "id": "9eccc285-01bd-4d1c-acf5-b7ed616c1749",
   "metadata": {},
   "source": [
    "## Conclusion"
   ]
  },
  {
   "cell_type": "markdown",
   "id": "4f1e7f03-6b6e-4f05-b7b1-8c2937b94c61",
   "metadata": {},
   "source": [
    "In this notebook, we practiced some common data wrangling techniques using Python and the Pandas library. "
   ]
  },
  {
   "cell_type": "code",
   "execution_count": null,
   "id": "e9bfe325-0424-4ab4-b595-253f2df5dba6",
   "metadata": {},
   "outputs": [],
   "source": []
  }
 ],
 "metadata": {
  "kernelspec": {
   "display_name": "Python 3 (ipykernel)",
   "language": "python",
   "name": "python3"
  },
  "language_info": {
   "codemirror_mode": {
    "name": "ipython",
    "version": 3
   },
   "file_extension": ".py",
   "mimetype": "text/x-python",
   "name": "python",
   "nbconvert_exporter": "python",
   "pygments_lexer": "ipython3",
   "version": "3.10.4"
  }
 },
 "nbformat": 4,
 "nbformat_minor": 5
}
